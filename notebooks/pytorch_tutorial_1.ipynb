{
  "nbformat": 4,
  "nbformat_minor": 0,
  "metadata": {
    "colab": {
      "name": "pytorch_tutorial_1.ipynb",
      "provenance": [],
      "include_colab_link": true
    },
    "kernelspec": {
      "name": "python3",
      "display_name": "Python 3"
    },
    "language_info": {
      "name": "python"
    },
    "accelerator": "GPU"
  },
  "cells": [
    {
      "cell_type": "markdown",
      "metadata": {
        "id": "view-in-github",
        "colab_type": "text"
      },
      "source": [
        "<a href=\"https://colab.research.google.com/github/yumehara/atmacup11/blob/main/notebooks/pytorch_tutorial_1.ipynb\" target=\"_parent\"><img src=\"https://colab.research.google.com/assets/colab-badge.svg\" alt=\"Open In Colab\"/></a>"
      ]
    },
    {
      "cell_type": "code",
      "metadata": {
        "id": "-DWqi2ud97n7"
      },
      "source": [
        "import os\n",
        "import pandas as pd\n",
        "import numpy as np\n",
        "from glob import  glob\n",
        "import matplotlib.pyplot as plt\n",
        "import seaborn as sns"
      ],
      "execution_count": 1,
      "outputs": []
    },
    {
      "cell_type": "code",
      "metadata": {
        "colab": {
          "base_uri": "https://localhost:8080/"
        },
        "id": "O7bZ6wze-urf",
        "outputId": "1972296a-0acb-425c-b907-734a81377b5e"
      },
      "source": [
        "!pip install python-vivid"
      ],
      "execution_count": 2,
      "outputs": [
        {
          "output_type": "stream",
          "text": [
            "Requirement already satisfied: python-vivid in /usr/local/lib/python3.7/dist-packages (0.3.3.4)\n",
            "Requirement already satisfied: matplotlib in /usr/local/lib/python3.7/dist-packages (from python-vivid) (3.2.2)\n",
            "Requirement already satisfied: scikit-learn in /usr/local/lib/python3.7/dist-packages (from python-vivid) (0.22.2.post1)\n",
            "Requirement already satisfied: joblib in /usr/local/lib/python3.7/dist-packages (from python-vivid) (1.0.1)\n",
            "Requirement already satisfied: scipy in /usr/local/lib/python3.7/dist-packages (from python-vivid) (1.4.1)\n",
            "Requirement already satisfied: xgboost in /usr/local/lib/python3.7/dist-packages (from python-vivid) (0.90)\n",
            "Requirement already satisfied: lightgbm in /usr/local/lib/python3.7/dist-packages (from python-vivid) (2.2.3)\n",
            "Requirement already satisfied: tabulate in /usr/local/lib/python3.7/dist-packages (from python-vivid) (0.8.9)\n",
            "Requirement already satisfied: networkx in /usr/local/lib/python3.7/dist-packages (from python-vivid) (2.5.1)\n",
            "Requirement already satisfied: optuna in /usr/local/lib/python3.7/dist-packages (from python-vivid) (2.8.0)\n",
            "Requirement already satisfied: seaborn in /usr/local/lib/python3.7/dist-packages (from python-vivid) (0.11.1)\n",
            "Requirement already satisfied: numpy in /usr/local/lib/python3.7/dist-packages (from python-vivid) (1.19.5)\n",
            "Requirement already satisfied: feather-format in /usr/local/lib/python3.7/dist-packages (from python-vivid) (0.4.1)\n",
            "Requirement already satisfied: pandas in /usr/local/lib/python3.7/dist-packages (from python-vivid) (1.1.5)\n",
            "Requirement already satisfied: tqdm in /usr/local/lib/python3.7/dist-packages (from python-vivid) (4.41.1)\n",
            "Requirement already satisfied: cycler>=0.10 in /usr/local/lib/python3.7/dist-packages (from matplotlib->python-vivid) (0.10.0)\n",
            "Requirement already satisfied: kiwisolver>=1.0.1 in /usr/local/lib/python3.7/dist-packages (from matplotlib->python-vivid) (1.3.1)\n",
            "Requirement already satisfied: python-dateutil>=2.1 in /usr/local/lib/python3.7/dist-packages (from matplotlib->python-vivid) (2.8.1)\n",
            "Requirement already satisfied: pyparsing!=2.0.4,!=2.1.2,!=2.1.6,>=2.0.1 in /usr/local/lib/python3.7/dist-packages (from matplotlib->python-vivid) (2.4.7)\n",
            "Requirement already satisfied: decorator<5,>=4.3 in /usr/local/lib/python3.7/dist-packages (from networkx->python-vivid) (4.4.2)\n",
            "Requirement already satisfied: sqlalchemy>=1.1.0 in /usr/local/lib/python3.7/dist-packages (from optuna->python-vivid) (1.4.20)\n",
            "Requirement already satisfied: cliff in /usr/local/lib/python3.7/dist-packages (from optuna->python-vivid) (3.8.0)\n",
            "Requirement already satisfied: packaging>=20.0 in /usr/local/lib/python3.7/dist-packages (from optuna->python-vivid) (20.9)\n",
            "Requirement already satisfied: alembic in /usr/local/lib/python3.7/dist-packages (from optuna->python-vivid) (1.6.5)\n",
            "Requirement already satisfied: colorlog in /usr/local/lib/python3.7/dist-packages (from optuna->python-vivid) (5.0.1)\n",
            "Requirement already satisfied: cmaes>=0.8.2 in /usr/local/lib/python3.7/dist-packages (from optuna->python-vivid) (0.8.2)\n",
            "Requirement already satisfied: pyarrow>=0.4.0 in /usr/local/lib/python3.7/dist-packages (from feather-format->python-vivid) (3.0.0)\n",
            "Requirement already satisfied: pytz>=2017.2 in /usr/local/lib/python3.7/dist-packages (from pandas->python-vivid) (2018.9)\n",
            "Requirement already satisfied: six in /usr/local/lib/python3.7/dist-packages (from cycler>=0.10->matplotlib->python-vivid) (1.15.0)\n",
            "Requirement already satisfied: greenlet!=0.4.17; python_version >= \"3\" in /usr/local/lib/python3.7/dist-packages (from sqlalchemy>=1.1.0->optuna->python-vivid) (1.1.0)\n",
            "Requirement already satisfied: importlib-metadata; python_version < \"3.8\" in /usr/local/lib/python3.7/dist-packages (from sqlalchemy>=1.1.0->optuna->python-vivid) (4.6.0)\n",
            "Requirement already satisfied: PyYAML>=3.12 in /usr/local/lib/python3.7/dist-packages (from cliff->optuna->python-vivid) (3.13)\n",
            "Requirement already satisfied: PrettyTable>=0.7.2 in /usr/local/lib/python3.7/dist-packages (from cliff->optuna->python-vivid) (2.1.0)\n",
            "Requirement already satisfied: pbr!=2.1.0,>=2.0.0 in /usr/local/lib/python3.7/dist-packages (from cliff->optuna->python-vivid) (5.6.0)\n",
            "Requirement already satisfied: stevedore>=2.0.1 in /usr/local/lib/python3.7/dist-packages (from cliff->optuna->python-vivid) (3.3.0)\n",
            "Requirement already satisfied: cmd2>=1.0.0 in /usr/local/lib/python3.7/dist-packages (from cliff->optuna->python-vivid) (2.1.2)\n",
            "Requirement already satisfied: python-editor>=0.3 in /usr/local/lib/python3.7/dist-packages (from alembic->optuna->python-vivid) (1.0.4)\n",
            "Requirement already satisfied: Mako in /usr/local/lib/python3.7/dist-packages (from alembic->optuna->python-vivid) (1.1.4)\n",
            "Requirement already satisfied: zipp>=0.5 in /usr/local/lib/python3.7/dist-packages (from importlib-metadata; python_version < \"3.8\"->sqlalchemy>=1.1.0->optuna->python-vivid) (3.4.1)\n",
            "Requirement already satisfied: typing-extensions>=3.6.4; python_version < \"3.8\" in /usr/local/lib/python3.7/dist-packages (from importlib-metadata; python_version < \"3.8\"->sqlalchemy>=1.1.0->optuna->python-vivid) (3.7.4.3)\n",
            "Requirement already satisfied: wcwidth in /usr/local/lib/python3.7/dist-packages (from PrettyTable>=0.7.2->cliff->optuna->python-vivid) (0.2.5)\n",
            "Requirement already satisfied: pyperclip>=1.6 in /usr/local/lib/python3.7/dist-packages (from cmd2>=1.0.0->cliff->optuna->python-vivid) (1.8.2)\n",
            "Requirement already satisfied: colorama>=0.3.7 in /usr/local/lib/python3.7/dist-packages (from cmd2>=1.0.0->cliff->optuna->python-vivid) (0.4.4)\n",
            "Requirement already satisfied: attrs>=16.3.0 in /usr/local/lib/python3.7/dist-packages (from cmd2>=1.0.0->cliff->optuna->python-vivid) (21.2.0)\n",
            "Requirement already satisfied: MarkupSafe>=0.9.2 in /usr/local/lib/python3.7/dist-packages (from Mako->alembic->optuna->python-vivid) (2.0.1)\n"
          ],
          "name": "stdout"
        }
      ]
    },
    {
      "cell_type": "code",
      "metadata": {
        "id": "d-7KAUjZJz8N"
      },
      "source": [
        "from vivid.utils import timer"
      ],
      "execution_count": 3,
      "outputs": []
    },
    {
      "cell_type": "code",
      "metadata": {
        "colab": {
          "base_uri": "https://localhost:8080/"
        },
        "id": "1QAGAtaO-Z8H",
        "outputId": "7462981e-f4d6-4e7b-c90e-4c19407c5e3a"
      },
      "source": [
        "from google.colab import drive\n",
        "drive.mount('/content/drive')"
      ],
      "execution_count": 4,
      "outputs": [
        {
          "output_type": "stream",
          "text": [
            "Drive already mounted at /content/drive; to attempt to forcibly remount, call drive.mount(\"/content/drive\", force_remount=True).\n"
          ],
          "name": "stdout"
        }
      ]
    },
    {
      "cell_type": "code",
      "metadata": {
        "id": "MjyNfMGf-ie0"
      },
      "source": [
        "def get_path(filename):\n",
        "    return os.path.join('/content/drive/MyDrive/atmacup11', filename)"
      ],
      "execution_count": 5,
      "outputs": []
    },
    {
      "cell_type": "code",
      "metadata": {
        "id": "1SYw71N4-p9A"
      },
      "source": [
        "input_dir = get_path(\"inputs\")\n",
        "photo_dir = get_path(\"inputs/photos\")"
      ],
      "execution_count": 6,
      "outputs": []
    },
    {
      "cell_type": "code",
      "metadata": {
        "id": "a7cDr8zn_EGA"
      },
      "source": [
        "output_dir = get_path(\"outputs/submit_2\")\n",
        "os.makedirs(output_dir, exist_ok=True)"
      ],
      "execution_count": 7,
      "outputs": []
    },
    {
      "cell_type": "code",
      "metadata": {
        "id": "YhKEpjK4_FVR"
      },
      "source": [
        "photo_pathes = glob(get_path(\"inputs/photos/*.jpg\"))"
      ],
      "execution_count": 8,
      "outputs": []
    },
    {
      "cell_type": "code",
      "metadata": {
        "id": "C3N3rD1RAPTU"
      },
      "source": [
        "train_df_org = pd.read_csv(os.path.join(input_dir, 'train.csv'))\n",
        "test_df = pd.read_csv(os.path.join(input_dir, 'test.csv'))\n",
        "\n",
        "train_df = train_df_org.copy()\n",
        "train_df['target'] = train_df_org[\"sorting_date\"]/100 - 15.51\n",
        "\n",
        "# material_df = pd.read_csv(os.path.join(input_dir, 'materials.csv'))\n",
        "# technique_df = pd.read_csv(os.path.join(input_dir, 'techniques.csv'))"
      ],
      "execution_count": 9,
      "outputs": []
    },
    {
      "cell_type": "markdown",
      "metadata": {
        "id": "0_6pWmMhAA2B"
      },
      "source": [
        "### 画像データの読み込み"
      ]
    },
    {
      "cell_type": "code",
      "metadata": {
        "id": "oC1w6LwJ_trm"
      },
      "source": [
        "from PIL import Image\n",
        "\n",
        "def to_img_path(object_id):\n",
        "    return os.path.join(photo_dir, f'{object_id}.jpg')\n",
        "\n",
        "def read_image(object_id):\n",
        "    return Image.open(to_img_path(object_id))"
      ],
      "execution_count": 10,
      "outputs": []
    },
    {
      "cell_type": "code",
      "metadata": {
        "colab": {
          "base_uri": "https://localhost:8080/",
          "height": 126
        },
        "id": "JmCd9iAYAHLH",
        "outputId": "6951acd5-6b7f-4199-e59e-dfcf19860e0b"
      },
      "source": [
        "img = read_image(train_df['object_id'].iat[0])\n",
        "img"
      ],
      "execution_count": 11,
      "outputs": [
        {
          "output_type": "execute_result",
          "data": {
            "image/png": "[encoded data removed]",
            "text/plain": [
              "<PIL.JpegImagePlugin.JpegImageFile image mode=RGB size=224x109 at 0x7F8FC6E2BAD0>"
            ]
          },
          "metadata": {
            "tags": []
          },
          "execution_count": 11
        }
      ]
    },
    {
      "cell_type": "markdown",
      "metadata": {
        "id": "6Sbudxo9AZkr"
      },
      "source": [
        "### データ拡張 (data augmentation)"
      ]
    },
    {
      "cell_type": "code",
      "metadata": {
        "id": "pgK_c89uAXPc"
      },
      "source": [
        "from torchvision import transforms as T"
      ],
      "execution_count": 12,
      "outputs": []
    },
    {
      "cell_type": "code",
      "metadata": {
        "colab": {
          "base_uri": "https://localhost:8080/",
          "height": 126
        },
        "id": "sGuNdvLPAe_4",
        "outputId": "0d9d2c59-85b1-4075-aac9-60fa7e197ed4"
      },
      "source": [
        "# p は変更する確率を表しています。今は変換がされた時の値を見たいので 1 を指定しました。\n",
        "# 上下反転\n",
        "T.RandomVerticalFlip(p=1)(img)"
      ],
      "execution_count": 13,
      "outputs": [
        {
          "output_type": "execute_result",
          "data": {
            "image/png": "[encoded data removed]",
            "text/plain": [
              "<PIL.Image.Image image mode=RGB size=224x109 at 0x7F8F6D725150>"
            ]
          },
          "metadata": {
            "tags": []
          },
          "execution_count": 13
        }
      ]
    },
    {
      "cell_type": "code",
      "metadata": {
        "colab": {
          "base_uri": "https://localhost:8080/",
          "height": 126
        },
        "id": "hPy-nrj6AiAC",
        "outputId": "b177ac7a-d65e-476a-eda2-6430c387e108"
      },
      "source": [
        "# 左右反転\n",
        "T.RandomHorizontalFlip(p=1)(img)"
      ],
      "execution_count": 14,
      "outputs": [
        {
          "output_type": "execute_result",
          "data": {
            "image/png": "[encoded data removed]",
            "text/plain": [
              "<PIL.Image.Image image mode=RGB size=224x109 at 0x7F8F6B9226D0>"
            ]
          },
          "metadata": {
            "tags": []
          },
          "execution_count": 14
        }
      ]
    },
    {
      "cell_type": "code",
      "metadata": {
        "colab": {
          "base_uri": "https://localhost:8080/",
          "height": 126
        },
        "id": "unil_TdRAqDw",
        "outputId": "8eb28e23-65dc-433d-e2df-1476c0009517"
      },
      "source": [
        "# グレースケール化\n",
        "T.RandomGrayscale(1)(img)"
      ],
      "execution_count": 15,
      "outputs": [
        {
          "output_type": "execute_result",
          "data": {
            "image/png": "[encoded data removed]",
            "text/plain": [
              "<PIL.Image.Image image mode=RGB size=224x109 at 0x7F8F6B92C0D0>"
            ]
          },
          "metadata": {
            "tags": []
          },
          "execution_count": 15
        }
      ]
    },
    {
      "cell_type": "code",
      "metadata": {
        "colab": {
          "base_uri": "https://localhost:8080/",
          "height": 126
        },
        "id": "pmTs0PW1Avqs",
        "outputId": "a26ad9de-d476-4e52-d369-cef2431016d1"
      },
      "source": [
        "# 明るさ・コントラスト・彩度をランダムに変動させる\n",
        "T.ColorJitter(brightness=.3, contrast=.5, saturation=[.8, 1.3])(img)"
      ],
      "execution_count": 16,
      "outputs": [
        {
          "output_type": "execute_result",
          "data": {
            "image/png": "[encoded data removed]",
            "text/plain": [
              "<PIL.Image.Image image mode=RGB size=224x109 at 0x7F8F6B922590>"
            ]
          },
          "metadata": {
            "tags": []
          },
          "execution_count": 16
        }
      ]
    },
    {
      "cell_type": "code",
      "metadata": {
        "colab": {
          "base_uri": "https://localhost:8080/",
          "height": 217
        },
        "id": "mEo-JctTAzcd",
        "outputId": "9a597d74-1c1c-4fda-e803-0b95d4fcf8e6"
      },
      "source": [
        "# 一部を切り出してリサイズ\n",
        "T.RandomResizedCrop(size=(200, 200), )(img)"
      ],
      "execution_count": 17,
      "outputs": [
        {
          "output_type": "execute_result",
          "data": {
            "image/png": "[encoded data removed]",
            "text/plain": [
              "<PIL.Image.Image image mode=RGB size=200x200 at 0x7F8F6B92C4D0>"
            ]
          },
          "metadata": {
            "tags": []
          },
          "execution_count": 17
        }
      ]
    },
    {
      "cell_type": "code",
      "metadata": {
        "colab": {
          "base_uri": "https://localhost:8080/",
          "height": 126
        },
        "id": "rCfEXmP2A-23",
        "outputId": "e3b8e244-d463-4025-cd61-1a0abf8d17b5"
      },
      "source": [
        "# 組み合わせ\n",
        "converter = T.Compose([\n",
        "    T.RandomVerticalFlip(p=1),\n",
        "    T.ColorJitter(brightness=.5, contrast=.5)\n",
        "])\n",
        "\n",
        "converter(img)"
      ],
      "execution_count": 18,
      "outputs": [
        {
          "output_type": "execute_result",
          "data": {
            "image/png": "[encoded data removed]",
            "text/plain": [
              "<PIL.Image.Image image mode=RGB size=224x109 at 0x7F8F6B935350>"
            ]
          },
          "metadata": {
            "tags": []
          },
          "execution_count": 18
        }
      ]
    },
    {
      "cell_type": "markdown",
      "metadata": {
        "id": "MpU1z42OBgpa"
      },
      "source": [
        "### モデルの定義"
      ]
    },
    {
      "cell_type": "code",
      "metadata": {
        "id": "1NTkGgM1BeEo"
      },
      "source": [
        "import torch\n",
        "from torchvision.models import resnet34\n",
        "from torch import nn"
      ],
      "execution_count": 19,
      "outputs": []
    },
    {
      "cell_type": "code",
      "metadata": {
        "id": "1FxekoSnBjcb"
      },
      "source": [
        "# 事前学習を読み込まない\n",
        "model = resnet34(pretrained=False)"
      ],
      "execution_count": 20,
      "outputs": []
    },
    {
      "cell_type": "code",
      "metadata": {
        "colab": {
          "base_uri": "https://localhost:8080/"
        },
        "id": "M9BCRvv6Bpox",
        "outputId": "4747ea56-ff12-4a6b-d736-b41484106b80"
      },
      "source": [
        "model"
      ],
      "execution_count": 21,
      "outputs": [
        {
          "output_type": "execute_result",
          "data": {
            "text/plain": [
              "ResNet(\n",
              "  (conv1): Conv2d(3, 64, kernel_size=(7, 7), stride=(2, 2), padding=(3, 3), bias=False)\n",
              "  (bn1): BatchNorm2d(64, eps=1e-05, momentum=0.1, affine=True, track_running_stats=True)\n",
              "  (relu): ReLU(inplace=True)\n",
              "  (maxpool): MaxPool2d(kernel_size=3, stride=2, padding=1, dilation=1, ceil_mode=False)\n",
              "  (layer1): Sequential(\n",
              "    (0): BasicBlock(\n",
              "      (conv1): Conv2d(64, 64, kernel_size=(3, 3), stride=(1, 1), padding=(1, 1), bias=False)\n",
              "      (bn1): BatchNorm2d(64, eps=1e-05, momentum=0.1, affine=True, track_running_stats=True)\n",
              "      (relu): ReLU(inplace=True)\n",
              "      (conv2): Conv2d(64, 64, kernel_size=(3, 3), stride=(1, 1), padding=(1, 1), bias=False)\n",
              "      (bn2): BatchNorm2d(64, eps=1e-05, momentum=0.1, affine=True, track_running_stats=True)\n",
              "    )\n",
              "    (1): BasicBlock(\n",
              "      (conv1): Conv2d(64, 64, kernel_size=(3, 3), stride=(1, 1), padding=(1, 1), bias=False)\n",
              "      (bn1): BatchNorm2d(64, eps=1e-05, momentum=0.1, affine=True, track_running_stats=True)\n",
              "      (relu): ReLU(inplace=True)\n",
              "      (conv2): Conv2d(64, 64, kernel_size=(3, 3), stride=(1, 1), padding=(1, 1), bias=False)\n",
              "      (bn2): BatchNorm2d(64, eps=1e-05, momentum=0.1, affine=True, track_running_stats=True)\n",
              "    )\n",
              "    (2): BasicBlock(\n",
              "      (conv1): Conv2d(64, 64, kernel_size=(3, 3), stride=(1, 1), padding=(1, 1), bias=False)\n",
              "      (bn1): BatchNorm2d(64, eps=1e-05, momentum=0.1, affine=True, track_running_stats=True)\n",
              "      (relu): ReLU(inplace=True)\n",
              "      (conv2): Conv2d(64, 64, kernel_size=(3, 3), stride=(1, 1), padding=(1, 1), bias=False)\n",
              "      (bn2): BatchNorm2d(64, eps=1e-05, momentum=0.1, affine=True, track_running_stats=True)\n",
              "    )\n",
              "  )\n",
              "  (layer2): Sequential(\n",
              "    (0): BasicBlock(\n",
              "      (conv1): Conv2d(64, 128, kernel_size=(3, 3), stride=(2, 2), padding=(1, 1), bias=False)\n",
              "      (bn1): BatchNorm2d(128, eps=1e-05, momentum=0.1, affine=True, track_running_stats=True)\n",
              "      (relu): ReLU(inplace=True)\n",
              "      (conv2): Conv2d(128, 128, kernel_size=(3, 3), stride=(1, 1), padding=(1, 1), bias=False)\n",
              "      (bn2): BatchNorm2d(128, eps=1e-05, momentum=0.1, affine=True, track_running_stats=True)\n",
              "      (downsample): Sequential(\n",
              "        (0): Conv2d(64, 128, kernel_size=(1, 1), stride=(2, 2), bias=False)\n",
              "        (1): BatchNorm2d(128, eps=1e-05, momentum=0.1, affine=True, track_running_stats=True)\n",
              "      )\n",
              "    )\n",
              "    (1): BasicBlock(\n",
              "      (conv1): Conv2d(128, 128, kernel_size=(3, 3), stride=(1, 1), padding=(1, 1), bias=False)\n",
              "      (bn1): BatchNorm2d(128, eps=1e-05, momentum=0.1, affine=True, track_running_stats=True)\n",
              "      (relu): ReLU(inplace=True)\n",
              "      (conv2): Conv2d(128, 128, kernel_size=(3, 3), stride=(1, 1), padding=(1, 1), bias=False)\n",
              "      (bn2): BatchNorm2d(128, eps=1e-05, momentum=0.1, affine=True, track_running_stats=True)\n",
              "    )\n",
              "    (2): BasicBlock(\n",
              "      (conv1): Conv2d(128, 128, kernel_size=(3, 3), stride=(1, 1), padding=(1, 1), bias=False)\n",
              "      (bn1): BatchNorm2d(128, eps=1e-05, momentum=0.1, affine=True, track_running_stats=True)\n",
              "      (relu): ReLU(inplace=True)\n",
              "      (conv2): Conv2d(128, 128, kernel_size=(3, 3), stride=(1, 1), padding=(1, 1), bias=False)\n",
              "      (bn2): BatchNorm2d(128, eps=1e-05, momentum=0.1, affine=True, track_running_stats=True)\n",
              "    )\n",
              "    (3): BasicBlock(\n",
              "      (conv1): Conv2d(128, 128, kernel_size=(3, 3), stride=(1, 1), padding=(1, 1), bias=False)\n",
              "      (bn1): BatchNorm2d(128, eps=1e-05, momentum=0.1, affine=True, track_running_stats=True)\n",
              "      (relu): ReLU(inplace=True)\n",
              "      (conv2): Conv2d(128, 128, kernel_size=(3, 3), stride=(1, 1), padding=(1, 1), bias=False)\n",
              "      (bn2): BatchNorm2d(128, eps=1e-05, momentum=0.1, affine=True, track_running_stats=True)\n",
              "    )\n",
              "  )\n",
              "  (layer3): Sequential(\n",
              "    (0): BasicBlock(\n",
              "      (conv1): Conv2d(128, 256, kernel_size=(3, 3), stride=(2, 2), padding=(1, 1), bias=False)\n",
              "      (bn1): BatchNorm2d(256, eps=1e-05, momentum=0.1, affine=True, track_running_stats=True)\n",
              "      (relu): ReLU(inplace=True)\n",
              "      (conv2): Conv2d(256, 256, kernel_size=(3, 3), stride=(1, 1), padding=(1, 1), bias=False)\n",
              "      (bn2): BatchNorm2d(256, eps=1e-05, momentum=0.1, affine=True, track_running_stats=True)\n",
              "      (downsample): Sequential(\n",
              "        (0): Conv2d(128, 256, kernel_size=(1, 1), stride=(2, 2), bias=False)\n",
              "        (1): BatchNorm2d(256, eps=1e-05, momentum=0.1, affine=True, track_running_stats=True)\n",
              "      )\n",
              "    )\n",
              "    (1): BasicBlock(\n",
              "      (conv1): Conv2d(256, 256, kernel_size=(3, 3), stride=(1, 1), padding=(1, 1), bias=False)\n",
              "      (bn1): BatchNorm2d(256, eps=1e-05, momentum=0.1, affine=True, track_running_stats=True)\n",
              "      (relu): ReLU(inplace=True)\n",
              "      (conv2): Conv2d(256, 256, kernel_size=(3, 3), stride=(1, 1), padding=(1, 1), bias=False)\n",
              "      (bn2): BatchNorm2d(256, eps=1e-05, momentum=0.1, affine=True, track_running_stats=True)\n",
              "    )\n",
              "    (2): BasicBlock(\n",
              "      (conv1): Conv2d(256, 256, kernel_size=(3, 3), stride=(1, 1), padding=(1, 1), bias=False)\n",
              "      (bn1): BatchNorm2d(256, eps=1e-05, momentum=0.1, affine=True, track_running_stats=True)\n",
              "      (relu): ReLU(inplace=True)\n",
              "      (conv2): Conv2d(256, 256, kernel_size=(3, 3), stride=(1, 1), padding=(1, 1), bias=False)\n",
              "      (bn2): BatchNorm2d(256, eps=1e-05, momentum=0.1, affine=True, track_running_stats=True)\n",
              "    )\n",
              "    (3): BasicBlock(\n",
              "      (conv1): Conv2d(256, 256, kernel_size=(3, 3), stride=(1, 1), padding=(1, 1), bias=False)\n",
              "      (bn1): BatchNorm2d(256, eps=1e-05, momentum=0.1, affine=True, track_running_stats=True)\n",
              "      (relu): ReLU(inplace=True)\n",
              "      (conv2): Conv2d(256, 256, kernel_size=(3, 3), stride=(1, 1), padding=(1, 1), bias=False)\n",
              "      (bn2): BatchNorm2d(256, eps=1e-05, momentum=0.1, affine=True, track_running_stats=True)\n",
              "    )\n",
              "    (4): BasicBlock(\n",
              "      (conv1): Conv2d(256, 256, kernel_size=(3, 3), stride=(1, 1), padding=(1, 1), bias=False)\n",
              "      (bn1): BatchNorm2d(256, eps=1e-05, momentum=0.1, affine=True, track_running_stats=True)\n",
              "      (relu): ReLU(inplace=True)\n",
              "      (conv2): Conv2d(256, 256, kernel_size=(3, 3), stride=(1, 1), padding=(1, 1), bias=False)\n",
              "      (bn2): BatchNorm2d(256, eps=1e-05, momentum=0.1, affine=True, track_running_stats=True)\n",
              "    )\n",
              "    (5): BasicBlock(\n",
              "      (conv1): Conv2d(256, 256, kernel_size=(3, 3), stride=(1, 1), padding=(1, 1), bias=False)\n",
              "      (bn1): BatchNorm2d(256, eps=1e-05, momentum=0.1, affine=True, track_running_stats=True)\n",
              "      (relu): ReLU(inplace=True)\n",
              "      (conv2): Conv2d(256, 256, kernel_size=(3, 3), stride=(1, 1), padding=(1, 1), bias=False)\n",
              "      (bn2): BatchNorm2d(256, eps=1e-05, momentum=0.1, affine=True, track_running_stats=True)\n",
              "    )\n",
              "  )\n",
              "  (layer4): Sequential(\n",
              "    (0): BasicBlock(\n",
              "      (conv1): Conv2d(256, 512, kernel_size=(3, 3), stride=(2, 2), padding=(1, 1), bias=False)\n",
              "      (bn1): BatchNorm2d(512, eps=1e-05, momentum=0.1, affine=True, track_running_stats=True)\n",
              "      (relu): ReLU(inplace=True)\n",
              "      (conv2): Conv2d(512, 512, kernel_size=(3, 3), stride=(1, 1), padding=(1, 1), bias=False)\n",
              "      (bn2): BatchNorm2d(512, eps=1e-05, momentum=0.1, affine=True, track_running_stats=True)\n",
              "      (downsample): Sequential(\n",
              "        (0): Conv2d(256, 512, kernel_size=(1, 1), stride=(2, 2), bias=False)\n",
              "        (1): BatchNorm2d(512, eps=1e-05, momentum=0.1, affine=True, track_running_stats=True)\n",
              "      )\n",
              "    )\n",
              "    (1): BasicBlock(\n",
              "      (conv1): Conv2d(512, 512, kernel_size=(3, 3), stride=(1, 1), padding=(1, 1), bias=False)\n",
              "      (bn1): BatchNorm2d(512, eps=1e-05, momentum=0.1, affine=True, track_running_stats=True)\n",
              "      (relu): ReLU(inplace=True)\n",
              "      (conv2): Conv2d(512, 512, kernel_size=(3, 3), stride=(1, 1), padding=(1, 1), bias=False)\n",
              "      (bn2): BatchNorm2d(512, eps=1e-05, momentum=0.1, affine=True, track_running_stats=True)\n",
              "    )\n",
              "    (2): BasicBlock(\n",
              "      (conv1): Conv2d(512, 512, kernel_size=(3, 3), stride=(1, 1), padding=(1, 1), bias=False)\n",
              "      (bn1): BatchNorm2d(512, eps=1e-05, momentum=0.1, affine=True, track_running_stats=True)\n",
              "      (relu): ReLU(inplace=True)\n",
              "      (conv2): Conv2d(512, 512, kernel_size=(3, 3), stride=(1, 1), padding=(1, 1), bias=False)\n",
              "      (bn2): BatchNorm2d(512, eps=1e-05, momentum=0.1, affine=True, track_running_stats=True)\n",
              "    )\n",
              "  )\n",
              "  (avgpool): AdaptiveAvgPool2d(output_size=(1, 1))\n",
              "  (fc): Linear(in_features=512, out_features=1000, bias=True)\n",
              ")"
            ]
          },
          "metadata": {
            "tags": []
          },
          "execution_count": 21
        }
      ]
    },
    {
      "cell_type": "code",
      "metadata": {
        "id": "C-VnkSgfBrVZ"
      },
      "source": [
        "# converter = T.Compose([\n",
        "#     T.RandomVerticalFlip(p=1),\n",
        "#     T.ColorJitter(brightness=.5, contrast=.5),\n",
        "#     T.ToTensor()\n",
        "# ])"
      ],
      "execution_count": 22,
      "outputs": []
    },
    {
      "cell_type": "code",
      "metadata": {
        "id": "gnLOhetfB_4n"
      },
      "source": [
        "# x = converter(img)\n",
        "# # チャネル数 x 縦 x 横\n",
        "# x.shape"
      ],
      "execution_count": 23,
      "outputs": []
    },
    {
      "cell_type": "code",
      "metadata": {
        "id": "tnVGNr_4CQQu"
      },
      "source": [
        "# バッチサイズ x チャネル数 x 縦 x 横に変換\n",
        "# x.unsqueeze(0).shape"
      ],
      "execution_count": 24,
      "outputs": []
    },
    {
      "cell_type": "code",
      "metadata": {
        "id": "V7sn2aX6CUzF"
      },
      "source": [
        "# output = model(x.unsqueeze(0))\n",
        "# output.shape"
      ],
      "execution_count": 25,
      "outputs": []
    },
    {
      "cell_type": "code",
      "metadata": {
        "id": "GSTMEHueClIt"
      },
      "source": [
        "# モデルの最終層を書き換え\n",
        "# 元の定義\n",
        "# (fc): Linear(in_features=512, out_features=1000, bias=True)\n",
        "\n",
        "# model.fc = nn.Linear(in_features=512, out_features=1, bias=True)\n",
        "# output = model(x.unsqueeze(0))\n",
        "# output.shape"
      ],
      "execution_count": 26,
      "outputs": []
    },
    {
      "cell_type": "markdown",
      "metadata": {
        "id": "ZiTPgvVMDbjf"
      },
      "source": [
        "### 学習のスキームを定義\n",
        "\n",
        "\n",
        "1.   入力データ x をモデルに入れて出力 z を作成\n",
        "1.   x に対応する正解ラベル y と z を目的関数に入れてどのぐらいずれいているか(loss)を計算\n",
        "1.   lossの情報を元にして最適化手法によってモデルを更新\n",
        "リスト項目\n",
        "\n"
      ]
    },
    {
      "cell_type": "markdown",
      "metadata": {
        "id": "cG8UFndPOMEb"
      },
      "source": [
        "### 目的関数の定義"
      ]
    },
    {
      "cell_type": "code",
      "metadata": {
        "id": "5EPVRh81OIvF"
      },
      "source": [
        "# criterion = nn.MSELoss()"
      ],
      "execution_count": 27,
      "outputs": []
    },
    {
      "cell_type": "markdown",
      "metadata": {
        "id": "O1H8SDDuOWNp"
      },
      "source": [
        "### 最適化手法の定義"
      ]
    },
    {
      "cell_type": "code",
      "metadata": {
        "id": "uc0yUzp_OV4D"
      },
      "source": [
        "# from torch.optim import Adam\n",
        "\n",
        "# 最適化手法の定義. どのモデルのパラメータを更新したいか、を第一引数にする\n",
        "# lr は learning_rate の略. 正解はないのですが adam だと 1e-3 などが使われることが多いです\n",
        "# optimizer = Adam(params=model.parameters(), lr=1e-3)"
      ],
      "execution_count": 28,
      "outputs": []
    },
    {
      "cell_type": "markdown",
      "metadata": {
        "id": "Xvd7PTLyOf23"
      },
      "source": [
        "### 学習のサンプル"
      ]
    },
    {
      "cell_type": "code",
      "metadata": {
        "id": "2TVZgLUFCteD"
      },
      "source": [
        "# # 1. データを torch.Tensor の形式で用意\n",
        "# x = converter(img)\n",
        "# x = x.unsqueeze(0)\n",
        "\n",
        "# label = train_df['target'].iat[0]\n",
        "# label = torch.Tensor([label])\n",
        "# label = label.reshape(-1, 1)\n",
        "\n",
        "# # 2. モデルに入れて loss を objective で計算\n",
        "# output = model(x)\n",
        "# loss = criterion(output, label)\n",
        "\n",
        "# # 3. loss から optimizer が model を更新\n",
        "\n",
        "# # zero_grad は今ある勾配の情報をリセットする関数. このあとに計算される勾配を元にして最適化される\n",
        "# optimizer.zero_grad()\n",
        "\n",
        "# # loss から勾配を計算\n",
        "# loss.backward()\n",
        "\n",
        "# # 最適化ステップを一つすすめる\n",
        "# optimizer.step()\n",
        "\n",
        "# print(loss.item())"
      ],
      "execution_count": 29,
      "outputs": []
    },
    {
      "cell_type": "markdown",
      "metadata": {
        "id": "8Q0GAaZfO6wH"
      },
      "source": [
        "### データセット"
      ]
    },
    {
      "cell_type": "code",
      "metadata": {
        "id": "8laJ_yW-DByn"
      },
      "source": [
        "from torch.utils import data\n",
        "\n",
        "IMG_MEAN = [0.485, 0.456, 0.406]\n",
        "IMG_STD = [0.229, 0.224, 0.225]\n",
        "\n",
        "class AtmaDataset(data.Dataset):\n",
        "    \"\"\"atmaCup用にデータ読み込み等を行なうデータ・セット\"\"\"\n",
        "    object_path_key = \"object_path\"\n",
        "    label_key = \"target\"\n",
        "\n",
        "    @property\n",
        "    def meta_keys(self):\n",
        "        retval = [self.object_path_key]\n",
        "\n",
        "        if self.is_train:\n",
        "            retval += [self.label_key]\n",
        "\n",
        "        return retval\n",
        "\n",
        "    def __init__(self, meta_df: pd.DataFrame, is_train=True):\n",
        "        \"\"\"\n",
        "        args:\n",
        "            meta_df: \n",
        "                画像へのパスと label 情報が含まれている dataframe\n",
        "                必ず object_path に画像へのパス, target に正解ラベルが入っている必要があります\n",
        "\n",
        "            is_train:\n",
        "                True のとき学習用のデータ拡張を適用します.\n",
        "                False の時は単に size にリサイズを行います\n",
        "        \"\"\"\n",
        "\n",
        "        self.is_train = is_train\n",
        "        for k in self.meta_keys:\n",
        "            if k not in meta_df:\n",
        "                raise ValueError(\"meta df must have {}\".format(k))\n",
        "\n",
        "        self.meta_df = meta_df.reset_index(drop=True)\n",
        "        self.index_to_data = self.meta_df.to_dict(orient=\"index\")\n",
        "\n",
        "        size = (224, 224)\n",
        "\n",
        "        additional_items = (\n",
        "            [T.Resize(size)]\n",
        "            if not is_train\n",
        "            else [\n",
        "                T.RandomGrayscale(p=0.2),\n",
        "                T.RandomVerticalFlip(),\n",
        "                T.RandomHorizontalFlip(),\n",
        "                T.ColorJitter(\n",
        "                    brightness=0.3,\n",
        "                    contrast=0.5,\n",
        "                    saturation=[0.8, 1.3],\n",
        "                    hue=[-0.05, 0.05],\n",
        "                ),\n",
        "                T.RandomResizedCrop(size),\n",
        "            ]\n",
        "        )\n",
        "\n",
        "        self.transformer = T.Compose([\n",
        "                                      *additional_items, \n",
        "                                      T.ToTensor(), \n",
        "                                      T.Normalize(mean=IMG_MEAN, std=IMG_STD)\n",
        "                                      ])\n",
        "\n",
        "    def __getitem__(self, index):\n",
        "        data = self.index_to_data[index]\n",
        "\n",
        "        obj_path, label = data.get(self.object_path_key), data.get(self.label_key, -1)\n",
        "        img = Image.open(obj_path)\n",
        "        img = self.transformer(img)\n",
        "        return img, label\n",
        "\n",
        "    def __len__(self):\n",
        "        return len(self.meta_df)"
      ],
      "execution_count": 30,
      "outputs": []
    },
    {
      "cell_type": "code",
      "metadata": {
        "id": "fgypBi6ZgUuB"
      },
      "source": [
        "def create_metadata(input_df):\n",
        "    out_df = input_df[['object_id']].copy()\n",
        "    out_df['object_path'] = input_df['object_id'].map(to_img_path)\n",
        "\n",
        "    if \"target\" in input_df:\n",
        "        out_df[\"target\"] = input_df[\"target\"]\n",
        "\n",
        "    return out_df"
      ],
      "execution_count": 31,
      "outputs": []
    },
    {
      "cell_type": "code",
      "metadata": {
        "id": "epXILlNrQ2Af"
      },
      "source": [
        "train_meta_df = create_metadata(train_df)\n",
        "\n",
        "dataset = AtmaDataset(meta_df=train_meta_df)"
      ],
      "execution_count": 32,
      "outputs": []
    },
    {
      "cell_type": "markdown",
      "metadata": {
        "id": "1ZkmCt_WRJRr"
      },
      "source": [
        "### DataLoader"
      ]
    },
    {
      "cell_type": "code",
      "metadata": {
        "id": "oPeMS3HqpucU"
      },
      "source": [
        "NUM_WORKERS = 2"
      ],
      "execution_count": 33,
      "outputs": []
    },
    {
      "cell_type": "code",
      "metadata": {
        "id": "bUL_LalARLmI"
      },
      "source": [
        "# この場合同時に 54 個の画像に対応した tensor と label が作られる\n",
        "# loader = data.DataLoader(dataset=dataset, batch_size=54, num_workers=NUM_WORKERS)"
      ],
      "execution_count": 34,
      "outputs": []
    },
    {
      "cell_type": "code",
      "metadata": {
        "id": "kPA6N62cRQp3"
      },
      "source": [
        "# # 確認\n",
        "# for x_tensor, y in loader:\n",
        "#     break\n",
        "\n",
        "# # 最初の次元が先に設定した 54 になっている\n",
        "# x_tensor.shape, y.shape"
      ],
      "execution_count": 35,
      "outputs": []
    },
    {
      "cell_type": "markdown",
      "metadata": {
        "id": "SdQzp7S3RYuQ"
      },
      "source": [
        "### 学習関数"
      ]
    },
    {
      "cell_type": "code",
      "metadata": {
        "id": "uB1frvcXRSE9"
      },
      "source": [
        "# CUDA を使うので確認. google colab の場合 GPU accelerator をオンにしておいてください\n",
        "assert torch.cuda.is_available()\n",
        "DEVICE = torch.device(\"cuda\")"
      ],
      "execution_count": 36,
      "outputs": []
    },
    {
      "cell_type": "code",
      "metadata": {
        "id": "NQvh5dgyRjDA"
      },
      "source": [
        "from torch.optim.optimizer import Optimizer\n",
        "from collections import defaultdict\n",
        "\n",
        "def train(\n",
        "    model: nn.Module,\n",
        "    optimizer: Optimizer,\n",
        "    train_loader: data.DataLoader\n",
        ") -> pd.Series:\n",
        "\n",
        "    # train にすることで model 内の学習時にのみ有効な機構が有効になります (Dropouts Layers、BatchNorm Layers...)\n",
        "    model.train()\n",
        "\n",
        "    criterion = nn.MSELoss()\n",
        "\n",
        "    # ロスの値を保存する用に dict を用意\n",
        "    metrics = defaultdict(float)\n",
        "    n_iters = len(train_loader)\n",
        "\n",
        "    for i, (x_i, y_i) in enumerate(train_loader):\n",
        "        x_i = x_i.to(DEVICE)\n",
        "        y_i = y_i.to(DEVICE).reshape(-1, 1).float()\n",
        "\n",
        "        output = model(x_i)\n",
        "        loss = criterion(output, y_i)\n",
        "\n",
        "        optimizer.zero_grad()\n",
        "        loss.backward()\n",
        "        optimizer.step()\n",
        "\n",
        "        metric_i = {\n",
        "            # loss は tensor object なので item をつかって python object に戻す\n",
        "            \"loss\": loss.item()\n",
        "        }\n",
        "        for k, v in metric_i.items():\n",
        "            metrics[k] += v\n",
        "\n",
        "    for k, v in metrics.items():\n",
        "        metrics[k] /= n_iters\n",
        "\n",
        "    return pd.Series(metrics).add_prefix(\"train_\")"
      ],
      "execution_count": 37,
      "outputs": []
    },
    {
      "cell_type": "code",
      "metadata": {
        "id": "CuuVTPVARzNs"
      },
      "source": [
        "# n_epochs = 10\n",
        "\n",
        "# # GPU 環境で学習するため変換. この呼び出しは破壊的\n",
        "# model.to(DEVICE)\n",
        "# optimizer = Adam(params=model.parameters(), lr=1e-3)\n",
        "\n",
        "# for epoch in range(1, n_epochs + 1):\n",
        "\n",
        "#     with timer(prefix=\"train: epoch={}\".format(epoch)):\n",
        "#         score_train = train(\n",
        "#             model, optimizer, train_loader=loader\n",
        "#         )\n",
        "#     print(score_train)\n",
        "\n",
        "#     # 今は1回で抜ける\n",
        "#     break"
      ],
      "execution_count": 38,
      "outputs": []
    },
    {
      "cell_type": "markdown",
      "metadata": {
        "id": "DNfDPaWcSFms"
      },
      "source": [
        "### Cross Validation"
      ]
    },
    {
      "cell_type": "code",
      "metadata": {
        "id": "9w2alG4_SFAW"
      },
      "source": [
        "from sklearn.model_selection import KFold\n",
        "\n",
        "fold = KFold(n_splits=5, shuffle=True, random_state=510)\n",
        "cv = list(fold.split(X=train_df, y=train_df['target']))"
      ],
      "execution_count": 39,
      "outputs": []
    },
    {
      "cell_type": "code",
      "metadata": {
        "id": "ib1lfDrPSSmc"
      },
      "source": [
        "# 実験は最初の fold だけで考える\n",
        "# cv = cv[:1]"
      ],
      "execution_count": 40,
      "outputs": []
    },
    {
      "cell_type": "markdown",
      "metadata": {
        "id": "GSB_UTXGSkd1"
      },
      "source": [
        "### 検証"
      ]
    },
    {
      "cell_type": "code",
      "metadata": {
        "id": "ugDf_sVCSZlE"
      },
      "source": [
        "# from vivid.metrics import regression_metrics\n",
        "from sklearn.metrics import mean_squared_error\n",
        "\n",
        "def predict(model: nn.Module, loader: data.DataLoader) -> np.ndarray:\n",
        "    # train とは逆で model 内の学習時にのみ有効な機構がオフになります (Dropouts Layers、BatchNorm Layers...)\n",
        "    model.eval()\n",
        "\n",
        "    predicts = []\n",
        "\n",
        "    for x_i, y_i in loader:\n",
        "\n",
        "        # 明示的に勾配を計算しないように指定することができます. \n",
        "        # この関数ではモデルの更新はせずに単に出力だけを使いますので勾配は不要です.\n",
        "        with torch.no_grad():\n",
        "            output = model(x_i.to(DEVICE))\n",
        "\n",
        "        predicts.extend(output.data.cpu().numpy())\n",
        "\n",
        "    pred = np.array(predicts).reshape(-1)\n",
        "    return pred\n",
        "\n",
        "\n",
        "def calculate_metrics(y_true, y_pred) -> dict:\n",
        "    \"\"\"正解ラベルと予測ラベルから指標を計算する\"\"\"\n",
        "    # return regression_metrics(y_true, y_pred)\n",
        "\n",
        "    return {\n",
        "        'rmse': mean_squared_error(y_true, y_pred) ** .5\n",
        "    }\n",
        "\n",
        "\n",
        "def valid(\n",
        "    model: nn.Module, \n",
        "    y_valid: np.ndarray, \n",
        "    valid_loader: data.DataLoader\n",
        ") -> pd.Series:\n",
        "    \"\"\"検証フェーズ\n",
        "    与えられたモデル・データローダを使って検証フェーズを実行。スコアの dict と予測した値を返す\n",
        "    \"\"\"\n",
        "\n",
        "    pred = predict(model, valid_loader)\n",
        "    score = calculate_metrics(y_valid, pred)\n",
        "\n",
        "    valid_score = pd.Series(score)\n",
        "    return valid_score.add_prefix(\"valid_\"), pred"
      ],
      "execution_count": 41,
      "outputs": []
    },
    {
      "cell_type": "code",
      "metadata": {
        "id": "aYRpG0l7SzFL"
      },
      "source": [
        "from tabulate import tabulate\n",
        "from torch.optim import Adam\n",
        "\n",
        "def run_fold(\n",
        "    model: nn.Module, \n",
        "    train_df: pd.DataFrame, \n",
        "    valid_df: pd.DataFrame, \n",
        "    y_valid: np.ndarray, \n",
        "    output_dir: str, \n",
        "    n_epochs=30) -> np.ndarray:\n",
        "    \"\"\"\n",
        "    train / valid に分割されたデータで学習と同時に検証を行なう\n",
        "    \"\"\"\n",
        "\n",
        "    os.makedirs(output_i, exist_ok=True)\n",
        "\n",
        "    optimizer = Adam(model.parameters(), lr=1e-3)\n",
        "\n",
        "    # 0: 前準備. dataframe から data loader を作成\n",
        "    train_dataset = AtmaDataset(meta_df=train_df)\n",
        "    # 検証用の方は is_train=False にしてデータ拡張オフにする\n",
        "    valid_dataset = AtmaDataset(meta_df=valid_df, is_train=False)\n",
        "\n",
        "    train_loader = data.DataLoader(\n",
        "        train_dataset, batch_size=64, shuffle=True, drop_last=True, num_workers=NUM_WORKERS\n",
        "    )\n",
        "    valid_loader = data.DataLoader(valid_dataset, batch_size=256, num_workers=NUM_WORKERS)\n",
        "\n",
        "    # --- 保存のための変数定義\n",
        "    score_df = pd.DataFrame()\n",
        "    valid_score = np.inf\n",
        "    valid_score_key = \"valid_rmse\"\n",
        "    valid_best_pred = None\n",
        "\n",
        "    for epoch in range(1, n_epochs + 1):\n",
        "        print(f'start {epoch}')\n",
        "\n",
        "        # 1: 学習用データで学習を実行。学習時のロスを取得\n",
        "        with timer(prefix=\"train: epoch={}\".format(epoch)):\n",
        "            score_train = train(\n",
        "                model, optimizer, train_loader\n",
        "            )\n",
        "\n",
        "        # 2: 検証データでのスコアを計算\n",
        "        with timer(prefix=\"validate\"):\n",
        "            score_valid, y_valid_pred = valid(model=model, valid_loader=valid_loader, y_valid=y_valid)\n",
        "\n",
        "\n",
        "        # --- 学習のロスと検証スコアの値をデータフレームに追加\n",
        "        row = pd.concat([score_train, score_valid])\n",
        "        row[\"epoch\"] = epoch\n",
        "        row = pd.DataFrame([row])\n",
        "        print(tabulate(row, headers=row.columns))\n",
        "        score_df = pd.concat([score_df, row], ignore_index=True)\n",
        "        # ---\n",
        "\n",
        "        # 今の検証スコアと過去最高のスコアを比較\n",
        "        current_score = score_valid[valid_score_key]\n",
        "        if current_score < valid_score:\n",
        "            # スコア改善したときモデルを保存する\n",
        "            print(f'validation score is improved!! {valid_score:.4f} -> {current_score:.4f}')\n",
        "            torch.save(\n",
        "                model.state_dict(), os.path.join(output_dir, 'model_best.pth')\n",
        "            )\n",
        "            valid_score = current_score\n",
        "            valid_best_pred = y_valid_pred\n",
        "\n",
        "    score_df.to_csv(os.path.join(output_dir, 'score.csv'), index=False)\n",
        "    return valid_best_pred"
      ],
      "execution_count": 42,
      "outputs": []
    },
    {
      "cell_type": "code",
      "metadata": {
        "id": "0d7nL4ujUNc6"
      },
      "source": [
        "N_EPOCHS = 15"
      ],
      "execution_count": 43,
      "outputs": []
    },
    {
      "cell_type": "code",
      "metadata": {
        "id": "Sncy3qa7U4_E"
      },
      "source": [
        "def get_output_dir(n_cv: int):\n",
        "    return os.path.join(output_dir, 'simple_resnet', f'cv={n_cv}')"
      ],
      "execution_count": 44,
      "outputs": []
    },
    {
      "cell_type": "code",
      "metadata": {
        "colab": {
          "base_uri": "https://localhost:8080/"
        },
        "id": "8NwIausCTRzJ",
        "outputId": "f8f58757-a92c-4684-da6b-4a74687d5d95"
      },
      "source": [
        "oof = np.zeros((len(train_df), ), dtype=np.float32)\n",
        "\n",
        "for i, (idx_tr, idx_valid) in enumerate(cv):\n",
        "    output_i = get_output_dir(i)\n",
        "    model = resnet34(pretrained=False)\n",
        "    model.fc = nn.Linear(in_features=512, out_features=1, bias=True)\n",
        "\n",
        "    model.to(DEVICE)\n",
        "\n",
        "    oof_i = run_fold(\n",
        "        model=model, \n",
        "        train_df=train_meta_df.iloc[idx_tr], \n",
        "        valid_df=train_meta_df.iloc[idx_valid], \n",
        "        y_valid=train_meta_df['target'].values[idx_valid],\n",
        "        output_dir=output_i,\n",
        "\n",
        "        # validation score の値を見つつ適宜設定する\n",
        "        n_epochs=N_EPOCHS\n",
        "    )\n",
        "\n",
        "    oof[idx_valid] = oof_i"
      ],
      "execution_count": 45,
      "outputs": [
        {
          "output_type": "stream",
          "text": [
            "start 1\n"
          ],
          "name": "stdout"
        },
        {
          "output_type": "stream",
          "text": [
            "/usr/local/lib/python3.7/dist-packages/torch/nn/functional.py:718: UserWarning: Named tensors and all their associated APIs are an experimental feature and subject to change. Please do not use them for anything important until they are released as stable. (Triggered internally at  /pytorch/c10/core/TensorImpl.h:1156.)\n",
            "  return torch.max_pool2d(input, kernel_size, stride, padding, dilation, ceil_mode)\n"
          ],
          "name": "stderr"
        },
        {
          "output_type": "stream",
          "text": [
            "train: epoch=1 22.684[s]\n",
            "validate 2.915[s]\n",
            "      train_loss    valid_rmse    epoch\n",
            "--  ------------  ------------  -------\n",
            " 0       1.45156       1.01825        1\n",
            "validation score is improved!! inf -> 1.0182\n",
            "start 2\n",
            "train: epoch=2 22.770[s]\n",
            "validate 2.885[s]\n",
            "      train_loss    valid_rmse    epoch\n",
            "--  ------------  ------------  -------\n",
            " 0      0.977561       0.96558        2\n",
            "validation score is improved!! 1.0182 -> 0.9656\n",
            "start 3\n",
            "train: epoch=3 22.728[s]\n",
            "validate 2.900[s]\n",
            "      train_loss    valid_rmse    epoch\n",
            "--  ------------  ------------  -------\n",
            " 0      0.964079      0.966757        3\n",
            "start 4\n",
            "train: epoch=4 22.640[s]\n",
            "validate 2.881[s]\n",
            "      train_loss    valid_rmse    epoch\n",
            "--  ------------  ------------  -------\n",
            " 0      0.941255      0.954596        4\n",
            "validation score is improved!! 0.9656 -> 0.9546\n",
            "start 5\n",
            "train: epoch=5 22.605[s]\n",
            "validate 2.988[s]\n",
            "      train_loss    valid_rmse    epoch\n",
            "--  ------------  ------------  -------\n",
            " 0      0.941847      0.953343        5\n",
            "validation score is improved!! 0.9546 -> 0.9533\n",
            "start 6\n",
            "train: epoch=6 23.030[s]\n",
            "validate 2.908[s]\n",
            "      train_loss    valid_rmse    epoch\n",
            "--  ------------  ------------  -------\n",
            " 0      0.941816      0.955894        6\n",
            "start 7\n",
            "train: epoch=7 22.968[s]\n",
            "validate 2.932[s]\n",
            "      train_loss    valid_rmse    epoch\n",
            "--  ------------  ------------  -------\n",
            " 0      0.940158      0.953105        7\n",
            "validation score is improved!! 0.9533 -> 0.9531\n",
            "start 8\n",
            "train: epoch=8 23.335[s]\n",
            "validate 2.940[s]\n",
            "      train_loss    valid_rmse    epoch\n",
            "--  ------------  ------------  -------\n",
            " 0        0.9394      0.986788        8\n",
            "start 9\n",
            "train: epoch=9 22.697[s]\n",
            "validate 2.943[s]\n",
            "      train_loss    valid_rmse    epoch\n",
            "--  ------------  ------------  -------\n",
            " 0      0.954157      0.954423        9\n",
            "start 10\n",
            "train: epoch=10 22.855[s]\n",
            "validate 2.905[s]\n",
            "      train_loss    valid_rmse    epoch\n",
            "--  ------------  ------------  -------\n",
            " 0       0.92829      0.977288       10\n",
            "start 11\n",
            "train: epoch=11 22.745[s]\n",
            "validate 2.915[s]\n",
            "      train_loss    valid_rmse    epoch\n",
            "--  ------------  ------------  -------\n",
            " 0      0.949026       1.10209       11\n",
            "start 12\n",
            "train: epoch=12 22.752[s]\n",
            "validate 2.892[s]\n",
            "      train_loss    valid_rmse    epoch\n",
            "--  ------------  ------------  -------\n",
            " 0      0.948219      0.967866       12\n",
            "start 13\n",
            "train: epoch=13 22.856[s]\n",
            "validate 2.959[s]\n",
            "      train_loss    valid_rmse    epoch\n",
            "--  ------------  ------------  -------\n",
            " 0      0.938976      0.937082       13\n",
            "validation score is improved!! 0.9531 -> 0.9371\n",
            "start 14\n",
            "train: epoch=14 22.887[s]\n",
            "validate 2.941[s]\n",
            "      train_loss    valid_rmse    epoch\n",
            "--  ------------  ------------  -------\n",
            " 0      0.926533      0.959773       14\n",
            "start 15\n",
            "train: epoch=15 22.636[s]\n",
            "validate 2.942[s]\n",
            "      train_loss    valid_rmse    epoch\n",
            "--  ------------  ------------  -------\n",
            " 0      0.937904      0.988776       15\n",
            "start 1\n",
            "train: epoch=1 22.714[s]\n",
            "validate 2.936[s]\n",
            "      train_loss    valid_rmse    epoch\n",
            "--  ------------  ------------  -------\n",
            " 0       2.57862      0.993638        1\n",
            "validation score is improved!! inf -> 0.9936\n",
            "start 2\n",
            "train: epoch=2 23.144[s]\n",
            "validate 2.888[s]\n",
            "      train_loss    valid_rmse    epoch\n",
            "--  ------------  ------------  -------\n",
            " 0      0.978097      0.953387        2\n",
            "validation score is improved!! 0.9936 -> 0.9534\n",
            "start 3\n",
            "train: epoch=3 23.095[s]\n",
            "validate 2.917[s]\n",
            "      train_loss    valid_rmse    epoch\n",
            "--  ------------  ------------  -------\n",
            " 0      0.933526      0.946864        3\n",
            "validation score is improved!! 0.9534 -> 0.9469\n",
            "start 4\n",
            "train: epoch=4 22.978[s]\n",
            "validate 3.051[s]\n",
            "      train_loss    valid_rmse    epoch\n",
            "--  ------------  ------------  -------\n",
            " 0      0.935262      0.960052        4\n",
            "start 5\n",
            "train: epoch=5 22.672[s]\n",
            "validate 2.902[s]\n",
            "      train_loss    valid_rmse    epoch\n",
            "--  ------------  ------------  -------\n",
            " 0      0.943503      0.931781        5\n",
            "validation score is improved!! 0.9469 -> 0.9318\n",
            "start 6\n",
            "train: epoch=6 23.149[s]\n",
            "validate 2.955[s]\n",
            "      train_loss    valid_rmse    epoch\n",
            "--  ------------  ------------  -------\n",
            " 0      0.915886      0.970826        6\n",
            "start 7\n",
            "train: epoch=7 22.717[s]\n",
            "validate 2.932[s]\n",
            "      train_loss    valid_rmse    epoch\n",
            "--  ------------  ------------  -------\n",
            " 0       0.92344      0.915282        7\n",
            "validation score is improved!! 0.9318 -> 0.9153\n",
            "start 8\n",
            "train: epoch=8 22.972[s]\n",
            "validate 2.921[s]\n",
            "      train_loss    valid_rmse    epoch\n",
            "--  ------------  ------------  -------\n",
            " 0      0.904159       1.04644        8\n",
            "start 9\n",
            "train: epoch=9 22.618[s]\n",
            "validate 2.886[s]\n",
            "      train_loss    valid_rmse    epoch\n",
            "--  ------------  ------------  -------\n",
            " 0      0.910785       1.00591        9\n",
            "start 10\n",
            "train: epoch=10 22.733[s]\n",
            "validate 2.933[s]\n",
            "      train_loss    valid_rmse    epoch\n",
            "--  ------------  ------------  -------\n",
            " 0      0.912681       0.90862       10\n",
            "validation score is improved!! 0.9153 -> 0.9086\n",
            "start 11\n",
            "train: epoch=11 22.992[s]\n",
            "validate 2.929[s]\n",
            "      train_loss    valid_rmse    epoch\n",
            "--  ------------  ------------  -------\n",
            " 0      0.940407      0.941864       11\n",
            "start 12\n",
            "train: epoch=12 22.628[s]\n",
            "validate 2.935[s]\n",
            "      train_loss    valid_rmse    epoch\n",
            "--  ------------  ------------  -------\n",
            " 0      0.891326      0.970932       12\n",
            "start 13\n",
            "train: epoch=13 22.769[s]\n",
            "validate 2.962[s]\n",
            "      train_loss    valid_rmse    epoch\n",
            "--  ------------  ------------  -------\n",
            " 0       0.91218      0.956386       13\n",
            "start 14\n",
            "train: epoch=14 22.914[s]\n",
            "validate 2.898[s]\n",
            "      train_loss    valid_rmse    epoch\n",
            "--  ------------  ------------  -------\n",
            " 0      0.898257      0.967791       14\n",
            "start 15\n",
            "train: epoch=15 22.666[s]\n",
            "validate 2.934[s]\n",
            "      train_loss    valid_rmse    epoch\n",
            "--  ------------  ------------  -------\n",
            " 0      0.893413       1.16907       15\n",
            "start 1\n",
            "train: epoch=1 22.836[s]\n",
            "validate 2.933[s]\n",
            "      train_loss    valid_rmse    epoch\n",
            "--  ------------  ------------  -------\n",
            " 0       1.90775      0.988417        1\n",
            "validation score is improved!! inf -> 0.9884\n",
            "start 2\n",
            "train: epoch=2 23.075[s]\n",
            "validate 2.918[s]\n",
            "      train_loss    valid_rmse    epoch\n",
            "--  ------------  ------------  -------\n",
            " 0      0.971211      0.999063        2\n",
            "start 3\n",
            "train: epoch=3 22.839[s]\n",
            "validate 2.950[s]\n",
            "      train_loss    valid_rmse    epoch\n",
            "--  ------------  ------------  -------\n",
            " 0      0.975783       1.01292        3\n",
            "start 4\n",
            "train: epoch=4 22.554[s]\n",
            "validate 2.932[s]\n",
            "      train_loss    valid_rmse    epoch\n",
            "--  ------------  ------------  -------\n",
            " 0      0.939463      0.984097        4\n",
            "validation score is improved!! 0.9884 -> 0.9841\n",
            "start 5\n",
            "train: epoch=5 23.198[s]\n",
            "validate 2.934[s]\n",
            "      train_loss    valid_rmse    epoch\n",
            "--  ------------  ------------  -------\n",
            " 0      0.940386       1.00883        5\n",
            "start 6\n",
            "train: epoch=6 22.662[s]\n",
            "validate 2.915[s]\n",
            "      train_loss    valid_rmse    epoch\n",
            "--  ------------  ------------  -------\n",
            " 0      0.936331       1.05659        6\n",
            "start 7\n",
            "train: epoch=7 22.681[s]\n",
            "validate 2.909[s]\n",
            "      train_loss    valid_rmse    epoch\n",
            "--  ------------  ------------  -------\n",
            " 0      0.927141      0.977383        7\n",
            "validation score is improved!! 0.9841 -> 0.9774\n",
            "start 8\n",
            "train: epoch=8 23.076[s]\n",
            "validate 2.947[s]\n",
            "      train_loss    valid_rmse    epoch\n",
            "--  ------------  ------------  -------\n",
            " 0      0.916096        1.0047        8\n",
            "start 9\n",
            "train: epoch=9 22.947[s]\n",
            "validate 2.921[s]\n",
            "      train_loss    valid_rmse    epoch\n",
            "--  ------------  ------------  -------\n",
            " 0      0.908619      0.982758        9\n",
            "start 10\n",
            "train: epoch=10 22.924[s]\n",
            "validate 2.873[s]\n",
            "      train_loss    valid_rmse    epoch\n",
            "--  ------------  ------------  -------\n",
            " 0      0.907622       1.00847       10\n",
            "start 11\n",
            "train: epoch=11 22.952[s]\n",
            "validate 2.938[s]\n",
            "      train_loss    valid_rmse    epoch\n",
            "--  ------------  ------------  -------\n",
            " 0      0.907027       1.01705       11\n",
            "start 12\n",
            "train: epoch=12 22.722[s]\n",
            "validate 2.972[s]\n",
            "      train_loss    valid_rmse    epoch\n",
            "--  ------------  ------------  -------\n",
            " 0      0.892273       1.12409       12\n",
            "start 13\n",
            "train: epoch=13 23.098[s]\n",
            "validate 2.916[s]\n",
            "      train_loss    valid_rmse    epoch\n",
            "--  ------------  ------------  -------\n",
            " 0      0.904027      0.951576       13\n",
            "validation score is improved!! 0.9774 -> 0.9516\n",
            "start 14\n",
            "train: epoch=14 23.087[s]\n",
            "validate 2.925[s]\n",
            "      train_loss    valid_rmse    epoch\n",
            "--  ------------  ------------  -------\n",
            " 0      0.880925      0.982442       14\n",
            "start 15\n",
            "train: epoch=15 23.061[s]\n",
            "validate 2.914[s]\n",
            "      train_loss    valid_rmse    epoch\n",
            "--  ------------  ------------  -------\n",
            " 0      0.881541      0.985489       15\n",
            "start 1\n",
            "train: epoch=1 23.056[s]\n",
            "validate 2.929[s]\n",
            "      train_loss    valid_rmse    epoch\n",
            "--  ------------  ------------  -------\n",
            " 0       2.20647      0.981428        1\n",
            "validation score is improved!! inf -> 0.9814\n",
            "start 2\n",
            "train: epoch=2 23.105[s]\n",
            "validate 2.992[s]\n",
            "      train_loss    valid_rmse    epoch\n",
            "--  ------------  ------------  -------\n",
            " 0      0.981724       1.03097        2\n",
            "start 3\n",
            "train: epoch=3 23.050[s]\n",
            "validate 2.899[s]\n",
            "      train_loss    valid_rmse    epoch\n",
            "--  ------------  ------------  -------\n",
            " 0      0.944536      0.935686        3\n",
            "validation score is improved!! 0.9814 -> 0.9357\n",
            "start 4\n",
            "train: epoch=4 23.265[s]\n",
            "validate 2.952[s]\n",
            "      train_loss    valid_rmse    epoch\n",
            "--  ------------  ------------  -------\n",
            " 0      0.965803       1.00808        4\n",
            "start 5\n",
            "train: epoch=5 22.892[s]\n",
            "validate 2.936[s]\n",
            "      train_loss    valid_rmse    epoch\n",
            "--  ------------  ------------  -------\n",
            " 0      0.945727      0.976363        5\n",
            "start 6\n",
            "train: epoch=6 22.610[s]\n",
            "validate 2.909[s]\n",
            "      train_loss    valid_rmse    epoch\n",
            "--  ------------  ------------  -------\n",
            " 0      0.938572      0.938049        6\n",
            "start 7\n",
            "train: epoch=7 22.960[s]\n",
            "validate 2.936[s]\n",
            "      train_loss    valid_rmse    epoch\n",
            "--  ------------  ------------  -------\n",
            " 0      0.925096      0.940224        7\n",
            "start 8\n",
            "train: epoch=8 23.057[s]\n",
            "validate 2.907[s]\n",
            "      train_loss    valid_rmse    epoch\n",
            "--  ------------  ------------  -------\n",
            " 0      0.915434       1.00572        8\n",
            "start 9\n",
            "train: epoch=9 23.310[s]\n",
            "validate 2.944[s]\n",
            "      train_loss    valid_rmse    epoch\n",
            "--  ------------  ------------  -------\n",
            " 0      0.932185      0.906785        9\n",
            "validation score is improved!! 0.9357 -> 0.9068\n",
            "start 10\n",
            "train: epoch=10 23.017[s]\n",
            "validate 2.913[s]\n",
            "      train_loss    valid_rmse    epoch\n",
            "--  ------------  ------------  -------\n",
            " 0       0.93513      0.890819       10\n",
            "validation score is improved!! 0.9068 -> 0.8908\n",
            "start 11\n",
            "train: epoch=11 23.221[s]\n",
            "validate 2.942[s]\n",
            "      train_loss    valid_rmse    epoch\n",
            "--  ------------  ------------  -------\n",
            " 0      0.911019       0.90126       11\n",
            "start 12\n",
            "train: epoch=12 22.661[s]\n",
            "validate 2.887[s]\n",
            "      train_loss    valid_rmse    epoch\n",
            "--  ------------  ------------  -------\n",
            " 0      0.892151      0.953075       12\n",
            "start 13\n",
            "train: epoch=13 22.521[s]\n",
            "validate 2.898[s]\n",
            "      train_loss    valid_rmse    epoch\n",
            "--  ------------  ------------  -------\n",
            " 0      0.897726      0.897649       13\n",
            "start 14\n",
            "train: epoch=14 22.877[s]\n",
            "validate 2.912[s]\n",
            "      train_loss    valid_rmse    epoch\n",
            "--  ------------  ------------  -------\n",
            " 0      0.888237      0.916251       14\n",
            "start 15\n",
            "train: epoch=15 22.851[s]\n",
            "validate 2.856[s]\n",
            "      train_loss    valid_rmse    epoch\n",
            "--  ------------  ------------  -------\n",
            " 0       0.90511      0.870461       15\n",
            "validation score is improved!! 0.8908 -> 0.8705\n",
            "start 1\n",
            "train: epoch=1 22.957[s]\n",
            "validate 3.018[s]\n",
            "      train_loss    valid_rmse    epoch\n",
            "--  ------------  ------------  -------\n",
            " 0        3.4047      0.968375        1\n",
            "validation score is improved!! inf -> 0.9684\n",
            "start 2\n",
            "train: epoch=2 22.893[s]\n",
            "validate 2.930[s]\n",
            "      train_loss    valid_rmse    epoch\n",
            "--  ------------  ------------  -------\n",
            " 0      0.952549      0.927559        2\n",
            "validation score is improved!! 0.9684 -> 0.9276\n",
            "start 3\n",
            "train: epoch=3 23.034[s]\n",
            "validate 2.961[s]\n",
            "      train_loss    valid_rmse    epoch\n",
            "--  ------------  ------------  -------\n",
            " 0      0.950125      0.918462        3\n",
            "validation score is improved!! 0.9276 -> 0.9185\n",
            "start 4\n",
            "train: epoch=4 23.170[s]\n",
            "validate 2.954[s]\n",
            "      train_loss    valid_rmse    epoch\n",
            "--  ------------  ------------  -------\n",
            " 0      0.933778      0.892145        4\n",
            "validation score is improved!! 0.9185 -> 0.8921\n",
            "start 5\n",
            "train: epoch=5 23.257[s]\n",
            "validate 2.967[s]\n",
            "      train_loss    valid_rmse    epoch\n",
            "--  ------------  ------------  -------\n",
            " 0      0.937748      0.936829        5\n",
            "start 6\n",
            "train: epoch=6 22.996[s]\n",
            "validate 2.977[s]\n",
            "      train_loss    valid_rmse    epoch\n",
            "--  ------------  ------------  -------\n",
            " 0      0.930404       1.02642        6\n",
            "start 7\n",
            "train: epoch=7 22.693[s]\n",
            "validate 3.015[s]\n",
            "      train_loss    valid_rmse    epoch\n",
            "--  ------------  ------------  -------\n",
            " 0      0.942138      0.929785        7\n",
            "start 8\n",
            "train: epoch=8 23.067[s]\n",
            "validate 2.987[s]\n",
            "      train_loss    valid_rmse    epoch\n",
            "--  ------------  ------------  -------\n",
            " 0      0.931035       0.92412        8\n",
            "start 9\n",
            "train: epoch=9 23.117[s]\n",
            "validate 2.961[s]\n",
            "      train_loss    valid_rmse    epoch\n",
            "--  ------------  ------------  -------\n",
            " 0      0.936023      0.971581        9\n",
            "start 10\n",
            "train: epoch=10 22.947[s]\n",
            "validate 2.950[s]\n",
            "      train_loss    valid_rmse    epoch\n",
            "--  ------------  ------------  -------\n",
            " 0      0.934927       0.91492       10\n",
            "start 11\n",
            "train: epoch=11 22.769[s]\n",
            "validate 2.963[s]\n",
            "      train_loss    valid_rmse    epoch\n",
            "--  ------------  ------------  -------\n",
            " 0      0.947871      0.956782       11\n",
            "start 12\n",
            "train: epoch=12 23.052[s]\n",
            "validate 2.951[s]\n",
            "      train_loss    valid_rmse    epoch\n",
            "--  ------------  ------------  -------\n",
            " 0      0.961346      0.940838       12\n",
            "start 13\n",
            "train: epoch=13 23.083[s]\n",
            "validate 2.947[s]\n",
            "      train_loss    valid_rmse    epoch\n",
            "--  ------------  ------------  -------\n",
            " 0      0.933201       0.94907       13\n",
            "start 14\n",
            "train: epoch=14 23.273[s]\n",
            "validate 2.953[s]\n",
            "      train_loss    valid_rmse    epoch\n",
            "--  ------------  ------------  -------\n",
            " 0      0.925594      0.977439       14\n",
            "start 15\n",
            "train: epoch=15 22.900[s]\n",
            "validate 2.958[s]\n",
            "      train_loss    valid_rmse    epoch\n",
            "--  ------------  ------------  -------\n",
            " 0       0.92201      0.905425       15\n"
          ],
          "name": "stdout"
        }
      ]
    },
    {
      "cell_type": "code",
      "metadata": {
        "colab": {
          "base_uri": "https://localhost:8080/"
        },
        "id": "zeYNom31Tera",
        "outputId": "19bec2eb-e518-47e9-b957-97c45bc7d2ca"
      },
      "source": [
        "calculate_metrics(train_df['target'], oof)"
      ],
      "execution_count": 46,
      "outputs": [
        {
          "output_type": "execute_result",
          "data": {
            "text/plain": [
              "{'rmse': 0.9124566089895276}"
            ]
          },
          "metadata": {
            "tags": []
          },
          "execution_count": 46
        }
      ]
    },
    {
      "cell_type": "code",
      "metadata": {
        "id": "Rfa8f6dG8GRF"
      },
      "source": [
        "oof_df = pd.DataFrame(oof, columns=['oof'])\n",
        "oof_df['target'] = oof_df['oof'].clip(0,3)"
      ],
      "execution_count": 61,
      "outputs": []
    },
    {
      "cell_type": "code",
      "metadata": {
        "colab": {
          "base_uri": "https://localhost:8080/",
          "height": 297
        },
        "id": "w10h-sv78i0_",
        "outputId": "d50f1be6-8b3c-4b12-baa7-ba65fcc75b25"
      },
      "source": [
        "oof_df.describe()"
      ],
      "execution_count": 62,
      "outputs": [
        {
          "output_type": "execute_result",
          "data": {
            "text/html": [
              "<div>\n",
              "<style scoped>\n",
              "    .dataframe tbody tr th:only-of-type {\n",
              "        vertical-align: middle;\n",
              "    }\n",
              "\n",
              "    .dataframe tbody tr th {\n",
              "        vertical-align: top;\n",
              "    }\n",
              "\n",
              "    .dataframe thead th {\n",
              "        text-align: right;\n",
              "    }\n",
              "</style>\n",
              "<table border=\"1\" class=\"dataframe\">\n",
              "  <thead>\n",
              "    <tr style=\"text-align: right;\">\n",
              "      <th></th>\n",
              "      <th>oof</th>\n",
              "      <th>target</th>\n",
              "    </tr>\n",
              "  </thead>\n",
              "  <tbody>\n",
              "    <tr>\n",
              "      <th>count</th>\n",
              "      <td>3937.000000</td>\n",
              "      <td>3937.000000</td>\n",
              "    </tr>\n",
              "    <tr>\n",
              "      <th>mean</th>\n",
              "      <td>1.790346</td>\n",
              "      <td>1.790310</td>\n",
              "    </tr>\n",
              "    <tr>\n",
              "      <th>std</th>\n",
              "      <td>0.304461</td>\n",
              "      <td>0.304316</td>\n",
              "    </tr>\n",
              "    <tr>\n",
              "      <th>min</th>\n",
              "      <td>0.820578</td>\n",
              "      <td>0.820578</td>\n",
              "    </tr>\n",
              "    <tr>\n",
              "      <th>25%</th>\n",
              "      <td>1.589250</td>\n",
              "      <td>1.589250</td>\n",
              "    </tr>\n",
              "    <tr>\n",
              "      <th>50%</th>\n",
              "      <td>1.821826</td>\n",
              "      <td>1.821826</td>\n",
              "    </tr>\n",
              "    <tr>\n",
              "      <th>75%</th>\n",
              "      <td>1.984243</td>\n",
              "      <td>1.984243</td>\n",
              "    </tr>\n",
              "    <tr>\n",
              "      <th>max</th>\n",
              "      <td>3.095428</td>\n",
              "      <td>3.000000</td>\n",
              "    </tr>\n",
              "  </tbody>\n",
              "</table>\n",
              "</div>"
            ],
            "text/plain": [
              "               oof       target\n",
              "count  3937.000000  3937.000000\n",
              "mean      1.790346     1.790310\n",
              "std       0.304461     0.304316\n",
              "min       0.820578     0.820578\n",
              "25%       1.589250     1.589250\n",
              "50%       1.821826     1.821826\n",
              "75%       1.984243     1.984243\n",
              "max       3.095428     3.000000"
            ]
          },
          "metadata": {
            "tags": []
          },
          "execution_count": 62
        }
      ]
    },
    {
      "cell_type": "code",
      "metadata": {
        "colab": {
          "base_uri": "https://localhost:8080/",
          "height": 336
        },
        "id": "ocmSVRnwTjyl",
        "outputId": "32e26686-c0e9-4fab-a63a-73b8065843e5"
      },
      "source": [
        "sns.distplot(oof)"
      ],
      "execution_count": 50,
      "outputs": [
        {
          "output_type": "stream",
          "text": [
            "/usr/local/lib/python3.7/dist-packages/seaborn/distributions.py:2557: FutureWarning: `distplot` is a deprecated function and will be removed in a future version. Please adapt your code to use either `displot` (a figure-level function with similar flexibility) or `histplot` (an axes-level function for histograms).\n",
            "  warnings.warn(msg, FutureWarning)\n"
          ],
          "name": "stderr"
        },
        {
          "output_type": "execute_result",
          "data": {
            "text/plain": [
              "<matplotlib.axes._subplots.AxesSubplot at 0x7f8f621c3e90>"
            ]
          },
          "metadata": {
            "tags": []
          },
          "execution_count": 50
        },
        {
          "output_type": "display_data",
          "data": {
            "image/png": "[encoded data removed]",
            "text/plain": [
              "<Figure size 432x288 with 1 Axes>"
            ]
          },
          "metadata": {
            "tags": [],
            "needs_background": "light"
          }
        }
      ]
    },
    {
      "cell_type": "code",
      "metadata": {
        "colab": {
          "base_uri": "https://localhost:8080/"
        },
        "id": "hsoYJ7z2ZV9Q",
        "outputId": "7cf4fe1f-51bc-40fb-c524-b642fa1e0f40"
      },
      "source": [
        "score_list = []\n",
        "for i in range(len(cv)):\n",
        "    score = pd.read_csv(os.path.join(get_output_dir(i), 'score.csv'))\n",
        "    score_list.append(score)\n",
        "\n",
        "    print(i, ': epoch =', score['valid_rmse'].idxmin(), ', ', score['train_loss'].idxmin())"
      ],
      "execution_count": 51,
      "outputs": [
        {
          "output_type": "stream",
          "text": [
            "0 : epoch = 12 ,  13\n",
            "1 : epoch = 9 ,  11\n",
            "2 : epoch = 12 ,  13\n",
            "3 : epoch = 14 ,  13\n",
            "4 : epoch = 3 ,  14\n"
          ],
          "name": "stdout"
        }
      ]
    },
    {
      "cell_type": "code",
      "metadata": {
        "id": "kp_DFMZ-9GHP"
      },
      "source": [
        "def plot_score(score_list, score_data):\n",
        "    for score in score_list:\n",
        "        plt.plot(score[score_data])"
      ],
      "execution_count": 52,
      "outputs": []
    },
    {
      "cell_type": "code",
      "metadata": {
        "colab": {
          "base_uri": "https://localhost:8080/",
          "height": 267
        },
        "id": "7srQeOhk-Rte",
        "outputId": "ac68b40b-9314-4846-db1c-6b2378d2f974"
      },
      "source": [
        "plot_score(score_list, 'train_loss')"
      ],
      "execution_count": 53,
      "outputs": [
        {
          "output_type": "display_data",
          "data": {
            "image/png": "[encoded data removed]",
            "text/plain": [
              "<Figure size 432x288 with 1 Axes>"
            ]
          },
          "metadata": {
            "tags": [],
            "needs_background": "light"
          }
        }
      ]
    },
    {
      "cell_type": "code",
      "metadata": {
        "colab": {
          "base_uri": "https://localhost:8080/",
          "height": 265
        },
        "id": "ZraQgSRK9208",
        "outputId": "f84ea197-91c0-4544-9898-eb47d016927b"
      },
      "source": [
        "plot_score(score_list, 'valid_rmse')"
      ],
      "execution_count": 54,
      "outputs": [
        {
          "output_type": "display_data",
          "data": {
            "image/png": "[encoded data removed]",
            "text/plain": [
              "<Figure size 432x288 with 1 Axes>"
            ]
          },
          "metadata": {
            "tags": [],
            "needs_background": "light"
          }
        }
      ]
    },
    {
      "cell_type": "markdown",
      "metadata": {
        "id": "7ZDwFDjfjFLA"
      },
      "source": [
        "### Test"
      ]
    },
    {
      "cell_type": "code",
      "metadata": {
        "id": "t50mo9zdf_Hw"
      },
      "source": [
        "test_meta_df = create_metadata(test_df)\n",
        "\n",
        "# 学習時のデータ拡張はオフにしたいので is_train=False としている\n",
        "test_dataset = AtmaDataset(meta_df=test_meta_df, is_train=False)\n",
        "test_loader = data.DataLoader(dataset=test_dataset, batch_size=128, drop_last=False, num_workers=NUM_WORKERS)"
      ],
      "execution_count": 55,
      "outputs": []
    },
    {
      "cell_type": "code",
      "metadata": {
        "colab": {
          "base_uri": "https://localhost:8080/"
        },
        "id": "TWpXGqKTjSLF",
        "outputId": "bef1ded5-d738-453e-c5e8-a08529079034"
      },
      "source": [
        "test_predictions = []\n",
        "\n",
        "for i in range(len(cv)):\n",
        "    output_i = get_output_dir(i)\n",
        "\n",
        "    model = resnet34(pretrained=False)\n",
        "    model.fc = nn.Linear(in_features=512, out_features=1, bias=True)\n",
        "\n",
        "    # 最も良かった重みを読みだす\n",
        "    # https://pytorch.org/tutorials/beginner/saving_loading_models.html\n",
        "    model_path = os.path.join(output_i, 'model_best.pth')\n",
        "\n",
        "    model.load_state_dict(torch.load(model_path))\n",
        "\n",
        "    # GPU環境で予測するため `to` で変換\n",
        "    model.to(DEVICE)\n",
        "\n",
        "    with timer(prefix=f'pred cv={i}'):\n",
        "        y_pred_i = predict(model, loader=test_loader)\n",
        "\n",
        "    test_predictions.append(y_pred_i)"
      ],
      "execution_count": 56,
      "outputs": [
        {
          "output_type": "stream",
          "text": [
            "pred cv=0 17.315[s]\n",
            "pred cv=1 17.318[s]\n",
            "pred cv=2 17.260[s]\n",
            "pred cv=3 17.192[s]\n",
            "pred cv=4 17.304[s]\n"
          ],
          "name": "stdout"
        }
      ]
    },
    {
      "cell_type": "code",
      "metadata": {
        "id": "Px7kyghRjdCH",
        "outputId": "5f5d8036-d66c-4e56-8b65-d28ba9b81fa7",
        "colab": {
          "base_uri": "https://localhost:8080/",
          "height": 314
        }
      },
      "source": [
        "# すべての予測の平均値を使う\n",
        "pred_mean = np.array(test_predictions).mean(axis=0)\n",
        "\n",
        "pred_df = pd.DataFrame({\"mean\": pred_mean})\n",
        "pred_df['target'] = pred_df['mean'].clip(0,3)\n",
        "print(pred_df.shape)\n",
        "pred_df.describe()"
      ],
      "execution_count": 57,
      "outputs": [
        {
          "output_type": "stream",
          "text": [
            "(5919, 2)\n"
          ],
          "name": "stdout"
        },
        {
          "output_type": "execute_result",
          "data": {
            "text/html": [
              "<div>\n",
              "<style scoped>\n",
              "    .dataframe tbody tr th:only-of-type {\n",
              "        vertical-align: middle;\n",
              "    }\n",
              "\n",
              "    .dataframe tbody tr th {\n",
              "        vertical-align: top;\n",
              "    }\n",
              "\n",
              "    .dataframe thead th {\n",
              "        text-align: right;\n",
              "    }\n",
              "</style>\n",
              "<table border=\"1\" class=\"dataframe\">\n",
              "  <thead>\n",
              "    <tr style=\"text-align: right;\">\n",
              "      <th></th>\n",
              "      <th>mean</th>\n",
              "      <th>target</th>\n",
              "    </tr>\n",
              "  </thead>\n",
              "  <tbody>\n",
              "    <tr>\n",
              "      <th>count</th>\n",
              "      <td>5919.000000</td>\n",
              "      <td>5919.000000</td>\n",
              "    </tr>\n",
              "    <tr>\n",
              "      <th>mean</th>\n",
              "      <td>1.784614</td>\n",
              "      <td>1.784614</td>\n",
              "    </tr>\n",
              "    <tr>\n",
              "      <th>std</th>\n",
              "      <td>0.227299</td>\n",
              "      <td>0.227299</td>\n",
              "    </tr>\n",
              "    <tr>\n",
              "      <th>min</th>\n",
              "      <td>1.078915</td>\n",
              "      <td>1.078915</td>\n",
              "    </tr>\n",
              "    <tr>\n",
              "      <th>25%</th>\n",
              "      <td>1.633937</td>\n",
              "      <td>1.633937</td>\n",
              "    </tr>\n",
              "    <tr>\n",
              "      <th>50%</th>\n",
              "      <td>1.788053</td>\n",
              "      <td>1.788053</td>\n",
              "    </tr>\n",
              "    <tr>\n",
              "      <th>75%</th>\n",
              "      <td>1.948535</td>\n",
              "      <td>1.948535</td>\n",
              "    </tr>\n",
              "    <tr>\n",
              "      <th>max</th>\n",
              "      <td>2.792385</td>\n",
              "      <td>2.792385</td>\n",
              "    </tr>\n",
              "  </tbody>\n",
              "</table>\n",
              "</div>"
            ],
            "text/plain": [
              "              mean       target\n",
              "count  5919.000000  5919.000000\n",
              "mean      1.784614     1.784614\n",
              "std       0.227299     0.227299\n",
              "min       1.078915     1.078915\n",
              "25%       1.633937     1.633937\n",
              "50%       1.788053     1.788053\n",
              "75%       1.948535     1.948535\n",
              "max       2.792385     2.792385"
            ]
          },
          "metadata": {
            "tags": []
          },
          "execution_count": 57
        }
      ]
    },
    {
      "cell_type": "code",
      "metadata": {
        "colab": {
          "base_uri": "https://localhost:8080/",
          "height": 297
        },
        "id": "11rfVra97x9Q",
        "outputId": "eacac4e7-d0db-4b57-da3d-47c6597f8379"
      },
      "source": [
        "train_df.describe()"
      ],
      "execution_count": 58,
      "outputs": [
        {
          "output_type": "execute_result",
          "data": {
            "text/html": [
              "<div>\n",
              "<style scoped>\n",
              "    .dataframe tbody tr th:only-of-type {\n",
              "        vertical-align: middle;\n",
              "    }\n",
              "\n",
              "    .dataframe tbody tr th {\n",
              "        vertical-align: top;\n",
              "    }\n",
              "\n",
              "    .dataframe thead th {\n",
              "        text-align: right;\n",
              "    }\n",
              "</style>\n",
              "<table border=\"1\" class=\"dataframe\">\n",
              "  <thead>\n",
              "    <tr style=\"text-align: right;\">\n",
              "      <th></th>\n",
              "      <th>sorting_date</th>\n",
              "      <th>target</th>\n",
              "    </tr>\n",
              "  </thead>\n",
              "  <tbody>\n",
              "    <tr>\n",
              "      <th>count</th>\n",
              "      <td>3937.000000</td>\n",
              "      <td>3937.000000</td>\n",
              "    </tr>\n",
              "    <tr>\n",
              "      <th>mean</th>\n",
              "      <td>1735.737871</td>\n",
              "      <td>1.847379</td>\n",
              "    </tr>\n",
              "    <tr>\n",
              "      <th>std</th>\n",
              "      <td>96.754224</td>\n",
              "      <td>0.967542</td>\n",
              "    </tr>\n",
              "    <tr>\n",
              "      <th>min</th>\n",
              "      <td>1440.000000</td>\n",
              "      <td>-1.110000</td>\n",
              "    </tr>\n",
              "    <tr>\n",
              "      <th>25%</th>\n",
              "      <td>1665.000000</td>\n",
              "      <td>1.140000</td>\n",
              "    </tr>\n",
              "    <tr>\n",
              "      <th>50%</th>\n",
              "      <td>1757.000000</td>\n",
              "      <td>2.060000</td>\n",
              "    </tr>\n",
              "    <tr>\n",
              "      <th>75%</th>\n",
              "      <td>1806.000000</td>\n",
              "      <td>2.550000</td>\n",
              "    </tr>\n",
              "    <tr>\n",
              "      <th>max</th>\n",
              "      <td>1991.000000</td>\n",
              "      <td>4.400000</td>\n",
              "    </tr>\n",
              "  </tbody>\n",
              "</table>\n",
              "</div>"
            ],
            "text/plain": [
              "       sorting_date       target\n",
              "count   3937.000000  3937.000000\n",
              "mean    1735.737871     1.847379\n",
              "std       96.754224     0.967542\n",
              "min     1440.000000    -1.110000\n",
              "25%     1665.000000     1.140000\n",
              "50%     1757.000000     2.060000\n",
              "75%     1806.000000     2.550000\n",
              "max     1991.000000     4.400000"
            ]
          },
          "metadata": {
            "tags": []
          },
          "execution_count": 58
        }
      ]
    },
    {
      "cell_type": "code",
      "metadata": {
        "id": "TlawVz5jEtll"
      },
      "source": [
        "pred_df[['target']].to_csv(os.path.join(output_dir, \"0002__submission.csv\"), index=False)"
      ],
      "execution_count": 59,
      "outputs": []
    },
    {
      "cell_type": "code",
      "metadata": {
        "colab": {
          "base_uri": "https://localhost:8080/",
          "height": 350
        },
        "id": "DsuphKB67zr5",
        "outputId": "afd61c17-527a-47d3-f2d8-2b4b18ed4f49"
      },
      "source": [
        "sns.distplot(pred_df['target'])"
      ],
      "execution_count": 60,
      "outputs": [
        {
          "output_type": "stream",
          "text": [
            "/usr/local/lib/python3.7/dist-packages/seaborn/distributions.py:2557: FutureWarning: `distplot` is a deprecated function and will be removed in a future version. Please adapt your code to use either `displot` (a figure-level function with similar flexibility) or `histplot` (an axes-level function for histograms).\n",
            "  warnings.warn(msg, FutureWarning)\n"
          ],
          "name": "stderr"
        },
        {
          "output_type": "execute_result",
          "data": {
            "text/plain": [
              "<matplotlib.axes._subplots.AxesSubplot at 0x7f8f6056b350>"
            ]
          },
          "metadata": {
            "tags": []
          },
          "execution_count": 60
        },
        {
          "output_type": "display_data",
          "data": {
            "image/png": "[encoded data removed]",
            "text/plain": [
              "<Figure size 432x288 with 1 Axes>"
            ]
          },
          "metadata": {
            "tags": [],
            "needs_background": "light"
          }
        }
      ]
    },
    {
      "cell_type": "markdown",
      "metadata": {
        "id": "Xko4GiiyV0sz"
      },
      "source": [
        "### RESULT\n",
        "#### submit 2: targetをsorting_dateに\n",
        "- epoch: 15\n",
        "- rmse: 0.91245\n",
        "- LB: 0.9049\n",
        "\n",
        "#### submit 1: tutorial\n",
        "- epoch: 30\n",
        "- rmse: 0.899111\n",
        "- LB: 0.8908\n"
      ]
    },
    {
      "cell_type": "code",
      "metadata": {
        "id": "GugmsOVF-g6J"
      },
      "source": [
        ""
      ],
      "execution_count": 60,
      "outputs": []
    }
  ]
}