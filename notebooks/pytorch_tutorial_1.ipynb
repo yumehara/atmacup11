{
  "nbformat": 4,
  "nbformat_minor": 0,
  "metadata": {
    "colab": {
      "name": "pytorch_tutorial_1.ipynb",
      "provenance": [],
      "authorship_tag": "ABX9TyMouiFX9svevCnx8icWyiPk",
      "include_colab_link": true
    },
    "kernelspec": {
      "name": "python3",
      "display_name": "Python 3"
    },
    "language_info": {
      "name": "python"
    },
    "accelerator": "GPU"
  },
  "cells": [
    {
      "cell_type": "markdown",
      "metadata": {
        "id": "view-in-github",
        "colab_type": "text"
      },
      "source": [
        "<a href=\"https://colab.research.google.com/github/yumehara/atmacup11/blob/main/notebooks/pytorch_tutorial_1.ipynb\" target=\"_parent\"><img src=\"https://colab.research.google.com/assets/colab-badge.svg\" alt=\"Open In Colab\"/></a>"
      ]
    },
    {
      "cell_type": "code",
      "metadata": {
        "id": "-DWqi2ud97n7"
      },
      "source": [
        "import os\n",
        "import pandas as pd\n",
        "import numpy as np\n",
        "from glob import  glob\n",
        "import matplotlib.pyplot as plt\n",
        "import seaborn as sns"
      ],
      "execution_count": 1,
      "outputs": []
    },
    {
      "cell_type": "code",
      "metadata": {
        "colab": {
          "base_uri": "https://localhost:8080/"
        },
        "id": "O7bZ6wze-urf",
        "outputId": "56b7049a-1c67-4889-bd06-f5da1a7e6f1d"
      },
      "source": [
        "!pip install python-vivid"
      ],
      "execution_count": 2,
      "outputs": [
        {
          "output_type": "stream",
          "text": [
            "Requirement already satisfied: python-vivid in /usr/local/lib/python3.7/dist-packages (0.3.3.4)\n",
            "Requirement already satisfied: seaborn in /usr/local/lib/python3.7/dist-packages (from python-vivid) (0.11.1)\n",
            "Requirement already satisfied: networkx in /usr/local/lib/python3.7/dist-packages (from python-vivid) (2.5.1)\n",
            "Requirement already satisfied: scikit-learn in /usr/local/lib/python3.7/dist-packages (from python-vivid) (0.22.2.post1)\n",
            "Requirement already satisfied: optuna in /usr/local/lib/python3.7/dist-packages (from python-vivid) (2.8.0)\n",
            "Requirement already satisfied: xgboost in /usr/local/lib/python3.7/dist-packages (from python-vivid) (0.90)\n",
            "Requirement already satisfied: matplotlib in /usr/local/lib/python3.7/dist-packages (from python-vivid) (3.2.2)\n",
            "Requirement already satisfied: joblib in /usr/local/lib/python3.7/dist-packages (from python-vivid) (1.0.1)\n",
            "Requirement already satisfied: feather-format in /usr/local/lib/python3.7/dist-packages (from python-vivid) (0.4.1)\n",
            "Requirement already satisfied: numpy in /usr/local/lib/python3.7/dist-packages (from python-vivid) (1.19.5)\n",
            "Requirement already satisfied: tabulate in /usr/local/lib/python3.7/dist-packages (from python-vivid) (0.8.9)\n",
            "Requirement already satisfied: pandas in /usr/local/lib/python3.7/dist-packages (from python-vivid) (1.1.5)\n",
            "Requirement already satisfied: scipy in /usr/local/lib/python3.7/dist-packages (from python-vivid) (1.4.1)\n",
            "Requirement already satisfied: tqdm in /usr/local/lib/python3.7/dist-packages (from python-vivid) (4.41.1)\n",
            "Requirement already satisfied: lightgbm in /usr/local/lib/python3.7/dist-packages (from python-vivid) (2.2.3)\n",
            "Requirement already satisfied: decorator<5,>=4.3 in /usr/local/lib/python3.7/dist-packages (from networkx->python-vivid) (4.4.2)\n",
            "Requirement already satisfied: alembic in /usr/local/lib/python3.7/dist-packages (from optuna->python-vivid) (1.6.5)\n",
            "Requirement already satisfied: packaging>=20.0 in /usr/local/lib/python3.7/dist-packages (from optuna->python-vivid) (20.9)\n",
            "Requirement already satisfied: cliff in /usr/local/lib/python3.7/dist-packages (from optuna->python-vivid) (3.8.0)\n",
            "Requirement already satisfied: colorlog in /usr/local/lib/python3.7/dist-packages (from optuna->python-vivid) (5.0.1)\n",
            "Requirement already satisfied: cmaes>=0.8.2 in /usr/local/lib/python3.7/dist-packages (from optuna->python-vivid) (0.8.2)\n",
            "Requirement already satisfied: sqlalchemy>=1.1.0 in /usr/local/lib/python3.7/dist-packages (from optuna->python-vivid) (1.4.20)\n",
            "Requirement already satisfied: kiwisolver>=1.0.1 in /usr/local/lib/python3.7/dist-packages (from matplotlib->python-vivid) (1.3.1)\n",
            "Requirement already satisfied: python-dateutil>=2.1 in /usr/local/lib/python3.7/dist-packages (from matplotlib->python-vivid) (2.8.1)\n",
            "Requirement already satisfied: pyparsing!=2.0.4,!=2.1.2,!=2.1.6,>=2.0.1 in /usr/local/lib/python3.7/dist-packages (from matplotlib->python-vivid) (2.4.7)\n",
            "Requirement already satisfied: cycler>=0.10 in /usr/local/lib/python3.7/dist-packages (from matplotlib->python-vivid) (0.10.0)\n",
            "Requirement already satisfied: pyarrow>=0.4.0 in /usr/local/lib/python3.7/dist-packages (from feather-format->python-vivid) (3.0.0)\n",
            "Requirement already satisfied: pytz>=2017.2 in /usr/local/lib/python3.7/dist-packages (from pandas->python-vivid) (2018.9)\n",
            "Requirement already satisfied: python-editor>=0.3 in /usr/local/lib/python3.7/dist-packages (from alembic->optuna->python-vivid) (1.0.4)\n",
            "Requirement already satisfied: Mako in /usr/local/lib/python3.7/dist-packages (from alembic->optuna->python-vivid) (1.1.4)\n",
            "Requirement already satisfied: cmd2>=1.0.0 in /usr/local/lib/python3.7/dist-packages (from cliff->optuna->python-vivid) (2.1.2)\n",
            "Requirement already satisfied: PyYAML>=3.12 in /usr/local/lib/python3.7/dist-packages (from cliff->optuna->python-vivid) (3.13)\n",
            "Requirement already satisfied: PrettyTable>=0.7.2 in /usr/local/lib/python3.7/dist-packages (from cliff->optuna->python-vivid) (2.1.0)\n",
            "Requirement already satisfied: stevedore>=2.0.1 in /usr/local/lib/python3.7/dist-packages (from cliff->optuna->python-vivid) (3.3.0)\n",
            "Requirement already satisfied: pbr!=2.1.0,>=2.0.0 in /usr/local/lib/python3.7/dist-packages (from cliff->optuna->python-vivid) (5.6.0)\n",
            "Requirement already satisfied: greenlet!=0.4.17; python_version >= \"3\" in /usr/local/lib/python3.7/dist-packages (from sqlalchemy>=1.1.0->optuna->python-vivid) (1.1.0)\n",
            "Requirement already satisfied: importlib-metadata; python_version < \"3.8\" in /usr/local/lib/python3.7/dist-packages (from sqlalchemy>=1.1.0->optuna->python-vivid) (4.6.0)\n",
            "Requirement already satisfied: six>=1.5 in /usr/local/lib/python3.7/dist-packages (from python-dateutil>=2.1->matplotlib->python-vivid) (1.15.0)\n",
            "Requirement already satisfied: MarkupSafe>=0.9.2 in /usr/local/lib/python3.7/dist-packages (from Mako->alembic->optuna->python-vivid) (2.0.1)\n",
            "Requirement already satisfied: colorama>=0.3.7 in /usr/local/lib/python3.7/dist-packages (from cmd2>=1.0.0->cliff->optuna->python-vivid) (0.4.4)\n",
            "Requirement already satisfied: wcwidth>=0.1.7 in /usr/local/lib/python3.7/dist-packages (from cmd2>=1.0.0->cliff->optuna->python-vivid) (0.2.5)\n",
            "Requirement already satisfied: pyperclip>=1.6 in /usr/local/lib/python3.7/dist-packages (from cmd2>=1.0.0->cliff->optuna->python-vivid) (1.8.2)\n",
            "Requirement already satisfied: typing-extensions; python_version < \"3.8\" in /usr/local/lib/python3.7/dist-packages (from cmd2>=1.0.0->cliff->optuna->python-vivid) (3.7.4.3)\n",
            "Requirement already satisfied: attrs>=16.3.0 in /usr/local/lib/python3.7/dist-packages (from cmd2>=1.0.0->cliff->optuna->python-vivid) (21.2.0)\n",
            "Requirement already satisfied: zipp>=0.5 in /usr/local/lib/python3.7/dist-packages (from importlib-metadata; python_version < \"3.8\"->sqlalchemy>=1.1.0->optuna->python-vivid) (3.4.1)\n"
          ],
          "name": "stdout"
        }
      ]
    },
    {
      "cell_type": "code",
      "metadata": {
        "colab": {
          "base_uri": "https://localhost:8080/"
        },
        "id": "1QAGAtaO-Z8H",
        "outputId": "d2782493-64b8-450d-82d9-856ef46df593"
      },
      "source": [
        "from google.colab import drive\n",
        "drive.mount('/content/drive')"
      ],
      "execution_count": 3,
      "outputs": [
        {
          "output_type": "stream",
          "text": [
            "Drive already mounted at /content/drive; to attempt to forcibly remount, call drive.mount(\"/content/drive\", force_remount=True).\n"
          ],
          "name": "stdout"
        }
      ]
    },
    {
      "cell_type": "code",
      "metadata": {
        "id": "MjyNfMGf-ie0"
      },
      "source": [
        "def get_path(filename):\n",
        "    return os.path.join('/content/drive/MyDrive/atmacup11', filename)"
      ],
      "execution_count": 4,
      "outputs": []
    },
    {
      "cell_type": "code",
      "metadata": {
        "id": "1SYw71N4-p9A"
      },
      "source": [
        "input_dir = get_path(\"inputs\")\n",
        "photo_dir = get_path(\"inputs/photos\")"
      ],
      "execution_count": 5,
      "outputs": []
    },
    {
      "cell_type": "code",
      "metadata": {
        "id": "a7cDr8zn_EGA"
      },
      "source": [
        "output_dir = get_path(\"outputs/submit_2\")\n",
        "os.makedirs(output_dir, exist_ok=True)"
      ],
      "execution_count": 6,
      "outputs": []
    },
    {
      "cell_type": "code",
      "metadata": {
        "id": "YhKEpjK4_FVR"
      },
      "source": [
        "photo_pathes = glob(get_path(\"inputs/photos/*.jpg\"))"
      ],
      "execution_count": 7,
      "outputs": []
    },
    {
      "cell_type": "code",
      "metadata": {
        "id": "C3N3rD1RAPTU"
      },
      "source": [
        "train_df_org = pd.read_csv(os.path.join(input_dir, 'train.csv'))\n",
        "test_df = pd.read_csv(os.path.join(input_dir, 'test.csv'))\n",
        "\n",
        "# material_df = pd.read_csv(os.path.join(input_dir, 'materials.csv'))\n",
        "# technique_df = pd.read_csv(os.path.join(input_dir, 'techniques.csv'))"
      ],
      "execution_count": 8,
      "outputs": []
    },
    {
      "cell_type": "markdown",
      "metadata": {
        "id": "0_6pWmMhAA2B"
      },
      "source": [
        "### 画像データの読み込み"
      ]
    },
    {
      "cell_type": "code",
      "metadata": {
        "id": "oC1w6LwJ_trm"
      },
      "source": [
        "from PIL import Image\n",
        "\n",
        "def to_img_path(object_id):\n",
        "    return os.path.join(photo_dir, f'{object_id}.jpg')\n",
        "\n",
        "def read_image(object_id):\n",
        "    return Image.open(to_img_path(object_id))"
      ],
      "execution_count": 9,
      "outputs": []
    },
    {
      "cell_type": "code",
      "metadata": {
        "colab": {
          "base_uri": "https://localhost:8080/",
          "height": 126
        },
        "id": "JmCd9iAYAHLH",
        "outputId": "9b94a50d-d66f-4e21-f6c9-b733663ba871"
      },
      "source": [
        "img = read_image(train_df_org['object_id'].iat[0])\n",
        "img"
      ],
      "execution_count": 10,
      "outputs": [
        {
          "output_type": "execute_result",
          "data": {
            "image/png": "[encoded data removed]",
            "text/plain": [
              "<PIL.JpegImagePlugin.JpegImageFile image mode=RGB size=224x109 at 0x7FF956C6E950>"
            ]
          },
          "metadata": {
            "tags": []
          },
          "execution_count": 10
        }
      ]
    },
    {
      "cell_type": "markdown",
      "metadata": {
        "id": "6Sbudxo9AZkr"
      },
      "source": [
        "### データ拡張 (data augmentation)"
      ]
    },
    {
      "cell_type": "code",
      "metadata": {
        "id": "pgK_c89uAXPc"
      },
      "source": [
        "from torchvision import transforms as T"
      ],
      "execution_count": 11,
      "outputs": []
    },
    {
      "cell_type": "code",
      "metadata": {
        "colab": {
          "base_uri": "https://localhost:8080/",
          "height": 126
        },
        "id": "sGuNdvLPAe_4",
        "outputId": "4300ed0c-bf9f-4168-a4df-1c97f16b3d97"
      },
      "source": [
        "# p は変更する確率を表しています。今は変換がされた時の値を見たいので 1 を指定しました。\n",
        "# 上下反転\n",
        "T.RandomVerticalFlip(p=1)(img)"
      ],
      "execution_count": 12,
      "outputs": [
        {
          "output_type": "execute_result",
          "data": {
            "image/png": "[encoded data removed]",
            "text/plain": [
              "<PIL.Image.Image image mode=RGB size=224x109 at 0x7FF9670668D0>"
            ]
          },
          "metadata": {
            "tags": []
          },
          "execution_count": 12
        }
      ]
    },
    {
      "cell_type": "code",
      "metadata": {
        "colab": {
          "base_uri": "https://localhost:8080/",
          "height": 126
        },
        "id": "hPy-nrj6AiAC",
        "outputId": "73bee63a-c3e0-49ba-ff70-c7fcaacd9749"
      },
      "source": [
        "# 左右反転\n",
        "T.RandomHorizontalFlip(p=1)(img)"
      ],
      "execution_count": 13,
      "outputs": [
        {
          "output_type": "execute_result",
          "data": {
            "image/png": "[encoded data removed]",
            "text/plain": [
              "<PIL.Image.Image image mode=RGB size=224x109 at 0x7FF8FB309C10>"
            ]
          },
          "metadata": {
            "tags": []
          },
          "execution_count": 13
        }
      ]
    },
    {
      "cell_type": "code",
      "metadata": {
        "colab": {
          "base_uri": "https://localhost:8080/",
          "height": 126
        },
        "id": "unil_TdRAqDw",
        "outputId": "a891eb63-d6da-40ab-daaf-603a6e89f41b"
      },
      "source": [
        "# グレースケール化\n",
        "T.RandomGrayscale(1)(img)"
      ],
      "execution_count": 14,
      "outputs": [
        {
          "output_type": "execute_result",
          "data": {
            "image/png": "[encoded data removed]",
            "text/plain": [
              "<PIL.Image.Image image mode=RGB size=224x109 at 0x7FF8FB30C990>"
            ]
          },
          "metadata": {
            "tags": []
          },
          "execution_count": 14
        }
      ]
    },
    {
      "cell_type": "code",
      "metadata": {
        "colab": {
          "base_uri": "https://localhost:8080/",
          "height": 126
        },
        "id": "pmTs0PW1Avqs",
        "outputId": "29180ec5-3c90-4001-dfc6-b278bcb9ff55"
      },
      "source": [
        "# 明るさ・コントラスト・彩度をランダムに変動させる\n",
        "T.ColorJitter(brightness=.3, contrast=.5, saturation=[.8, 1.3])(img)"
      ],
      "execution_count": 15,
      "outputs": [
        {
          "output_type": "execute_result",
          "data": {
            "image/png": "[encoded data removed]",
            "text/plain": [
              "<PIL.Image.Image image mode=RGB size=224x109 at 0x7FF8FB318990>"
            ]
          },
          "metadata": {
            "tags": []
          },
          "execution_count": 15
        }
      ]
    },
    {
      "cell_type": "code",
      "metadata": {
        "colab": {
          "base_uri": "https://localhost:8080/",
          "height": 217
        },
        "id": "mEo-JctTAzcd",
        "outputId": "6a19e2e3-9783-468f-a58a-61333ea8a784"
      },
      "source": [
        "# 一部を切り出してリサイズ\n",
        "T.RandomResizedCrop(size=(200, 200), )(img)"
      ],
      "execution_count": 16,
      "outputs": [
        {
          "output_type": "execute_result",
          "data": {
            "image/png": "[encoded data removed]",
            "text/plain": [
              "<PIL.Image.Image image mode=RGB size=200x200 at 0x7FF8FB318F10>"
            ]
          },
          "metadata": {
            "tags": []
          },
          "execution_count": 16
        }
      ]
    },
    {
      "cell_type": "code",
      "metadata": {
        "colab": {
          "base_uri": "https://localhost:8080/",
          "height": 126
        },
        "id": "rCfEXmP2A-23",
        "outputId": "cd0ee0d6-2afb-4134-ec7a-0db1d1a35943"
      },
      "source": [
        "# 組み合わせ\n",
        "converter = T.Compose([\n",
        "    T.RandomVerticalFlip(p=1),\n",
        "    T.ColorJitter(brightness=.5, contrast=.5)\n",
        "])\n",
        "\n",
        "converter(img)"
      ],
      "execution_count": 17,
      "outputs": [
        {
          "output_type": "execute_result",
          "data": {
            "image/png": "[encoded data removed]",
            "text/plain": [
              "<PIL.Image.Image image mode=RGB size=224x109 at 0x7FF8FB30CB50>"
            ]
          },
          "metadata": {
            "tags": []
          },
          "execution_count": 17
        }
      ]
    },
    {
      "cell_type": "markdown",
      "metadata": {
        "id": "MpU1z42OBgpa"
      },
      "source": [
        "### モデルの定義"
      ]
    },
    {
      "cell_type": "code",
      "metadata": {
        "id": "1NTkGgM1BeEo"
      },
      "source": [
        "import torch\n",
        "from torchvision.models import resnet34\n",
        "from torch import nn"
      ],
      "execution_count": 18,
      "outputs": []
    },
    {
      "cell_type": "code",
      "metadata": {
        "id": "1FxekoSnBjcb"
      },
      "source": [
        "# 事前学習を読み込まない\n",
        "model = resnet34(pretrained=False)"
      ],
      "execution_count": 19,
      "outputs": []
    },
    {
      "cell_type": "code",
      "metadata": {
        "colab": {
          "base_uri": "https://localhost:8080/"
        },
        "id": "M9BCRvv6Bpox",
        "outputId": "0ccdfbe0-1f56-446e-cc29-78bdeec353db"
      },
      "source": [
        "model"
      ],
      "execution_count": 20,
      "outputs": [
        {
          "output_type": "execute_result",
          "data": {
            "text/plain": [
              "ResNet(\n",
              "  (conv1): Conv2d(3, 64, kernel_size=(7, 7), stride=(2, 2), padding=(3, 3), bias=False)\n",
              "  (bn1): BatchNorm2d(64, eps=1e-05, momentum=0.1, affine=True, track_running_stats=True)\n",
              "  (relu): ReLU(inplace=True)\n",
              "  (maxpool): MaxPool2d(kernel_size=3, stride=2, padding=1, dilation=1, ceil_mode=False)\n",
              "  (layer1): Sequential(\n",
              "    (0): BasicBlock(\n",
              "      (conv1): Conv2d(64, 64, kernel_size=(3, 3), stride=(1, 1), padding=(1, 1), bias=False)\n",
              "      (bn1): BatchNorm2d(64, eps=1e-05, momentum=0.1, affine=True, track_running_stats=True)\n",
              "      (relu): ReLU(inplace=True)\n",
              "      (conv2): Conv2d(64, 64, kernel_size=(3, 3), stride=(1, 1), padding=(1, 1), bias=False)\n",
              "      (bn2): BatchNorm2d(64, eps=1e-05, momentum=0.1, affine=True, track_running_stats=True)\n",
              "    )\n",
              "    (1): BasicBlock(\n",
              "      (conv1): Conv2d(64, 64, kernel_size=(3, 3), stride=(1, 1), padding=(1, 1), bias=False)\n",
              "      (bn1): BatchNorm2d(64, eps=1e-05, momentum=0.1, affine=True, track_running_stats=True)\n",
              "      (relu): ReLU(inplace=True)\n",
              "      (conv2): Conv2d(64, 64, kernel_size=(3, 3), stride=(1, 1), padding=(1, 1), bias=False)\n",
              "      (bn2): BatchNorm2d(64, eps=1e-05, momentum=0.1, affine=True, track_running_stats=True)\n",
              "    )\n",
              "    (2): BasicBlock(\n",
              "      (conv1): Conv2d(64, 64, kernel_size=(3, 3), stride=(1, 1), padding=(1, 1), bias=False)\n",
              "      (bn1): BatchNorm2d(64, eps=1e-05, momentum=0.1, affine=True, track_running_stats=True)\n",
              "      (relu): ReLU(inplace=True)\n",
              "      (conv2): Conv2d(64, 64, kernel_size=(3, 3), stride=(1, 1), padding=(1, 1), bias=False)\n",
              "      (bn2): BatchNorm2d(64, eps=1e-05, momentum=0.1, affine=True, track_running_stats=True)\n",
              "    )\n",
              "  )\n",
              "  (layer2): Sequential(\n",
              "    (0): BasicBlock(\n",
              "      (conv1): Conv2d(64, 128, kernel_size=(3, 3), stride=(2, 2), padding=(1, 1), bias=False)\n",
              "      (bn1): BatchNorm2d(128, eps=1e-05, momentum=0.1, affine=True, track_running_stats=True)\n",
              "      (relu): ReLU(inplace=True)\n",
              "      (conv2): Conv2d(128, 128, kernel_size=(3, 3), stride=(1, 1), padding=(1, 1), bias=False)\n",
              "      (bn2): BatchNorm2d(128, eps=1e-05, momentum=0.1, affine=True, track_running_stats=True)\n",
              "      (downsample): Sequential(\n",
              "        (0): Conv2d(64, 128, kernel_size=(1, 1), stride=(2, 2), bias=False)\n",
              "        (1): BatchNorm2d(128, eps=1e-05, momentum=0.1, affine=True, track_running_stats=True)\n",
              "      )\n",
              "    )\n",
              "    (1): BasicBlock(\n",
              "      (conv1): Conv2d(128, 128, kernel_size=(3, 3), stride=(1, 1), padding=(1, 1), bias=False)\n",
              "      (bn1): BatchNorm2d(128, eps=1e-05, momentum=0.1, affine=True, track_running_stats=True)\n",
              "      (relu): ReLU(inplace=True)\n",
              "      (conv2): Conv2d(128, 128, kernel_size=(3, 3), stride=(1, 1), padding=(1, 1), bias=False)\n",
              "      (bn2): BatchNorm2d(128, eps=1e-05, momentum=0.1, affine=True, track_running_stats=True)\n",
              "    )\n",
              "    (2): BasicBlock(\n",
              "      (conv1): Conv2d(128, 128, kernel_size=(3, 3), stride=(1, 1), padding=(1, 1), bias=False)\n",
              "      (bn1): BatchNorm2d(128, eps=1e-05, momentum=0.1, affine=True, track_running_stats=True)\n",
              "      (relu): ReLU(inplace=True)\n",
              "      (conv2): Conv2d(128, 128, kernel_size=(3, 3), stride=(1, 1), padding=(1, 1), bias=False)\n",
              "      (bn2): BatchNorm2d(128, eps=1e-05, momentum=0.1, affine=True, track_running_stats=True)\n",
              "    )\n",
              "    (3): BasicBlock(\n",
              "      (conv1): Conv2d(128, 128, kernel_size=(3, 3), stride=(1, 1), padding=(1, 1), bias=False)\n",
              "      (bn1): BatchNorm2d(128, eps=1e-05, momentum=0.1, affine=True, track_running_stats=True)\n",
              "      (relu): ReLU(inplace=True)\n",
              "      (conv2): Conv2d(128, 128, kernel_size=(3, 3), stride=(1, 1), padding=(1, 1), bias=False)\n",
              "      (bn2): BatchNorm2d(128, eps=1e-05, momentum=0.1, affine=True, track_running_stats=True)\n",
              "    )\n",
              "  )\n",
              "  (layer3): Sequential(\n",
              "    (0): BasicBlock(\n",
              "      (conv1): Conv2d(128, 256, kernel_size=(3, 3), stride=(2, 2), padding=(1, 1), bias=False)\n",
              "      (bn1): BatchNorm2d(256, eps=1e-05, momentum=0.1, affine=True, track_running_stats=True)\n",
              "      (relu): ReLU(inplace=True)\n",
              "      (conv2): Conv2d(256, 256, kernel_size=(3, 3), stride=(1, 1), padding=(1, 1), bias=False)\n",
              "      (bn2): BatchNorm2d(256, eps=1e-05, momentum=0.1, affine=True, track_running_stats=True)\n",
              "      (downsample): Sequential(\n",
              "        (0): Conv2d(128, 256, kernel_size=(1, 1), stride=(2, 2), bias=False)\n",
              "        (1): BatchNorm2d(256, eps=1e-05, momentum=0.1, affine=True, track_running_stats=True)\n",
              "      )\n",
              "    )\n",
              "    (1): BasicBlock(\n",
              "      (conv1): Conv2d(256, 256, kernel_size=(3, 3), stride=(1, 1), padding=(1, 1), bias=False)\n",
              "      (bn1): BatchNorm2d(256, eps=1e-05, momentum=0.1, affine=True, track_running_stats=True)\n",
              "      (relu): ReLU(inplace=True)\n",
              "      (conv2): Conv2d(256, 256, kernel_size=(3, 3), stride=(1, 1), padding=(1, 1), bias=False)\n",
              "      (bn2): BatchNorm2d(256, eps=1e-05, momentum=0.1, affine=True, track_running_stats=True)\n",
              "    )\n",
              "    (2): BasicBlock(\n",
              "      (conv1): Conv2d(256, 256, kernel_size=(3, 3), stride=(1, 1), padding=(1, 1), bias=False)\n",
              "      (bn1): BatchNorm2d(256, eps=1e-05, momentum=0.1, affine=True, track_running_stats=True)\n",
              "      (relu): ReLU(inplace=True)\n",
              "      (conv2): Conv2d(256, 256, kernel_size=(3, 3), stride=(1, 1), padding=(1, 1), bias=False)\n",
              "      (bn2): BatchNorm2d(256, eps=1e-05, momentum=0.1, affine=True, track_running_stats=True)\n",
              "    )\n",
              "    (3): BasicBlock(\n",
              "      (conv1): Conv2d(256, 256, kernel_size=(3, 3), stride=(1, 1), padding=(1, 1), bias=False)\n",
              "      (bn1): BatchNorm2d(256, eps=1e-05, momentum=0.1, affine=True, track_running_stats=True)\n",
              "      (relu): ReLU(inplace=True)\n",
              "      (conv2): Conv2d(256, 256, kernel_size=(3, 3), stride=(1, 1), padding=(1, 1), bias=False)\n",
              "      (bn2): BatchNorm2d(256, eps=1e-05, momentum=0.1, affine=True, track_running_stats=True)\n",
              "    )\n",
              "    (4): BasicBlock(\n",
              "      (conv1): Conv2d(256, 256, kernel_size=(3, 3), stride=(1, 1), padding=(1, 1), bias=False)\n",
              "      (bn1): BatchNorm2d(256, eps=1e-05, momentum=0.1, affine=True, track_running_stats=True)\n",
              "      (relu): ReLU(inplace=True)\n",
              "      (conv2): Conv2d(256, 256, kernel_size=(3, 3), stride=(1, 1), padding=(1, 1), bias=False)\n",
              "      (bn2): BatchNorm2d(256, eps=1e-05, momentum=0.1, affine=True, track_running_stats=True)\n",
              "    )\n",
              "    (5): BasicBlock(\n",
              "      (conv1): Conv2d(256, 256, kernel_size=(3, 3), stride=(1, 1), padding=(1, 1), bias=False)\n",
              "      (bn1): BatchNorm2d(256, eps=1e-05, momentum=0.1, affine=True, track_running_stats=True)\n",
              "      (relu): ReLU(inplace=True)\n",
              "      (conv2): Conv2d(256, 256, kernel_size=(3, 3), stride=(1, 1), padding=(1, 1), bias=False)\n",
              "      (bn2): BatchNorm2d(256, eps=1e-05, momentum=0.1, affine=True, track_running_stats=True)\n",
              "    )\n",
              "  )\n",
              "  (layer4): Sequential(\n",
              "    (0): BasicBlock(\n",
              "      (conv1): Conv2d(256, 512, kernel_size=(3, 3), stride=(2, 2), padding=(1, 1), bias=False)\n",
              "      (bn1): BatchNorm2d(512, eps=1e-05, momentum=0.1, affine=True, track_running_stats=True)\n",
              "      (relu): ReLU(inplace=True)\n",
              "      (conv2): Conv2d(512, 512, kernel_size=(3, 3), stride=(1, 1), padding=(1, 1), bias=False)\n",
              "      (bn2): BatchNorm2d(512, eps=1e-05, momentum=0.1, affine=True, track_running_stats=True)\n",
              "      (downsample): Sequential(\n",
              "        (0): Conv2d(256, 512, kernel_size=(1, 1), stride=(2, 2), bias=False)\n",
              "        (1): BatchNorm2d(512, eps=1e-05, momentum=0.1, affine=True, track_running_stats=True)\n",
              "      )\n",
              "    )\n",
              "    (1): BasicBlock(\n",
              "      (conv1): Conv2d(512, 512, kernel_size=(3, 3), stride=(1, 1), padding=(1, 1), bias=False)\n",
              "      (bn1): BatchNorm2d(512, eps=1e-05, momentum=0.1, affine=True, track_running_stats=True)\n",
              "      (relu): ReLU(inplace=True)\n",
              "      (conv2): Conv2d(512, 512, kernel_size=(3, 3), stride=(1, 1), padding=(1, 1), bias=False)\n",
              "      (bn2): BatchNorm2d(512, eps=1e-05, momentum=0.1, affine=True, track_running_stats=True)\n",
              "    )\n",
              "    (2): BasicBlock(\n",
              "      (conv1): Conv2d(512, 512, kernel_size=(3, 3), stride=(1, 1), padding=(1, 1), bias=False)\n",
              "      (bn1): BatchNorm2d(512, eps=1e-05, momentum=0.1, affine=True, track_running_stats=True)\n",
              "      (relu): ReLU(inplace=True)\n",
              "      (conv2): Conv2d(512, 512, kernel_size=(3, 3), stride=(1, 1), padding=(1, 1), bias=False)\n",
              "      (bn2): BatchNorm2d(512, eps=1e-05, momentum=0.1, affine=True, track_running_stats=True)\n",
              "    )\n",
              "  )\n",
              "  (avgpool): AdaptiveAvgPool2d(output_size=(1, 1))\n",
              "  (fc): Linear(in_features=512, out_features=1000, bias=True)\n",
              ")"
            ]
          },
          "metadata": {
            "tags": []
          },
          "execution_count": 20
        }
      ]
    },
    {
      "cell_type": "code",
      "metadata": {
        "id": "C-VnkSgfBrVZ"
      },
      "source": [
        "# converter = T.Compose([\n",
        "#     T.RandomVerticalFlip(p=1),\n",
        "#     T.ColorJitter(brightness=.5, contrast=.5),\n",
        "#     T.ToTensor()\n",
        "# ])"
      ],
      "execution_count": 21,
      "outputs": []
    },
    {
      "cell_type": "code",
      "metadata": {
        "id": "gnLOhetfB_4n"
      },
      "source": [
        "# x = converter(img)\n",
        "# # チャネル数 x 縦 x 横\n",
        "# x.shape"
      ],
      "execution_count": 22,
      "outputs": []
    },
    {
      "cell_type": "code",
      "metadata": {
        "id": "tnVGNr_4CQQu"
      },
      "source": [
        "# バッチサイズ x チャネル数 x 縦 x 横に変換\n",
        "# x.unsqueeze(0).shape"
      ],
      "execution_count": 23,
      "outputs": []
    },
    {
      "cell_type": "code",
      "metadata": {
        "id": "V7sn2aX6CUzF"
      },
      "source": [
        "# output = model(x.unsqueeze(0))\n",
        "# output.shape"
      ],
      "execution_count": 24,
      "outputs": []
    },
    {
      "cell_type": "code",
      "metadata": {
        "id": "GSTMEHueClIt"
      },
      "source": [
        "# モデルの最終層を書き換え\n",
        "# 元の定義\n",
        "# (fc): Linear(in_features=512, out_features=1000, bias=True)\n",
        "\n",
        "# model.fc = nn.Linear(in_features=512, out_features=1, bias=True)\n",
        "# output = model(x.unsqueeze(0))\n",
        "# output.shape"
      ],
      "execution_count": 25,
      "outputs": []
    },
    {
      "cell_type": "markdown",
      "metadata": {
        "id": "ZiTPgvVMDbjf"
      },
      "source": [
        "### 学習のスキームを定義\n",
        "\n",
        "\n",
        "1.   入力データ x をモデルに入れて出力 z を作成\n",
        "1.   x に対応する正解ラベル y と z を目的関数に入れてどのぐらいずれいているか(loss)を計算\n",
        "1.   lossの情報を元にして最適化手法によってモデルを更新\n",
        "リスト項目\n",
        "\n"
      ]
    },
    {
      "cell_type": "markdown",
      "metadata": {
        "id": "cG8UFndPOMEb"
      },
      "source": [
        "### 目的関数の定義"
      ]
    },
    {
      "cell_type": "code",
      "metadata": {
        "id": "5EPVRh81OIvF"
      },
      "source": [
        "# criterion = nn.MSELoss()"
      ],
      "execution_count": 26,
      "outputs": []
    },
    {
      "cell_type": "markdown",
      "metadata": {
        "id": "O1H8SDDuOWNp"
      },
      "source": [
        "### 最適化手法の定義"
      ]
    },
    {
      "cell_type": "code",
      "metadata": {
        "id": "uc0yUzp_OV4D"
      },
      "source": [
        "# from torch.optim import Adam\n",
        "\n",
        "# 最適化手法の定義. どのモデルのパラメータを更新したいか、を第一引数にする\n",
        "# lr は learning_rate の略. 正解はないのですが adam だと 1e-3 などが使われることが多いです\n",
        "# optimizer = Adam(params=model.parameters(), lr=1e-3)"
      ],
      "execution_count": 27,
      "outputs": []
    },
    {
      "cell_type": "markdown",
      "metadata": {
        "id": "Xvd7PTLyOf23"
      },
      "source": [
        "### 学習のサンプル"
      ]
    },
    {
      "cell_type": "code",
      "metadata": {
        "id": "2TVZgLUFCteD"
      },
      "source": [
        "# # 1. データを torch.Tensor の形式で用意\n",
        "# x = converter(img)\n",
        "# x = x.unsqueeze(0)\n",
        "\n",
        "# label = train_df['target'].iat[0]\n",
        "# label = torch.Tensor([label])\n",
        "# label = label.reshape(-1, 1)\n",
        "\n",
        "# # 2. モデルに入れて loss を objective で計算\n",
        "# output = model(x)\n",
        "# loss = criterion(output, label)\n",
        "\n",
        "# # 3. loss から optimizer が model を更新\n",
        "\n",
        "# # zero_grad は今ある勾配の情報をリセットする関数. このあとに計算される勾配を元にして最適化される\n",
        "# optimizer.zero_grad()\n",
        "\n",
        "# # loss から勾配を計算\n",
        "# loss.backward()\n",
        "\n",
        "# # 最適化ステップを一つすすめる\n",
        "# optimizer.step()\n",
        "\n",
        "# print(loss.item())"
      ],
      "execution_count": 28,
      "outputs": []
    },
    {
      "cell_type": "markdown",
      "metadata": {
        "id": "8Q0GAaZfO6wH"
      },
      "source": [
        "### データセット"
      ]
    },
    {
      "cell_type": "code",
      "metadata": {
        "id": "8laJ_yW-DByn"
      },
      "source": [
        "from torch.utils import data\n",
        "\n",
        "IMG_MEAN = [0.485, 0.456, 0.406]\n",
        "IMG_STD = [0.229, 0.224, 0.225]\n",
        "\n",
        "class AtmaDataset(data.Dataset):\n",
        "    \"\"\"atmaCup用にデータ読み込み等を行なうデータ・セット\"\"\"\n",
        "    object_path_key = \"object_path\"\n",
        "    label_key = \"target\"\n",
        "\n",
        "    @property\n",
        "    def meta_keys(self):\n",
        "        retval = [self.object_path_key]\n",
        "\n",
        "        if self.is_train:\n",
        "            retval += [self.label_key]\n",
        "\n",
        "        return retval\n",
        "\n",
        "    def __init__(self, meta_df: pd.DataFrame, is_train=True):\n",
        "        \"\"\"\n",
        "        args:\n",
        "            meta_df: \n",
        "                画像へのパスと label 情報が含まれている dataframe\n",
        "                必ず object_path に画像へのパス, target に正解ラベルが入っている必要があります\n",
        "\n",
        "            is_train:\n",
        "                True のとき学習用のデータ拡張を適用します.\n",
        "                False の時は単に size にリサイズを行います\n",
        "        \"\"\"\n",
        "\n",
        "        self.is_train = is_train\n",
        "        for k in self.meta_keys:\n",
        "            if k not in meta_df:\n",
        "                raise ValueError(\"meta df must have {}\".format(k))\n",
        "\n",
        "        self.meta_df = meta_df.reset_index(drop=True)\n",
        "        self.index_to_data = self.meta_df.to_dict(orient=\"index\")\n",
        "\n",
        "        size = (224, 224)\n",
        "\n",
        "        additional_items = (\n",
        "            [T.Resize(size)]\n",
        "            if not is_train\n",
        "            else [\n",
        "                T.RandomGrayscale(p=0.2),\n",
        "                T.RandomVerticalFlip(),\n",
        "                T.RandomHorizontalFlip(),\n",
        "                T.ColorJitter(\n",
        "                    brightness=0.3,\n",
        "                    contrast=0.5,\n",
        "                    saturation=[0.8, 1.3],\n",
        "                    hue=[-0.05, 0.05],\n",
        "                ),\n",
        "                T.RandomResizedCrop(size),\n",
        "            ]\n",
        "        )\n",
        "\n",
        "        self.transformer = T.Compose([\n",
        "                                      *additional_items, \n",
        "                                      T.ToTensor(), \n",
        "                                      T.Normalize(mean=IMG_MEAN, std=IMG_STD)\n",
        "                                      ])\n",
        "\n",
        "    def __getitem__(self, index):\n",
        "        data = self.index_to_data[index]\n",
        "\n",
        "        obj_path, label = data.get(self.object_path_key), data.get(self.label_key, -1)\n",
        "        img = Image.open(obj_path)\n",
        "        img = self.transformer(img)\n",
        "        return img, label\n",
        "\n",
        "    def __len__(self):\n",
        "        return len(self.meta_df)"
      ],
      "execution_count": 29,
      "outputs": []
    },
    {
      "cell_type": "code",
      "metadata": {
        "id": "fgypBi6ZgUuB"
      },
      "source": [
        "def create_metadata(input_df):\n",
        "    out_df = input_df[['object_id']].copy()\n",
        "    out_df['object_path'] = input_df['object_id'].map(to_img_path)\n",
        "\n",
        "    if \"sorting_date\" in input_df:\n",
        "        out_df[\"target\"] = input_df[\"sorting_date\"]\n",
        "\n",
        "    return out_df"
      ],
      "execution_count": 30,
      "outputs": []
    },
    {
      "cell_type": "code",
      "metadata": {
        "id": "epXILlNrQ2Af"
      },
      "source": [
        "# train_meta_df = train_df_org[['sorting_date', 'object_id']].copy()\n",
        "# train_meta_df['object_path'] = train_meta_df['object_id'].map(to_img_path)\n",
        "train_meta_df = create_metadata(train_df_org)\n",
        "\n",
        "dataset = AtmaDataset(meta_df=train_meta_df)"
      ],
      "execution_count": 31,
      "outputs": []
    },
    {
      "cell_type": "markdown",
      "metadata": {
        "id": "1ZkmCt_WRJRr"
      },
      "source": [
        "### DataLoader"
      ]
    },
    {
      "cell_type": "code",
      "metadata": {
        "id": "oPeMS3HqpucU"
      },
      "source": [
        "NUM_WORKERS = 2"
      ],
      "execution_count": 32,
      "outputs": []
    },
    {
      "cell_type": "code",
      "metadata": {
        "id": "bUL_LalARLmI"
      },
      "source": [
        "# この場合同時に 54 個の画像に対応した tensor と label が作られる\n",
        "# loader = data.DataLoader(dataset=dataset, batch_size=54, num_workers=NUM_WORKERS)"
      ],
      "execution_count": 33,
      "outputs": []
    },
    {
      "cell_type": "code",
      "metadata": {
        "id": "kPA6N62cRQp3"
      },
      "source": [
        "# # 確認\n",
        "# for x_tensor, y in loader:\n",
        "#     break\n",
        "\n",
        "# # 最初の次元が先に設定した 54 になっている\n",
        "# x_tensor.shape, y.shape"
      ],
      "execution_count": 34,
      "outputs": []
    },
    {
      "cell_type": "markdown",
      "metadata": {
        "id": "SdQzp7S3RYuQ"
      },
      "source": [
        "### 学習関数"
      ]
    },
    {
      "cell_type": "code",
      "metadata": {
        "id": "uB1frvcXRSE9"
      },
      "source": [
        "# CUDA を使うので確認. google colab の場合 GPU accelerator をオンにしておいてください\n",
        "assert torch.cuda.is_available()\n",
        "DEVICE = torch.device(\"cuda\")"
      ],
      "execution_count": 35,
      "outputs": []
    },
    {
      "cell_type": "code",
      "metadata": {
        "id": "NQvh5dgyRjDA"
      },
      "source": [
        "from torch.optim.optimizer import Optimizer\n",
        "from collections import defaultdict\n",
        "\n",
        "def train(\n",
        "    model: nn.Module,\n",
        "    optimizer: Optimizer,\n",
        "    train_loader: data.DataLoader\n",
        ") -> pd.Series:\n",
        "\n",
        "    # train にすることで model 内の学習時にのみ有効な機構が有効になります (Dropouts Layers、BatchNorm Layers...)\n",
        "    model.train()\n",
        "\n",
        "    criterion = nn.MSELoss()\n",
        "\n",
        "    # ロスの値を保存する用に dict を用意\n",
        "    metrics = defaultdict(float)\n",
        "    n_iters = len(train_loader)\n",
        "\n",
        "    for i, (x_i, y_i) in enumerate(train_loader):\n",
        "        x_i = x_i.to(DEVICE)\n",
        "        y_i = y_i.to(DEVICE).reshape(-1, 1).float()\n",
        "\n",
        "        output = model(x_i)\n",
        "        loss = criterion(output, y_i)\n",
        "\n",
        "        optimizer.zero_grad()\n",
        "        loss.backward()\n",
        "        optimizer.step()\n",
        "\n",
        "        metric_i = {\n",
        "            # loss は tensor object なので item をつかって python object に戻す\n",
        "            \"loss\": loss.item()\n",
        "        }\n",
        "        for k, v in metric_i.items():\n",
        "            metrics[k] += v\n",
        "\n",
        "    for k, v in metrics.items():\n",
        "        metrics[k] /= n_iters\n",
        "\n",
        "    return pd.Series(metrics).add_prefix(\"train_\")"
      ],
      "execution_count": 36,
      "outputs": []
    },
    {
      "cell_type": "code",
      "metadata": {
        "id": "CuuVTPVARzNs"
      },
      "source": [
        "from vivid.utils import timer\n",
        "\n",
        "# n_epochs = 10\n",
        "\n",
        "# # GPU 環境で学習するため変換. この呼び出しは破壊的\n",
        "# model.to(DEVICE)\n",
        "# optimizer = Adam(params=model.parameters(), lr=1e-3)\n",
        "\n",
        "# for epoch in range(1, n_epochs + 1):\n",
        "\n",
        "#     with timer(prefix=\"train: epoch={}\".format(epoch)):\n",
        "#         score_train = train(\n",
        "#             model, optimizer, train_loader=loader\n",
        "#         )\n",
        "#     print(score_train)\n",
        "\n",
        "#     # 今は1回で抜ける\n",
        "#     break"
      ],
      "execution_count": 37,
      "outputs": []
    },
    {
      "cell_type": "markdown",
      "metadata": {
        "id": "DNfDPaWcSFms"
      },
      "source": [
        "### Cross Validation"
      ]
    },
    {
      "cell_type": "code",
      "metadata": {
        "id": "9w2alG4_SFAW"
      },
      "source": [
        "from sklearn.model_selection import KFold\n",
        "\n",
        "fold = KFold(n_splits=5, shuffle=True, random_state=510)\n",
        "cv = list(fold.split(X=train_df_org, y=train_df_org['sorting_date']))"
      ],
      "execution_count": 45,
      "outputs": []
    },
    {
      "cell_type": "code",
      "metadata": {
        "id": "ib1lfDrPSSmc"
      },
      "source": [
        "# 実験は最初の fold だけで考える\n",
        "# cv = cv[:1]"
      ],
      "execution_count": 46,
      "outputs": []
    },
    {
      "cell_type": "markdown",
      "metadata": {
        "id": "GSB_UTXGSkd1"
      },
      "source": [
        "### 検証"
      ]
    },
    {
      "cell_type": "code",
      "metadata": {
        "id": "ugDf_sVCSZlE"
      },
      "source": [
        "# from vivid.metrics import regression_metrics\n",
        "from sklearn.metrics import mean_squared_error\n",
        "\n",
        "def predict(model: nn.Module, loader: data.DataLoader) -> np.ndarray:\n",
        "    # train とは逆で model 内の学習時にのみ有効な機構がオフになります (Dropouts Layers、BatchNorm Layers...)\n",
        "    model.eval()\n",
        "\n",
        "    predicts = []\n",
        "\n",
        "    for x_i, y_i in loader:\n",
        "\n",
        "        # 明示的に勾配を計算しないように指定することができます. \n",
        "        # この関数ではモデルの更新はせずに単に出力だけを使いますので勾配は不要です.\n",
        "        with torch.no_grad():\n",
        "            output = model(x_i.to(DEVICE))\n",
        "\n",
        "        predicts.extend(output.data.cpu().numpy())\n",
        "\n",
        "    pred = np.array(predicts).reshape(-1)\n",
        "    return pred\n",
        "\n",
        "\n",
        "def calculate_metrics(y_true, y_pred) -> dict:\n",
        "    \"\"\"正解ラベルと予測ラベルから指標を計算する\"\"\"\n",
        "    # return regression_metrics(y_true, y_pred)\n",
        "\n",
        "    return {\n",
        "        'rmse': mean_squared_error(y_true, y_pred) ** .5\n",
        "    }\n",
        "\n",
        "\n",
        "def valid(\n",
        "    model: nn.Module, \n",
        "    y_valid: np.ndarray, \n",
        "    valid_loader: data.DataLoader\n",
        ") -> pd.Series:\n",
        "    \"\"\"検証フェーズ\n",
        "    与えられたモデル・データローダを使って検証フェーズを実行。スコアの dict と予測した値を返す\n",
        "    \"\"\"\n",
        "\n",
        "    pred = predict(model, valid_loader)\n",
        "    score = calculate_metrics(y_valid, pred)\n",
        "\n",
        "    valid_score = pd.Series(score)\n",
        "    return valid_score.add_prefix(\"valid_\"), pred"
      ],
      "execution_count": 47,
      "outputs": []
    },
    {
      "cell_type": "code",
      "metadata": {
        "id": "aYRpG0l7SzFL"
      },
      "source": [
        "from tabulate import tabulate\n",
        "from torch.optim import Adam\n",
        "\n",
        "def run_fold(\n",
        "    model: nn.Module, \n",
        "    train_df: pd.DataFrame, \n",
        "    valid_df: pd.DataFrame, \n",
        "    y_valid: np.ndarray, \n",
        "    output_dir: str, \n",
        "    n_epochs=30) -> np.ndarray:\n",
        "    \"\"\"\n",
        "    train / valid に分割されたデータで学習と同時に検証を行なう\n",
        "    \"\"\"\n",
        "\n",
        "    os.makedirs(output_i, exist_ok=True)\n",
        "\n",
        "    optimizer = Adam(model.parameters(), lr=1e-3)\n",
        "\n",
        "    # 0: 前準備. dataframe から data loader を作成\n",
        "    train_dataset = AtmaDataset(meta_df=train_df)\n",
        "    # 検証用の方は is_train=False にしてデータ拡張オフにする\n",
        "    valid_dataset = AtmaDataset(meta_df=valid_df, is_train=False)\n",
        "\n",
        "    train_loader = data.DataLoader(\n",
        "        train_dataset, batch_size=64, shuffle=True, drop_last=True, num_workers=NUM_WORKERS\n",
        "    )\n",
        "    valid_loader = data.DataLoader(valid_dataset, batch_size=256, num_workers=NUM_WORKERS)\n",
        "\n",
        "    # --- 保存のための変数定義\n",
        "    score_df = pd.DataFrame()\n",
        "    valid_score = np.inf\n",
        "    valid_score_key = \"valid_rmse\"\n",
        "    valid_best_pred = None\n",
        "\n",
        "    for epoch in range(1, n_epochs + 1):\n",
        "        print(f'start {epoch}')\n",
        "\n",
        "        # 1: 学習用データで学習を実行。学習時のロスを取得\n",
        "        with timer(prefix=\"train: epoch={}\".format(epoch)):\n",
        "            score_train = train(\n",
        "                model, optimizer, train_loader\n",
        "            )\n",
        "\n",
        "        # 2: 検証データでのスコアを計算\n",
        "        with timer(prefix=\"validate\"):\n",
        "            score_valid, y_valid_pred = valid(model=model, valid_loader=valid_loader, y_valid=y_valid)\n",
        "\n",
        "\n",
        "        # --- 学習のロスと検証スコアの値をデータフレームに追加\n",
        "        row = pd.concat([score_train, score_valid])\n",
        "        row[\"epoch\"] = epoch\n",
        "        row = pd.DataFrame([row])\n",
        "        print(tabulate(row, headers=row.columns))\n",
        "        score_df = pd.concat([score_df, row], ignore_index=True)\n",
        "        # ---\n",
        "\n",
        "        # 今の検証スコアと過去最高のスコアを比較\n",
        "        current_score = score_valid[valid_score_key]\n",
        "        if current_score < valid_score:\n",
        "            # スコア改善したときモデルを保存する\n",
        "            print(f'validation score is improved!! {valid_score:.4f} -> {current_score:.4f}')\n",
        "            torch.save(\n",
        "                model.state_dict(), os.path.join(output_dir, 'model_best.pth')\n",
        "            )\n",
        "            valid_score = current_score\n",
        "            valid_best_pred = y_valid_pred\n",
        "\n",
        "    score_df.to_csv(os.path.join(output_dir, 'score.csv'), index=False)\n",
        "    return valid_best_pred"
      ],
      "execution_count": 48,
      "outputs": []
    },
    {
      "cell_type": "code",
      "metadata": {
        "id": "0d7nL4ujUNc6"
      },
      "source": [
        "N_EPOCHS = 40"
      ],
      "execution_count": 49,
      "outputs": []
    },
    {
      "cell_type": "code",
      "metadata": {
        "id": "Sncy3qa7U4_E"
      },
      "source": [
        "def get_output_dir(n_cv: int):\n",
        "    return os.path.join(output_dir, 'simple_resnet', f'cv={n_cv}')"
      ],
      "execution_count": 50,
      "outputs": []
    },
    {
      "cell_type": "code",
      "metadata": {
        "colab": {
          "base_uri": "https://localhost:8080/"
        },
        "id": "8NwIausCTRzJ",
        "outputId": "dcfdf000-6166-4965-b1d3-150851e25575"
      },
      "source": [
        "oof = np.zeros((len(train_df_org), ), dtype=np.float32)\n",
        "\n",
        "for i, (idx_tr, idx_valid) in enumerate(cv):\n",
        "    output_i = get_output_dir(i)\n",
        "    model = resnet34(pretrained=False)\n",
        "    model.fc = nn.Linear(in_features=512, out_features=1, bias=True)\n",
        "\n",
        "    model.to(DEVICE)\n",
        "\n",
        "    oof_i = run_fold(\n",
        "        model=model, \n",
        "        train_df=train_meta_df.iloc[idx_tr], \n",
        "        valid_df=train_meta_df.iloc[idx_valid], \n",
        "        y_valid=train_meta_df['target'].values[idx_valid],\n",
        "        output_dir=output_i,\n",
        "\n",
        "        # validation score の値を見つつ適宜設定する\n",
        "        n_epochs=N_EPOCHS\n",
        "    )\n",
        "\n",
        "    oof[idx_valid] = oof_i"
      ],
      "execution_count": 51,
      "outputs": [
        {
          "output_type": "stream",
          "text": [
            "start 1\n",
            "train: epoch=1 23.503[s]\n",
            "validate 2.953[s]\n",
            "      train_loss    valid_rmse    epoch\n",
            "--  ------------  ------------  -------\n",
            " 0   2.93333e+06        1689.6        1\n",
            "validation score is improved!! inf -> 1689.5953\n",
            "start 2\n",
            "train: epoch=2 23.630[s]\n",
            "validate 2.997[s]\n",
            "      train_loss    valid_rmse    epoch\n",
            "--  ------------  ------------  -------\n",
            " 0   2.72512e+06       1610.24        2\n",
            "validation score is improved!! 1689.5953 -> 1610.2380\n",
            "start 3\n",
            "train: epoch=3 23.525[s]\n",
            "validate 2.979[s]\n",
            "      train_loss    valid_rmse    epoch\n",
            "--  ------------  ------------  -------\n",
            " 0   2.43245e+06       1499.21        3\n",
            "validation score is improved!! 1610.2380 -> 1499.2103\n",
            "start 4\n",
            "train: epoch=4 23.450[s]\n",
            "validate 3.036[s]\n",
            "      train_loss    valid_rmse    epoch\n",
            "--  ------------  ------------  -------\n",
            " 0   2.11229e+06       1389.06        4\n",
            "validation score is improved!! 1499.2103 -> 1389.0624\n",
            "start 5\n",
            "train: epoch=5 23.465[s]\n",
            "validate 3.036[s]\n",
            "      train_loss    valid_rmse    epoch\n",
            "--  ------------  ------------  -------\n",
            " 0   1.77457e+06       1266.27        5\n",
            "validation score is improved!! 1389.0624 -> 1266.2710\n",
            "start 6\n",
            "train: epoch=6 23.369[s]\n",
            "validate 2.966[s]\n",
            "      train_loss    valid_rmse    epoch\n",
            "--  ------------  ------------  -------\n",
            " 0   1.43643e+06       1130.54        6\n",
            "validation score is improved!! 1266.2710 -> 1130.5392\n",
            "start 7\n",
            "train: epoch=7 23.318[s]\n",
            "validate 2.887[s]\n",
            "      train_loss    valid_rmse    epoch\n",
            "--  ------------  ------------  -------\n",
            " 0   1.10994e+06       978.206        7\n",
            "validation score is improved!! 1130.5392 -> 978.2057\n",
            "start 8\n",
            "train: epoch=8 23.873[s]\n",
            "validate 2.938[s]\n",
            "      train_loss    valid_rmse    epoch\n",
            "--  ------------  ------------  -------\n",
            " 0        818630       819.041        8\n",
            "validation score is improved!! 978.2057 -> 819.0411\n",
            "start 9\n",
            "train: epoch=9 23.677[s]\n",
            "validate 2.970[s]\n",
            "      train_loss    valid_rmse    epoch\n",
            "--  ------------  ------------  -------\n",
            " 0        574631        693.11        9\n",
            "validation score is improved!! 819.0411 -> 693.1097\n",
            "start 10\n",
            "train: epoch=10 23.815[s]\n",
            "validate 3.023[s]\n",
            "      train_loss    valid_rmse    epoch\n",
            "--  ------------  ------------  -------\n",
            " 0        382018        545.11       10\n",
            "validation score is improved!! 693.1097 -> 545.1097\n",
            "start 11\n",
            "train: epoch=11 23.642[s]\n",
            "validate 2.910[s]\n",
            "      train_loss    valid_rmse    epoch\n",
            "--  ------------  ------------  -------\n",
            " 0        238518       436.933       11\n",
            "validation score is improved!! 545.1097 -> 436.9329\n",
            "start 12\n",
            "train: epoch=12 23.711[s]\n",
            "validate 3.013[s]\n",
            "      train_loss    valid_rmse    epoch\n",
            "--  ------------  ------------  -------\n",
            " 0        136089       322.995       12\n",
            "validation score is improved!! 436.9329 -> 322.9950\n",
            "start 13\n",
            "train: epoch=13 23.588[s]\n",
            "validate 2.925[s]\n",
            "      train_loss    valid_rmse    epoch\n",
            "--  ------------  ------------  -------\n",
            " 0       69945.2        272.27       13\n",
            "validation score is improved!! 322.9950 -> 272.2702\n",
            "start 14\n",
            "train: epoch=14 22.923[s]\n",
            "validate 3.031[s]\n",
            "      train_loss    valid_rmse    epoch\n",
            "--  ------------  ------------  -------\n",
            " 0         37701       199.379       14\n",
            "validation score is improved!! 272.2702 -> 199.3790\n",
            "start 15\n",
            "train: epoch=15 22.963[s]\n",
            "validate 2.984[s]\n",
            "      train_loss    valid_rmse    epoch\n",
            "--  ------------  ------------  -------\n",
            " 0       20421.5       158.216       15\n",
            "validation score is improved!! 199.3790 -> 158.2163\n",
            "start 16\n",
            "train: epoch=16 23.110[s]\n",
            "validate 2.929[s]\n",
            "      train_loss    valid_rmse    epoch\n",
            "--  ------------  ------------  -------\n",
            " 0       13534.6       112.357       16\n",
            "validation score is improved!! 158.2163 -> 112.3567\n",
            "start 17\n",
            "train: epoch=17 23.232[s]\n",
            "validate 2.916[s]\n",
            "      train_loss    valid_rmse    epoch\n",
            "--  ------------  ------------  -------\n",
            " 0       11109.2        106.86       17\n",
            "validation score is improved!! 112.3567 -> 106.8599\n",
            "start 18\n",
            "train: epoch=18 23.121[s]\n",
            "validate 2.864[s]\n",
            "      train_loss    valid_rmse    epoch\n",
            "--  ------------  ------------  -------\n",
            " 0       10373.1       101.695       18\n",
            "validation score is improved!! 106.8599 -> 101.6952\n",
            "start 19\n",
            "train: epoch=19 23.414[s]\n",
            "validate 2.951[s]\n",
            "      train_loss    valid_rmse    epoch\n",
            "--  ------------  ------------  -------\n",
            " 0       9785.22       106.907       19\n",
            "start 20\n",
            "train: epoch=20 23.268[s]\n",
            "validate 3.113[s]\n",
            "      train_loss    valid_rmse    epoch\n",
            "--  ------------  ------------  -------\n",
            " 0       9541.56       97.3434       20\n",
            "validation score is improved!! 101.6952 -> 97.3434\n",
            "start 21\n",
            "train: epoch=21 24.083[s]\n",
            "validate 3.073[s]\n",
            "      train_loss    valid_rmse    epoch\n",
            "--  ------------  ------------  -------\n",
            " 0       9383.93       97.7504       21\n",
            "start 22\n",
            "train: epoch=22 23.423[s]\n",
            "validate 2.926[s]\n",
            "      train_loss    valid_rmse    epoch\n",
            "--  ------------  ------------  -------\n",
            " 0       9548.83       97.9343       22\n",
            "start 23\n",
            "train: epoch=23 23.215[s]\n",
            "validate 2.940[s]\n",
            "      train_loss    valid_rmse    epoch\n",
            "--  ------------  ------------  -------\n",
            " 0       9508.34       97.7013       23\n",
            "start 24\n",
            "train: epoch=24 23.079[s]\n",
            "validate 2.959[s]\n",
            "      train_loss    valid_rmse    epoch\n",
            "--  ------------  ------------  -------\n",
            " 0        9407.5       96.6555       24\n",
            "validation score is improved!! 97.3434 -> 96.6555\n",
            "start 25\n",
            "train: epoch=25 23.634[s]\n",
            "validate 3.006[s]\n",
            "      train_loss    valid_rmse    epoch\n",
            "--  ------------  ------------  -------\n",
            " 0       9353.19       98.0545       25\n",
            "start 26\n",
            "train: epoch=26 22.924[s]\n",
            "validate 2.948[s]\n",
            "      train_loss    valid_rmse    epoch\n",
            "--  ------------  ------------  -------\n",
            " 0       9420.35       96.4384       26\n",
            "validation score is improved!! 96.6555 -> 96.4384\n",
            "start 27\n",
            "train: epoch=27 23.304[s]\n",
            "validate 2.966[s]\n",
            "      train_loss    valid_rmse    epoch\n",
            "--  ------------  ------------  -------\n",
            " 0       9368.19       98.4061       27\n",
            "start 28\n",
            "train: epoch=28 23.246[s]\n",
            "validate 3.024[s]\n",
            "      train_loss    valid_rmse    epoch\n",
            "--  ------------  ------------  -------\n",
            " 0       9345.81       97.3881       28\n",
            "start 29\n",
            "train: epoch=29 23.147[s]\n",
            "validate 2.969[s]\n",
            "      train_loss    valid_rmse    epoch\n",
            "--  ------------  ------------  -------\n",
            " 0        9372.9       97.6645       29\n",
            "start 30\n",
            "train: epoch=30 22.935[s]\n",
            "validate 3.010[s]\n",
            "      train_loss    valid_rmse    epoch\n",
            "--  ------------  ------------  -------\n",
            " 0       9369.58       96.9494       30\n",
            "start 31\n",
            "train: epoch=31 23.369[s]\n",
            "validate 2.962[s]\n",
            "      train_loss    valid_rmse    epoch\n",
            "--  ------------  ------------  -------\n",
            " 0       9334.04       97.3801       31\n",
            "start 32\n",
            "train: epoch=32 23.380[s]\n",
            "validate 2.928[s]\n",
            "      train_loss    valid_rmse    epoch\n",
            "--  ------------  ------------  -------\n",
            " 0       9377.48       97.6923       32\n",
            "start 33\n",
            "train: epoch=33 22.928[s]\n",
            "validate 2.934[s]\n",
            "      train_loss    valid_rmse    epoch\n",
            "--  ------------  ------------  -------\n",
            " 0       9391.86       97.8359       33\n",
            "start 34\n",
            "train: epoch=34 22.970[s]\n",
            "validate 2.961[s]\n",
            "      train_loss    valid_rmse    epoch\n",
            "--  ------------  ------------  -------\n",
            " 0       9249.36       96.5678       34\n",
            "start 35\n",
            "train: epoch=35 22.922[s]\n",
            "validate 2.990[s]\n",
            "      train_loss    valid_rmse    epoch\n",
            "--  ------------  ------------  -------\n",
            " 0       9217.78       96.9426       35\n",
            "start 36\n",
            "train: epoch=36 23.100[s]\n",
            "validate 2.952[s]\n",
            "      train_loss    valid_rmse    epoch\n",
            "--  ------------  ------------  -------\n",
            " 0       9347.45       96.8133       36\n",
            "start 37\n",
            "train: epoch=37 23.039[s]\n",
            "validate 2.913[s]\n",
            "      train_loss    valid_rmse    epoch\n",
            "--  ------------  ------------  -------\n",
            " 0       9298.82       97.7138       37\n",
            "start 38\n",
            "train: epoch=38 23.256[s]\n",
            "validate 2.928[s]\n",
            "      train_loss    valid_rmse    epoch\n",
            "--  ------------  ------------  -------\n",
            " 0       9303.76       97.7858       38\n",
            "start 39\n",
            "train: epoch=39 22.921[s]\n",
            "validate 3.007[s]\n",
            "      train_loss    valid_rmse    epoch\n",
            "--  ------------  ------------  -------\n",
            " 0       9356.54       96.3964       39\n",
            "validation score is improved!! 96.4384 -> 96.3964\n",
            "start 40\n",
            "train: epoch=40 23.498[s]\n",
            "validate 3.003[s]\n",
            "      train_loss    valid_rmse    epoch\n",
            "--  ------------  ------------  -------\n",
            " 0       9362.62       96.3933       40\n",
            "validation score is improved!! 96.3964 -> 96.3933\n",
            "start 1\n",
            "train: epoch=1 23.114[s]\n",
            "validate 2.944[s]\n",
            "      train_loss    valid_rmse    epoch\n",
            "--  ------------  ------------  -------\n",
            " 0   2.93075e+06       1685.69        1\n",
            "validation score is improved!! inf -> 1685.6923\n",
            "start 2\n",
            "train: epoch=2 23.441[s]\n",
            "validate 2.947[s]\n",
            "      train_loss    valid_rmse    epoch\n",
            "--  ------------  ------------  -------\n",
            " 0   2.72309e+06       1607.55        2\n",
            "validation score is improved!! 1685.6923 -> 1607.5539\n",
            "start 3\n",
            "train: epoch=3 23.005[s]\n",
            "validate 2.979[s]\n",
            "      train_loss    valid_rmse    epoch\n",
            "--  ------------  ------------  -------\n",
            " 0   2.43976e+06       1509.68        3\n",
            "validation score is improved!! 1607.5539 -> 1509.6753\n",
            "start 4\n",
            "train: epoch=4 23.272[s]\n",
            "validate 2.941[s]\n",
            "      train_loss    valid_rmse    epoch\n",
            "--  ------------  ------------  -------\n",
            " 0   2.12662e+06        1403.9        4\n",
            "validation score is improved!! 1509.6753 -> 1403.8982\n",
            "start 5\n",
            "train: epoch=5 23.255[s]\n",
            "validate 2.927[s]\n",
            "      train_loss    valid_rmse    epoch\n",
            "--  ------------  ------------  -------\n",
            " 0   1.79121e+06       1257.23        5\n",
            "validation score is improved!! 1403.8982 -> 1257.2270\n",
            "start 6\n",
            "train: epoch=6 23.557[s]\n",
            "validate 2.963[s]\n",
            "      train_loss    valid_rmse    epoch\n",
            "--  ------------  ------------  -------\n",
            " 0   1.43619e+06       1134.38        6\n",
            "validation score is improved!! 1257.2270 -> 1134.3820\n",
            "start 7\n",
            "train: epoch=7 23.124[s]\n",
            "validate 2.944[s]\n",
            "      train_loss    valid_rmse    epoch\n",
            "--  ------------  ------------  -------\n",
            " 0   1.10012e+06       989.405        7\n",
            "validation score is improved!! 1134.3820 -> 989.4053\n",
            "start 8\n",
            "train: epoch=8 23.473[s]\n",
            "validate 2.948[s]\n",
            "      train_loss    valid_rmse    epoch\n",
            "--  ------------  ------------  -------\n",
            " 0        801071       801.385        8\n",
            "validation score is improved!! 989.4053 -> 801.3854\n",
            "start 9\n",
            "train: epoch=9 23.454[s]\n",
            "validate 2.964[s]\n",
            "      train_loss    valid_rmse    epoch\n",
            "--  ------------  ------------  -------\n",
            " 0        550711       652.103        9\n",
            "validation score is improved!! 801.3854 -> 652.1032\n",
            "start 10\n",
            "train: epoch=10 23.557[s]\n",
            "validate 2.964[s]\n",
            "      train_loss    valid_rmse    epoch\n",
            "--  ------------  ------------  -------\n",
            " 0        355781        511.15       10\n",
            "validation score is improved!! 652.1032 -> 511.1497\n",
            "start 11\n",
            "train: epoch=11 23.366[s]\n",
            "validate 2.903[s]\n",
            "      train_loss    valid_rmse    epoch\n",
            "--  ------------  ------------  -------\n",
            " 0        216200        404.32       11\n",
            "validation score is improved!! 511.1497 -> 404.3201\n",
            "start 12\n",
            "train: epoch=12 23.274[s]\n",
            "validate 2.940[s]\n",
            "      train_loss    valid_rmse    epoch\n",
            "--  ------------  ------------  -------\n",
            " 0        123972       296.303       12\n",
            "validation score is improved!! 404.3201 -> 296.3027\n",
            "start 13\n",
            "train: epoch=13 23.452[s]\n",
            "validate 2.912[s]\n",
            "      train_loss    valid_rmse    epoch\n",
            "--  ------------  ------------  -------\n",
            " 0         66631         249.9       13\n",
            "validation score is improved!! 296.3027 -> 249.9005\n",
            "start 14\n",
            "train: epoch=14 23.450[s]\n",
            "validate 2.925[s]\n",
            "      train_loss    valid_rmse    epoch\n",
            "--  ------------  ------------  -------\n",
            " 0       34610.6       150.827       14\n",
            "validation score is improved!! 249.9005 -> 150.8271\n",
            "start 15\n",
            "train: epoch=15 23.084[s]\n",
            "validate 2.963[s]\n",
            "      train_loss    valid_rmse    epoch\n",
            "--  ------------  ------------  -------\n",
            " 0       20317.2       132.343       15\n",
            "validation score is improved!! 150.8271 -> 132.3426\n",
            "start 16\n",
            "train: epoch=16 23.362[s]\n",
            "validate 2.923[s]\n",
            "      train_loss    valid_rmse    epoch\n",
            "--  ------------  ------------  -------\n",
            " 0       13757.5       121.678       16\n",
            "validation score is improved!! 132.3426 -> 121.6779\n",
            "start 17\n",
            "train: epoch=17 23.315[s]\n",
            "validate 2.946[s]\n",
            "      train_loss    valid_rmse    epoch\n",
            "--  ------------  ------------  -------\n",
            " 0       11031.1       102.739       17\n",
            "validation score is improved!! 121.6779 -> 102.7387\n",
            "start 18\n",
            "train: epoch=18 23.555[s]\n",
            "validate 3.054[s]\n",
            "      train_loss    valid_rmse    epoch\n",
            "--  ------------  ------------  -------\n",
            " 0       10154.5       103.597       18\n",
            "start 19\n",
            "train: epoch=19 23.076[s]\n",
            "validate 2.939[s]\n",
            "      train_loss    valid_rmse    epoch\n",
            "--  ------------  ------------  -------\n",
            " 0       9737.28       103.615       19\n",
            "start 20\n",
            "train: epoch=20 22.912[s]\n",
            "validate 2.958[s]\n",
            "      train_loss    valid_rmse    epoch\n",
            "--  ------------  ------------  -------\n",
            " 0        9404.4       100.417       20\n",
            "validation score is improved!! 102.7387 -> 100.4170\n",
            "start 21\n",
            "train: epoch=21 23.355[s]\n",
            "validate 2.946[s]\n",
            "      train_loss    valid_rmse    epoch\n",
            "--  ------------  ------------  -------\n",
            " 0       9485.44       96.6061       21\n",
            "validation score is improved!! 100.4170 -> 96.6061\n",
            "start 22\n",
            "train: epoch=22 23.591[s]\n",
            "validate 2.933[s]\n",
            "      train_loss    valid_rmse    epoch\n",
            "--  ------------  ------------  -------\n",
            " 0       9289.99       97.5637       22\n",
            "start 23\n",
            "train: epoch=23 23.441[s]\n",
            "validate 2.940[s]\n",
            "      train_loss    valid_rmse    epoch\n",
            "--  ------------  ------------  -------\n",
            " 0       9449.46       96.5694       23\n",
            "validation score is improved!! 96.6061 -> 96.5694\n",
            "start 24\n",
            "train: epoch=24 23.247[s]\n",
            "validate 2.976[s]\n",
            "      train_loss    valid_rmse    epoch\n",
            "--  ------------  ------------  -------\n",
            " 0       9411.94       97.1673       24\n",
            "start 25\n",
            "train: epoch=25 23.217[s]\n",
            "validate 2.995[s]\n",
            "      train_loss    valid_rmse    epoch\n",
            "--  ------------  ------------  -------\n",
            " 0       9375.43       99.9336       25\n",
            "start 26\n",
            "train: epoch=26 23.320[s]\n",
            "validate 2.915[s]\n",
            "      train_loss    valid_rmse    epoch\n",
            "--  ------------  ------------  -------\n",
            " 0       9318.63       97.6533       26\n",
            "start 27\n",
            "train: epoch=27 23.065[s]\n",
            "validate 2.955[s]\n",
            "      train_loss    valid_rmse    epoch\n",
            "--  ------------  ------------  -------\n",
            " 0       9284.17       96.5738       27\n",
            "start 28\n",
            "train: epoch=28 22.876[s]\n",
            "validate 2.919[s]\n",
            "      train_loss    valid_rmse    epoch\n",
            "--  ------------  ------------  -------\n",
            " 0        9324.4       96.4683       28\n",
            "validation score is improved!! 96.5694 -> 96.4683\n",
            "start 29\n",
            "train: epoch=29 23.441[s]\n",
            "validate 2.938[s]\n",
            "      train_loss    valid_rmse    epoch\n",
            "--  ------------  ------------  -------\n",
            " 0       9203.15       96.4397       29\n",
            "validation score is improved!! 96.4683 -> 96.4397\n",
            "start 30\n",
            "train: epoch=30 23.089[s]\n",
            "validate 2.971[s]\n",
            "      train_loss    valid_rmse    epoch\n",
            "--  ------------  ------------  -------\n",
            " 0       9259.86        96.081       30\n",
            "validation score is improved!! 96.4397 -> 96.0810\n",
            "start 31\n",
            "train: epoch=31 23.287[s]\n",
            "validate 2.942[s]\n",
            "      train_loss    valid_rmse    epoch\n",
            "--  ------------  ------------  -------\n",
            " 0       9271.23       95.8658       31\n",
            "validation score is improved!! 96.0810 -> 95.8658\n",
            "start 32\n",
            "train: epoch=32 23.499[s]\n",
            "validate 2.964[s]\n",
            "      train_loss    valid_rmse    epoch\n",
            "--  ------------  ------------  -------\n",
            " 0       9215.33       95.1756       32\n",
            "validation score is improved!! 95.8658 -> 95.1756\n",
            "start 33\n",
            "train: epoch=33 23.395[s]\n",
            "validate 2.918[s]\n",
            "      train_loss    valid_rmse    epoch\n",
            "--  ------------  ------------  -------\n",
            " 0       9171.97         95.12       33\n",
            "validation score is improved!! 95.1756 -> 95.1200\n",
            "start 34\n",
            "train: epoch=34 23.646[s]\n",
            "validate 3.005[s]\n",
            "      train_loss    valid_rmse    epoch\n",
            "--  ------------  ------------  -------\n",
            " 0       9148.69       95.5785       34\n",
            "start 35\n",
            "train: epoch=35 22.981[s]\n",
            "validate 2.986[s]\n",
            "      train_loss    valid_rmse    epoch\n",
            "--  ------------  ------------  -------\n",
            " 0       9051.71        94.985       35\n",
            "validation score is improved!! 95.1200 -> 94.9850\n",
            "start 36\n",
            "train: epoch=36 22.963[s]\n",
            "validate 2.920[s]\n",
            "      train_loss    valid_rmse    epoch\n",
            "--  ------------  ------------  -------\n",
            " 0       9077.12       94.6285       36\n",
            "validation score is improved!! 94.9850 -> 94.6285\n",
            "start 37\n",
            "train: epoch=37 23.488[s]\n",
            "validate 2.946[s]\n",
            "      train_loss    valid_rmse    epoch\n",
            "--  ------------  ------------  -------\n",
            " 0       9059.39       101.781       37\n",
            "start 38\n",
            "train: epoch=38 23.053[s]\n",
            "validate 2.943[s]\n",
            "      train_loss    valid_rmse    epoch\n",
            "--  ------------  ------------  -------\n",
            " 0       9011.19        95.341       38\n",
            "start 39\n",
            "train: epoch=39 23.154[s]\n",
            "validate 2.915[s]\n",
            "      train_loss    valid_rmse    epoch\n",
            "--  ------------  ------------  -------\n",
            " 0       9026.19       97.0769       39\n",
            "start 40\n",
            "train: epoch=40 22.804[s]\n",
            "validate 2.934[s]\n",
            "      train_loss    valid_rmse    epoch\n",
            "--  ------------  ------------  -------\n",
            " 0       8917.75       90.7242       40\n",
            "validation score is improved!! 94.6285 -> 90.7242\n",
            "start 1\n",
            "train: epoch=1 23.220[s]\n",
            "validate 2.924[s]\n",
            "      train_loss    valid_rmse    epoch\n",
            "--  ------------  ------------  -------\n",
            " 0   2.93734e+06       1681.89        1\n",
            "validation score is improved!! inf -> 1681.8938\n",
            "start 2\n",
            "train: epoch=2 22.924[s]\n",
            "validate 2.985[s]\n",
            "      train_loss    valid_rmse    epoch\n",
            "--  ------------  ------------  -------\n",
            " 0   2.72619e+06       1602.01        2\n",
            "validation score is improved!! 1681.8938 -> 1602.0146\n",
            "start 3\n",
            "train: epoch=3 23.157[s]\n",
            "validate 2.928[s]\n",
            "      train_loss    valid_rmse    epoch\n",
            "--  ------------  ------------  -------\n",
            " 0   2.43623e+06       1502.86        3\n",
            "validation score is improved!! 1602.0146 -> 1502.8627\n",
            "start 4\n",
            "train: epoch=4 23.218[s]\n",
            "validate 2.927[s]\n",
            "      train_loss    valid_rmse    epoch\n",
            "--  ------------  ------------  -------\n",
            " 0   2.11424e+06       1377.92        4\n",
            "validation score is improved!! 1502.8627 -> 1377.9236\n",
            "start 5\n",
            "train: epoch=5 23.334[s]\n",
            "validate 2.908[s]\n",
            "      train_loss    valid_rmse    epoch\n",
            "--  ------------  ------------  -------\n",
            " 0   1.77575e+06       1256.87        5\n",
            "validation score is improved!! 1377.9236 -> 1256.8667\n",
            "start 6\n",
            "train: epoch=6 23.002[s]\n",
            "validate 2.913[s]\n",
            "      train_loss    valid_rmse    epoch\n",
            "--  ------------  ------------  -------\n",
            " 0   1.43556e+06       1110.81        6\n",
            "validation score is improved!! 1256.8667 -> 1110.8106\n",
            "start 7\n",
            "train: epoch=7 22.882[s]\n",
            "validate 2.898[s]\n",
            "      train_loss    valid_rmse    epoch\n",
            "--  ------------  ------------  -------\n",
            " 0   1.11515e+06       973.427        7\n",
            "validation score is improved!! 1110.8106 -> 973.4270\n",
            "start 8\n",
            "train: epoch=8 23.146[s]\n",
            "validate 2.931[s]\n",
            "      train_loss    valid_rmse    epoch\n",
            "--  ------------  ------------  -------\n",
            " 0        824749       852.515        8\n",
            "validation score is improved!! 973.4270 -> 852.5154\n",
            "start 9\n",
            "train: epoch=9 23.338[s]\n",
            "validate 2.933[s]\n",
            "      train_loss    valid_rmse    epoch\n",
            "--  ------------  ------------  -------\n",
            " 0        579724       692.649        9\n",
            "validation score is improved!! 852.5154 -> 692.6488\n",
            "start 10\n",
            "train: epoch=10 23.358[s]\n",
            "validate 2.952[s]\n",
            "      train_loss    valid_rmse    epoch\n",
            "--  ------------  ------------  -------\n",
            " 0        386038       576.035       10\n",
            "validation score is improved!! 692.6488 -> 576.0352\n",
            "start 11\n",
            "train: epoch=11 23.456[s]\n",
            "validate 2.920[s]\n",
            "      train_loss    valid_rmse    epoch\n",
            "--  ------------  ------------  -------\n",
            " 0        242627       502.753       11\n",
            "validation score is improved!! 576.0352 -> 502.7527\n",
            "start 12\n",
            "train: epoch=12 23.130[s]\n",
            "validate 2.885[s]\n",
            "      train_loss    valid_rmse    epoch\n",
            "--  ------------  ------------  -------\n",
            " 0        129544       357.498       12\n",
            "validation score is improved!! 502.7527 -> 357.4979\n",
            "start 13\n",
            "train: epoch=13 23.257[s]\n",
            "validate 2.938[s]\n",
            "      train_loss    valid_rmse    epoch\n",
            "--  ------------  ------------  -------\n",
            " 0       61413.1       185.764       13\n",
            "validation score is improved!! 357.4979 -> 185.7645\n",
            "start 14\n",
            "train: epoch=14 23.403[s]\n",
            "validate 2.899[s]\n",
            "      train_loss    valid_rmse    epoch\n",
            "--  ------------  ------------  -------\n",
            " 0       31316.5       155.397       14\n",
            "validation score is improved!! 185.7645 -> 155.3971\n",
            "start 15\n",
            "train: epoch=15 23.226[s]\n",
            "validate 2.887[s]\n",
            "      train_loss    valid_rmse    epoch\n",
            "--  ------------  ------------  -------\n",
            " 0       19188.2       147.819       15\n",
            "validation score is improved!! 155.3971 -> 147.8188\n",
            "start 16\n",
            "train: epoch=16 22.923[s]\n",
            "validate 2.957[s]\n",
            "      train_loss    valid_rmse    epoch\n",
            "--  ------------  ------------  -------\n",
            " 0         13909       114.751       16\n",
            "validation score is improved!! 147.8188 -> 114.7515\n",
            "start 17\n",
            "train: epoch=17 22.836[s]\n",
            "validate 2.891[s]\n",
            "      train_loss    valid_rmse    epoch\n",
            "--  ------------  ------------  -------\n",
            " 0         11285       114.261       17\n",
            "validation score is improved!! 114.7515 -> 114.2614\n",
            "start 18\n",
            "train: epoch=18 22.952[s]\n",
            "validate 2.917[s]\n",
            "      train_loss    valid_rmse    epoch\n",
            "--  ------------  ------------  -------\n",
            " 0       11020.6       100.411       18\n",
            "validation score is improved!! 114.2614 -> 100.4112\n",
            "start 19\n",
            "train: epoch=19 23.191[s]\n",
            "validate 2.898[s]\n",
            "      train_loss    valid_rmse    epoch\n",
            "--  ------------  ------------  -------\n",
            " 0       9840.73       109.077       19\n",
            "start 20\n",
            "train: epoch=20 23.014[s]\n",
            "validate 2.923[s]\n",
            "      train_loss    valid_rmse    epoch\n",
            "--  ------------  ------------  -------\n",
            " 0       9542.07       105.812       20\n",
            "start 21\n",
            "train: epoch=21 23.036[s]\n",
            "validate 2.917[s]\n",
            "      train_loss    valid_rmse    epoch\n",
            "--  ------------  ------------  -------\n",
            " 0       9710.63       100.108       21\n",
            "validation score is improved!! 100.4112 -> 100.1081\n",
            "start 22\n",
            "train: epoch=22 23.236[s]\n",
            "validate 2.924[s]\n",
            "      train_loss    valid_rmse    epoch\n",
            "--  ------------  ------------  -------\n",
            " 0       9504.93       102.637       22\n",
            "start 23\n",
            "train: epoch=23 22.816[s]\n",
            "validate 2.923[s]\n",
            "      train_loss    valid_rmse    epoch\n",
            "--  ------------  ------------  -------\n",
            " 0       9547.15       99.5651       23\n",
            "validation score is improved!! 100.1081 -> 99.5651\n",
            "start 24\n",
            "train: epoch=24 23.299[s]\n",
            "validate 2.922[s]\n",
            "      train_loss    valid_rmse    epoch\n",
            "--  ------------  ------------  -------\n",
            " 0       9503.29       100.133       24\n",
            "start 25\n",
            "train: epoch=25 22.788[s]\n",
            "validate 3.002[s]\n",
            "      train_loss    valid_rmse    epoch\n",
            "--  ------------  ------------  -------\n",
            " 0       9624.61       103.331       25\n",
            "start 26\n",
            "train: epoch=26 22.773[s]\n",
            "validate 2.939[s]\n",
            "      train_loss    valid_rmse    epoch\n",
            "--  ------------  ------------  -------\n",
            " 0       9401.64       99.6408       26\n",
            "start 27\n",
            "train: epoch=27 22.855[s]\n",
            "validate 2.885[s]\n",
            "      train_loss    valid_rmse    epoch\n",
            "--  ------------  ------------  -------\n",
            " 0       9240.57       99.3115       27\n",
            "validation score is improved!! 99.5651 -> 99.3115\n",
            "start 28\n",
            "train: epoch=28 23.207[s]\n",
            "validate 2.914[s]\n",
            "      train_loss    valid_rmse    epoch\n",
            "--  ------------  ------------  -------\n",
            " 0       9426.32       98.9187       28\n",
            "validation score is improved!! 99.3115 -> 98.9187\n",
            "start 29\n",
            "train: epoch=29 23.334[s]\n",
            "validate 2.945[s]\n",
            "      train_loss    valid_rmse    epoch\n",
            "--  ------------  ------------  -------\n",
            " 0       9440.74       98.2107       29\n",
            "validation score is improved!! 98.9187 -> 98.2107\n",
            "start 30\n",
            "train: epoch=30 22.892[s]\n",
            "validate 2.889[s]\n",
            "      train_loss    valid_rmse    epoch\n",
            "--  ------------  ------------  -------\n",
            " 0        9445.6       98.0512       30\n",
            "validation score is improved!! 98.2107 -> 98.0512\n",
            "start 31\n",
            "train: epoch=31 23.215[s]\n",
            "validate 2.948[s]\n",
            "      train_loss    valid_rmse    epoch\n",
            "--  ------------  ------------  -------\n",
            " 0       9368.22        101.44       31\n",
            "start 32\n",
            "train: epoch=32 22.752[s]\n",
            "validate 2.915[s]\n",
            "      train_loss    valid_rmse    epoch\n",
            "--  ------------  ------------  -------\n",
            " 0       9496.73       97.3663       32\n",
            "validation score is improved!! 98.0512 -> 97.3663\n",
            "start 33\n",
            "train: epoch=33 23.234[s]\n",
            "validate 2.930[s]\n",
            "      train_loss    valid_rmse    epoch\n",
            "--  ------------  ------------  -------\n",
            " 0       9317.12       97.7373       33\n",
            "start 34\n",
            "train: epoch=34 23.073[s]\n",
            "validate 2.913[s]\n",
            "      train_loss    valid_rmse    epoch\n",
            "--  ------------  ------------  -------\n",
            " 0       9347.13       102.864       34\n",
            "start 35\n",
            "train: epoch=35 22.704[s]\n",
            "validate 2.908[s]\n",
            "      train_loss    valid_rmse    epoch\n",
            "--  ------------  ------------  -------\n",
            " 0       9430.91       100.292       35\n",
            "start 36\n",
            "train: epoch=36 23.104[s]\n",
            "validate 2.911[s]\n",
            "      train_loss    valid_rmse    epoch\n",
            "--  ------------  ------------  -------\n",
            " 0       9739.94       98.7594       36\n",
            "start 37\n",
            "train: epoch=37 22.990[s]\n",
            "validate 2.921[s]\n",
            "      train_loss    valid_rmse    epoch\n",
            "--  ------------  ------------  -------\n",
            " 0       9443.25       101.012       37\n",
            "start 38\n",
            "train: epoch=38 22.926[s]\n",
            "validate 2.899[s]\n",
            "      train_loss    valid_rmse    epoch\n",
            "--  ------------  ------------  -------\n",
            " 0       9485.99       102.765       38\n",
            "start 39\n",
            "train: epoch=39 22.594[s]\n",
            "validate 3.071[s]\n",
            "      train_loss    valid_rmse    epoch\n",
            "--  ------------  ------------  -------\n",
            " 0       9343.44       101.787       39\n",
            "start 40\n",
            "train: epoch=40 22.876[s]\n",
            "validate 2.940[s]\n",
            "      train_loss    valid_rmse    epoch\n",
            "--  ------------  ------------  -------\n",
            " 0       9318.44       101.893       40\n",
            "start 1\n",
            "train: epoch=1 23.037[s]\n",
            "validate 2.962[s]\n",
            "      train_loss    valid_rmse    epoch\n",
            "--  ------------  ------------  -------\n",
            " 0   2.92784e+06       1693.31        1\n",
            "validation score is improved!! inf -> 1693.3080\n",
            "start 2\n",
            "train: epoch=2 23.043[s]\n",
            "validate 2.921[s]\n",
            "      train_loss    valid_rmse    epoch\n",
            "--  ------------  ------------  -------\n",
            " 0   2.72495e+06        1610.5        2\n",
            "validation score is improved!! 1693.3080 -> 1610.4967\n",
            "start 3\n",
            "train: epoch=3 23.156[s]\n",
            "validate 2.976[s]\n",
            "      train_loss    valid_rmse    epoch\n",
            "--  ------------  ------------  -------\n",
            " 0   2.43379e+06       1511.31        3\n",
            "validation score is improved!! 1610.4967 -> 1511.3095\n",
            "start 4\n",
            "train: epoch=4 22.930[s]\n",
            "validate 3.030[s]\n",
            "      train_loss    valid_rmse    epoch\n",
            "--  ------------  ------------  -------\n",
            " 0   2.11283e+06          1401        4\n",
            "validation score is improved!! 1511.3095 -> 1401.0012\n",
            "start 5\n",
            "train: epoch=5 23.137[s]\n",
            "validate 2.951[s]\n",
            "      train_loss    valid_rmse    epoch\n",
            "--  ------------  ------------  -------\n",
            " 0   1.77353e+06       1272.83        5\n",
            "validation score is improved!! 1401.0012 -> 1272.8298\n",
            "start 6\n",
            "train: epoch=6 23.204[s]\n",
            "validate 2.947[s]\n",
            "      train_loss    valid_rmse    epoch\n",
            "--  ------------  ------------  -------\n",
            " 0   1.43153e+06       1143.97        6\n",
            "validation score is improved!! 1272.8298 -> 1143.9701\n",
            "start 7\n",
            "train: epoch=7 22.914[s]\n",
            "validate 3.068[s]\n",
            "      train_loss    valid_rmse    epoch\n",
            "--  ------------  ------------  -------\n",
            " 0   1.10863e+06       977.591        7\n",
            "validation score is improved!! 1143.9701 -> 977.5911\n",
            "start 8\n",
            "train: epoch=8 23.227[s]\n",
            "validate 3.043[s]\n",
            "      train_loss    valid_rmse    epoch\n",
            "--  ------------  ------------  -------\n",
            " 0        812508       828.629        8\n",
            "validation score is improved!! 977.5911 -> 828.6292\n",
            "start 9\n",
            "train: epoch=9 23.110[s]\n",
            "validate 2.979[s]\n",
            "      train_loss    valid_rmse    epoch\n",
            "--  ------------  ------------  -------\n",
            " 0        566676       693.887        9\n",
            "validation score is improved!! 828.6292 -> 693.8871\n",
            "start 10\n",
            "train: epoch=10 23.142[s]\n",
            "validate 2.967[s]\n",
            "      train_loss    valid_rmse    epoch\n",
            "--  ------------  ------------  -------\n",
            " 0        374901       570.331       10\n",
            "validation score is improved!! 693.8871 -> 570.3309\n",
            "start 11\n",
            "train: epoch=11 23.185[s]\n",
            "validate 2.936[s]\n",
            "      train_loss    valid_rmse    epoch\n",
            "--  ------------  ------------  -------\n",
            " 0        233025       436.777       11\n",
            "validation score is improved!! 570.3309 -> 436.7774\n",
            "start 12\n",
            "train: epoch=12 23.192[s]\n",
            "validate 2.970[s]\n",
            "      train_loss    valid_rmse    epoch\n",
            "--  ------------  ------------  -------\n",
            " 0        137012       369.552       12\n",
            "validation score is improved!! 436.7774 -> 369.5522\n",
            "start 13\n",
            "train: epoch=13 23.140[s]\n",
            "validate 3.042[s]\n",
            "      train_loss    valid_rmse    epoch\n",
            "--  ------------  ------------  -------\n",
            " 0       71688.3       231.826       13\n",
            "validation score is improved!! 369.5522 -> 231.8260\n",
            "start 14\n",
            "train: epoch=14 23.078[s]\n",
            "validate 2.994[s]\n",
            "      train_loss    valid_rmse    epoch\n",
            "--  ------------  ------------  -------\n",
            " 0       31788.7       171.808       14\n",
            "validation score is improved!! 231.8260 -> 171.8081\n",
            "start 15\n",
            "train: epoch=15 23.099[s]\n",
            "validate 2.965[s]\n",
            "      train_loss    valid_rmse    epoch\n",
            "--  ------------  ------------  -------\n",
            " 0       17411.9       119.207       15\n",
            "validation score is improved!! 171.8081 -> 119.2069\n",
            "start 16\n",
            "train: epoch=16 23.052[s]\n",
            "validate 2.968[s]\n",
            "      train_loss    valid_rmse    epoch\n",
            "--  ------------  ------------  -------\n",
            " 0       12693.3       107.369       16\n",
            "validation score is improved!! 119.2069 -> 107.3691\n",
            "start 17\n",
            "train: epoch=17 22.983[s]\n",
            "validate 2.968[s]\n",
            "      train_loss    valid_rmse    epoch\n",
            "--  ------------  ------------  -------\n",
            " 0       10625.2       114.598       17\n",
            "start 18\n",
            "train: epoch=18 22.882[s]\n",
            "validate 2.970[s]\n",
            "      train_loss    valid_rmse    epoch\n",
            "--  ------------  ------------  -------\n",
            " 0       9759.15       100.199       18\n",
            "validation score is improved!! 107.3691 -> 100.1989\n",
            "start 19\n",
            "train: epoch=19 23.198[s]\n",
            "validate 3.045[s]\n",
            "      train_loss    valid_rmse    epoch\n",
            "--  ------------  ------------  -------\n",
            " 0       9825.53       110.936       19\n",
            "start 20\n",
            "train: epoch=20 22.802[s]\n",
            "validate 2.939[s]\n",
            "      train_loss    valid_rmse    epoch\n",
            "--  ------------  ------------  -------\n",
            " 0       9677.44       95.1895       20\n",
            "validation score is improved!! 100.1989 -> 95.1895\n",
            "start 21\n",
            "train: epoch=21 23.002[s]\n",
            "validate 2.961[s]\n",
            "      train_loss    valid_rmse    epoch\n",
            "--  ------------  ------------  -------\n",
            " 0       9772.21       93.9147       21\n",
            "validation score is improved!! 95.1895 -> 93.9147\n",
            "start 22\n",
            "train: epoch=22 23.399[s]\n",
            "validate 2.916[s]\n",
            "      train_loss    valid_rmse    epoch\n",
            "--  ------------  ------------  -------\n",
            " 0       9617.48       95.0768       22\n",
            "start 23\n",
            "train: epoch=23 22.795[s]\n",
            "validate 2.935[s]\n",
            "      train_loss    valid_rmse    epoch\n",
            "--  ------------  ------------  -------\n",
            " 0       9538.01       96.9337       23\n",
            "start 24\n",
            "train: epoch=24 22.825[s]\n",
            "validate 2.933[s]\n",
            "      train_loss    valid_rmse    epoch\n",
            "--  ------------  ------------  -------\n",
            " 0       9686.72       96.0177       24\n",
            "start 25\n",
            "train: epoch=25 22.958[s]\n",
            "validate 2.929[s]\n",
            "      train_loss    valid_rmse    epoch\n",
            "--  ------------  ------------  -------\n",
            " 0       9522.81       95.9386       25\n",
            "start 26\n",
            "train: epoch=26 22.860[s]\n",
            "validate 2.943[s]\n",
            "      train_loss    valid_rmse    epoch\n",
            "--  ------------  ------------  -------\n",
            " 0       9736.19       96.9871       26\n",
            "start 27\n",
            "train: epoch=27 22.870[s]\n",
            "validate 2.928[s]\n",
            "      train_loss    valid_rmse    epoch\n",
            "--  ------------  ------------  -------\n",
            " 0       9474.46        94.512       27\n",
            "start 28\n",
            "train: epoch=28 23.235[s]\n",
            "validate 2.951[s]\n",
            "      train_loss    valid_rmse    epoch\n",
            "--  ------------  ------------  -------\n",
            " 0       9499.92       94.9131       28\n",
            "start 29\n",
            "train: epoch=29 22.992[s]\n",
            "validate 2.916[s]\n",
            "      train_loss    valid_rmse    epoch\n",
            "--  ------------  ------------  -------\n",
            " 0       9447.83       97.4785       29\n",
            "start 30\n",
            "train: epoch=30 22.770[s]\n",
            "validate 2.962[s]\n",
            "      train_loss    valid_rmse    epoch\n",
            "--  ------------  ------------  -------\n",
            " 0       9623.48       98.4677       30\n",
            "start 31\n",
            "train: epoch=31 22.931[s]\n",
            "validate 2.913[s]\n",
            "      train_loss    valid_rmse    epoch\n",
            "--  ------------  ------------  -------\n",
            " 0       9452.74       93.2742       31\n",
            "validation score is improved!! 93.9147 -> 93.2742\n",
            "start 32\n",
            "train: epoch=32 23.185[s]\n",
            "validate 2.989[s]\n",
            "      train_loss    valid_rmse    epoch\n",
            "--  ------------  ------------  -------\n",
            " 0       9636.44       95.0249       32\n",
            "start 33\n",
            "train: epoch=33 22.821[s]\n",
            "validate 2.958[s]\n",
            "      train_loss    valid_rmse    epoch\n",
            "--  ------------  ------------  -------\n",
            " 0       9509.25       96.4335       33\n",
            "start 34\n",
            "train: epoch=34 23.274[s]\n",
            "validate 2.932[s]\n",
            "      train_loss    valid_rmse    epoch\n",
            "--  ------------  ------------  -------\n",
            " 0       9532.92       92.9929       34\n",
            "validation score is improved!! 93.2742 -> 92.9929\n",
            "start 35\n",
            "train: epoch=35 23.301[s]\n",
            "validate 2.937[s]\n",
            "      train_loss    valid_rmse    epoch\n",
            "--  ------------  ------------  -------\n",
            " 0        9489.2        94.256       35\n",
            "start 36\n",
            "train: epoch=36 22.952[s]\n",
            "validate 2.895[s]\n",
            "      train_loss    valid_rmse    epoch\n",
            "--  ------------  ------------  -------\n",
            " 0       9548.88       93.5806       36\n",
            "start 37\n",
            "train: epoch=37 22.762[s]\n",
            "validate 2.981[s]\n",
            "      train_loss    valid_rmse    epoch\n",
            "--  ------------  ------------  -------\n",
            " 0       9474.57       93.2508       37\n",
            "start 38\n",
            "train: epoch=38 22.954[s]\n",
            "validate 2.972[s]\n",
            "      train_loss    valid_rmse    epoch\n",
            "--  ------------  ------------  -------\n",
            " 0       9460.35       93.2917       38\n",
            "start 39\n",
            "train: epoch=39 23.204[s]\n",
            "validate 2.936[s]\n",
            "      train_loss    valid_rmse    epoch\n",
            "--  ------------  ------------  -------\n",
            " 0       9398.67       92.5508       39\n",
            "validation score is improved!! 92.9929 -> 92.5508\n",
            "start 40\n",
            "train: epoch=40 23.214[s]\n",
            "validate 2.952[s]\n",
            "      train_loss    valid_rmse    epoch\n",
            "--  ------------  ------------  -------\n",
            " 0       9568.63       96.0981       40\n",
            "start 1\n",
            "train: epoch=1 22.777[s]\n",
            "validate 2.969[s]\n",
            "      train_loss    valid_rmse    epoch\n",
            "--  ------------  ------------  -------\n",
            " 0   2.92963e+06        1684.1        1\n",
            "validation score is improved!! inf -> 1684.1018\n",
            "start 2\n",
            "train: epoch=2 22.866[s]\n",
            "validate 2.969[s]\n",
            "      train_loss    valid_rmse    epoch\n",
            "--  ------------  ------------  -------\n",
            " 0   2.72409e+06       1611.03        2\n",
            "validation score is improved!! 1684.1018 -> 1611.0272\n",
            "start 3\n",
            "train: epoch=3 22.922[s]\n",
            "validate 2.995[s]\n",
            "      train_loss    valid_rmse    epoch\n",
            "--  ------------  ------------  -------\n",
            " 0   2.43026e+06       1512.37        3\n",
            "validation score is improved!! 1611.0272 -> 1512.3672\n",
            "start 4\n",
            "train: epoch=4 23.280[s]\n",
            "validate 2.979[s]\n",
            "      train_loss    valid_rmse    epoch\n",
            "--  ------------  ------------  -------\n",
            " 0   2.10986e+06       1390.53        4\n",
            "validation score is improved!! 1512.3672 -> 1390.5266\n",
            "start 5\n",
            "train: epoch=5 23.318[s]\n",
            "validate 2.961[s]\n",
            "      train_loss    valid_rmse    epoch\n",
            "--  ------------  ------------  -------\n",
            " 0    1.7693e+06       1245.25        5\n",
            "validation score is improved!! 1390.5266 -> 1245.2520\n",
            "start 6\n",
            "train: epoch=6 23.055[s]\n",
            "validate 2.874[s]\n",
            "      train_loss    valid_rmse    epoch\n",
            "--  ------------  ------------  -------\n",
            " 0   1.43033e+06       1114.51        6\n",
            "validation score is improved!! 1245.2520 -> 1114.5061\n",
            "start 7\n",
            "train: epoch=7 22.903[s]\n",
            "validate 2.945[s]\n",
            "      train_loss    valid_rmse    epoch\n",
            "--  ------------  ------------  -------\n",
            " 0   1.10879e+06       978.949        7\n",
            "validation score is improved!! 1114.5061 -> 978.9486\n",
            "start 8\n",
            "train: epoch=8 23.168[s]\n",
            "validate 2.929[s]\n",
            "      train_loss    valid_rmse    epoch\n",
            "--  ------------  ------------  -------\n",
            " 0        818905        835.24        8\n",
            "validation score is improved!! 978.9486 -> 835.2399\n",
            "start 9\n",
            "train: epoch=9 23.154[s]\n",
            "validate 2.974[s]\n",
            "      train_loss    valid_rmse    epoch\n",
            "--  ------------  ------------  -------\n",
            " 0        572758       694.243        9\n",
            "validation score is improved!! 835.2399 -> 694.2432\n",
            "start 10\n",
            "train: epoch=10 23.286[s]\n",
            "validate 2.918[s]\n",
            "      train_loss    valid_rmse    epoch\n",
            "--  ------------  ------------  -------\n",
            " 0        378530        568.73       10\n",
            "validation score is improved!! 694.2432 -> 568.7297\n",
            "start 11\n",
            "train: epoch=11 22.899[s]\n",
            "validate 2.961[s]\n",
            "      train_loss    valid_rmse    epoch\n",
            "--  ------------  ------------  -------\n",
            " 0        234151       415.961       11\n",
            "validation score is improved!! 568.7297 -> 415.9612\n",
            "start 12\n",
            "train: epoch=12 23.368[s]\n",
            "validate 2.934[s]\n",
            "      train_loss    valid_rmse    epoch\n",
            "--  ------------  ------------  -------\n",
            " 0        137800       334.151       12\n",
            "validation score is improved!! 415.9612 -> 334.1505\n",
            "start 13\n",
            "train: epoch=13 23.251[s]\n",
            "validate 2.938[s]\n",
            "      train_loss    valid_rmse    epoch\n",
            "--  ------------  ------------  -------\n",
            " 0       78222.2       242.277       13\n",
            "validation score is improved!! 334.1505 -> 242.2770\n",
            "start 14\n",
            "train: epoch=14 23.327[s]\n",
            "validate 2.940[s]\n",
            "      train_loss    valid_rmse    epoch\n",
            "--  ------------  ------------  -------\n",
            " 0       43505.5       178.213       14\n",
            "validation score is improved!! 242.2770 -> 178.2126\n",
            "start 15\n",
            "train: epoch=15 23.108[s]\n",
            "validate 3.000[s]\n",
            "      train_loss    valid_rmse    epoch\n",
            "--  ------------  ------------  -------\n",
            " 0       25967.3       175.387       15\n",
            "validation score is improved!! 178.2126 -> 175.3865\n",
            "start 16\n",
            "train: epoch=16 23.358[s]\n",
            "validate 2.918[s]\n",
            "      train_loss    valid_rmse    epoch\n",
            "--  ------------  ------------  -------\n",
            " 0       16505.8       124.196       16\n",
            "validation score is improved!! 175.3865 -> 124.1958\n",
            "start 17\n",
            "train: epoch=17 23.452[s]\n",
            "validate 2.905[s]\n",
            "      train_loss    valid_rmse    epoch\n",
            "--  ------------  ------------  -------\n",
            " 0       12329.8        107.15       17\n",
            "validation score is improved!! 124.1958 -> 107.1496\n",
            "start 18\n",
            "train: epoch=18 23.194[s]\n",
            "validate 2.899[s]\n",
            "      train_loss    valid_rmse    epoch\n",
            "--  ------------  ------------  -------\n",
            " 0       10498.4       105.025       18\n",
            "validation score is improved!! 107.1496 -> 105.0252\n",
            "start 19\n",
            "train: epoch=19 23.396[s]\n",
            "validate 2.915[s]\n",
            "      train_loss    valid_rmse    epoch\n",
            "--  ------------  ------------  -------\n",
            " 0       10314.9       95.1948       19\n",
            "validation score is improved!! 105.0252 -> 95.1948\n",
            "start 20\n",
            "train: epoch=20 22.975[s]\n",
            "validate 2.984[s]\n",
            "      train_loss    valid_rmse    epoch\n",
            "--  ------------  ------------  -------\n",
            " 0       9770.34       94.6031       20\n",
            "validation score is improved!! 95.1948 -> 94.6031\n",
            "start 21\n",
            "train: epoch=21 23.050[s]\n",
            "validate 2.938[s]\n",
            "      train_loss    valid_rmse    epoch\n",
            "--  ------------  ------------  -------\n",
            " 0       9899.32       98.2143       21\n",
            "start 22\n",
            "train: epoch=22 22.681[s]\n",
            "validate 2.891[s]\n",
            "      train_loss    valid_rmse    epoch\n",
            "--  ------------  ------------  -------\n",
            " 0       9690.84       95.0049       22\n",
            "start 23\n",
            "train: epoch=23 22.851[s]\n",
            "validate 2.943[s]\n",
            "      train_loss    valid_rmse    epoch\n",
            "--  ------------  ------------  -------\n",
            " 0       9693.54       101.884       23\n",
            "start 24\n",
            "train: epoch=24 23.006[s]\n",
            "validate 2.939[s]\n",
            "      train_loss    valid_rmse    epoch\n",
            "--  ------------  ------------  -------\n",
            " 0       9746.21       93.9987       24\n",
            "validation score is improved!! 94.6031 -> 93.9987\n",
            "start 25\n",
            "train: epoch=25 23.210[s]\n",
            "validate 2.935[s]\n",
            "      train_loss    valid_rmse    epoch\n",
            "--  ------------  ------------  -------\n",
            " 0       9575.96       94.2912       25\n",
            "start 26\n",
            "train: epoch=26 23.024[s]\n",
            "validate 2.903[s]\n",
            "      train_loss    valid_rmse    epoch\n",
            "--  ------------  ------------  -------\n",
            " 0       9727.46       94.0574       26\n",
            "start 27\n",
            "train: epoch=27 22.910[s]\n",
            "validate 2.979[s]\n",
            "      train_loss    valid_rmse    epoch\n",
            "--  ------------  ------------  -------\n",
            " 0       9556.44       94.5821       27\n",
            "start 28\n",
            "train: epoch=28 23.129[s]\n",
            "validate 3.030[s]\n",
            "      train_loss    valid_rmse    epoch\n",
            "--  ------------  ------------  -------\n",
            " 0       9698.75       94.7374       28\n",
            "start 29\n",
            "train: epoch=29 22.872[s]\n",
            "validate 2.955[s]\n",
            "      train_loss    valid_rmse    epoch\n",
            "--  ------------  ------------  -------\n",
            " 0       9591.51        96.971       29\n",
            "start 30\n",
            "train: epoch=30 22.800[s]\n",
            "validate 2.929[s]\n",
            "      train_loss    valid_rmse    epoch\n",
            "--  ------------  ------------  -------\n",
            " 0       9606.82       96.9227       30\n",
            "start 31\n",
            "train: epoch=31 22.825[s]\n",
            "validate 2.969[s]\n",
            "      train_loss    valid_rmse    epoch\n",
            "--  ------------  ------------  -------\n",
            " 0       9551.84       93.2549       31\n",
            "validation score is improved!! 93.9987 -> 93.2549\n",
            "start 32\n",
            "train: epoch=32 23.899[s]\n",
            "validate 3.013[s]\n",
            "      train_loss    valid_rmse    epoch\n",
            "--  ------------  ------------  -------\n",
            " 0       9402.27       98.2206       32\n",
            "start 33\n",
            "train: epoch=33 23.905[s]\n",
            "validate 3.064[s]\n",
            "      train_loss    valid_rmse    epoch\n",
            "--  ------------  ------------  -------\n",
            " 0       9410.53       94.1116       33\n",
            "start 34\n",
            "train: epoch=34 23.424[s]\n",
            "validate 2.974[s]\n",
            "      train_loss    valid_rmse    epoch\n",
            "--  ------------  ------------  -------\n",
            " 0       9675.47       93.7865       34\n",
            "start 35\n",
            "train: epoch=35 23.156[s]\n",
            "validate 2.936[s]\n",
            "      train_loss    valid_rmse    epoch\n",
            "--  ------------  ------------  -------\n",
            " 0       9491.54       97.4956       35\n",
            "start 36\n",
            "train: epoch=36 23.028[s]\n",
            "validate 3.023[s]\n",
            "      train_loss    valid_rmse    epoch\n",
            "--  ------------  ------------  -------\n",
            " 0       9426.96       97.1172       36\n",
            "start 37\n",
            "train: epoch=37 22.834[s]\n",
            "validate 2.971[s]\n",
            "      train_loss    valid_rmse    epoch\n",
            "--  ------------  ------------  -------\n",
            " 0       9647.87       94.8874       37\n",
            "start 38\n",
            "train: epoch=38 22.928[s]\n",
            "validate 2.937[s]\n",
            "      train_loss    valid_rmse    epoch\n",
            "--  ------------  ------------  -------\n",
            " 0       9452.35       98.5093       38\n",
            "start 39\n",
            "train: epoch=39 22.972[s]\n",
            "validate 2.873[s]\n",
            "      train_loss    valid_rmse    epoch\n",
            "--  ------------  ------------  -------\n",
            " 0       9471.33       93.3611       39\n",
            "start 40\n",
            "train: epoch=40 22.800[s]\n",
            "validate 2.967[s]\n",
            "      train_loss    valid_rmse    epoch\n",
            "--  ------------  ------------  -------\n",
            " 0       9340.46       93.7149       40\n"
          ],
          "name": "stdout"
        }
      ]
    },
    {
      "cell_type": "code",
      "metadata": {
        "colab": {
          "base_uri": "https://localhost:8080/"
        },
        "id": "zeYNom31Tera",
        "outputId": "ac1a2c43-f33b-482b-a0b6-ba500f7e5603"
      },
      "source": [
        "calculate_metrics(train_df_org['sorting_date'], oof)"
      ],
      "execution_count": 52,
      "outputs": [
        {
          "output_type": "execute_result",
          "data": {
            "text/plain": [
              "{'rmse': 94.09000949806}"
            ]
          },
          "metadata": {
            "tags": []
          },
          "execution_count": 52
        }
      ]
    },
    {
      "cell_type": "code",
      "metadata": {
        "colab": {
          "base_uri": "https://localhost:8080/"
        },
        "id": "v-SLAJ74fKCO",
        "outputId": "88390dd7-8444-4e86-833e-c4fa4d94a998"
      },
      "source": [
        "oof[0:10]"
      ],
      "execution_count": 53,
      "outputs": [
        {
          "output_type": "execute_result",
          "data": {
            "text/plain": [
              "array([1725.0674, 1732.2981, 1756.9341, 1733.0571, 1746.7083, 1751.5983,\n",
              "       1733.0481, 1709.1068, 1740.0327, 1746.5302], dtype=float32)"
            ]
          },
          "metadata": {
            "tags": []
          },
          "execution_count": 53
        }
      ]
    },
    {
      "cell_type": "code",
      "metadata": {
        "id": "Rfa8f6dG8GRF"
      },
      "source": [
        "oof_df = pd.DataFrame(oof, columns=['oof'])\n",
        "oof_df['target'] = oof_df['oof'].map(lambda x: x/100.0 - 15.51)"
      ],
      "execution_count": 67,
      "outputs": []
    },
    {
      "cell_type": "code",
      "metadata": {
        "id": "J8W1twpe8Y-g"
      },
      "source": [
        "oof_df['clip'] = oof_df['target'].clip(0,3)"
      ],
      "execution_count": 69,
      "outputs": []
    },
    {
      "cell_type": "code",
      "metadata": {
        "colab": {
          "base_uri": "https://localhost:8080/",
          "height": 297
        },
        "id": "w10h-sv78i0_",
        "outputId": "c46b51b2-44e5-475a-b9a3-92135282e4cc"
      },
      "source": [
        "oof_df.describe()"
      ],
      "execution_count": 70,
      "outputs": [
        {
          "output_type": "execute_result",
          "data": {
            "text/html": [
              "<div>\n",
              "<style scoped>\n",
              "    .dataframe tbody tr th:only-of-type {\n",
              "        vertical-align: middle;\n",
              "    }\n",
              "\n",
              "    .dataframe tbody tr th {\n",
              "        vertical-align: top;\n",
              "    }\n",
              "\n",
              "    .dataframe thead th {\n",
              "        text-align: right;\n",
              "    }\n",
              "</style>\n",
              "<table border=\"1\" class=\"dataframe\">\n",
              "  <thead>\n",
              "    <tr style=\"text-align: right;\">\n",
              "      <th></th>\n",
              "      <th>oof</th>\n",
              "      <th>target</th>\n",
              "      <th>clip</th>\n",
              "    </tr>\n",
              "  </thead>\n",
              "  <tbody>\n",
              "    <tr>\n",
              "      <th>count</th>\n",
              "      <td>3937.000000</td>\n",
              "      <td>3937.000000</td>\n",
              "      <td>3937.000000</td>\n",
              "    </tr>\n",
              "    <tr>\n",
              "      <th>mean</th>\n",
              "      <td>1732.052002</td>\n",
              "      <td>1.810547</td>\n",
              "      <td>1.810547</td>\n",
              "    </tr>\n",
              "    <tr>\n",
              "      <th>std</th>\n",
              "      <td>19.135077</td>\n",
              "      <td>0.191351</td>\n",
              "      <td>0.191351</td>\n",
              "    </tr>\n",
              "    <tr>\n",
              "      <th>min</th>\n",
              "      <td>1669.664185</td>\n",
              "      <td>1.186642</td>\n",
              "      <td>1.186642</td>\n",
              "    </tr>\n",
              "    <tr>\n",
              "      <th>25%</th>\n",
              "      <td>1721.692505</td>\n",
              "      <td>1.706925</td>\n",
              "      <td>1.706925</td>\n",
              "    </tr>\n",
              "    <tr>\n",
              "      <th>50%</th>\n",
              "      <td>1733.065430</td>\n",
              "      <td>1.820654</td>\n",
              "      <td>1.820654</td>\n",
              "    </tr>\n",
              "    <tr>\n",
              "      <th>75%</th>\n",
              "      <td>1743.484131</td>\n",
              "      <td>1.924841</td>\n",
              "      <td>1.924841</td>\n",
              "    </tr>\n",
              "    <tr>\n",
              "      <th>max</th>\n",
              "      <td>1808.673218</td>\n",
              "      <td>2.576732</td>\n",
              "      <td>2.576732</td>\n",
              "    </tr>\n",
              "  </tbody>\n",
              "</table>\n",
              "</div>"
            ],
            "text/plain": [
              "               oof       target         clip\n",
              "count  3937.000000  3937.000000  3937.000000\n",
              "mean   1732.052002     1.810547     1.810547\n",
              "std      19.135077     0.191351     0.191351\n",
              "min    1669.664185     1.186642     1.186642\n",
              "25%    1721.692505     1.706925     1.706925\n",
              "50%    1733.065430     1.820654     1.820654\n",
              "75%    1743.484131     1.924841     1.924841\n",
              "max    1808.673218     2.576732     2.576732"
            ]
          },
          "metadata": {
            "tags": []
          },
          "execution_count": 70
        }
      ]
    },
    {
      "cell_type": "code",
      "metadata": {
        "colab": {
          "base_uri": "https://localhost:8080/",
          "height": 336
        },
        "id": "ocmSVRnwTjyl",
        "outputId": "c76694e1-ce14-4280-87e9-4538e257b1f7"
      },
      "source": [
        "sns.distplot(oof)"
      ],
      "execution_count": 55,
      "outputs": [
        {
          "output_type": "stream",
          "text": [
            "/usr/local/lib/python3.7/dist-packages/seaborn/distributions.py:2557: FutureWarning: `distplot` is a deprecated function and will be removed in a future version. Please adapt your code to use either `displot` (a figure-level function with similar flexibility) or `histplot` (an axes-level function for histograms).\n",
            "  warnings.warn(msg, FutureWarning)\n"
          ],
          "name": "stderr"
        },
        {
          "output_type": "execute_result",
          "data": {
            "text/plain": [
              "<matplotlib.axes._subplots.AxesSubplot at 0x7ff8f02f7ed0>"
            ]
          },
          "metadata": {
            "tags": []
          },
          "execution_count": 55
        },
        {
          "output_type": "display_data",
          "data": {
            "image/png": "[encoded data removed]",
            "text/plain": [
              "<Figure size 432x288 with 1 Axes>"
            ]
          },
          "metadata": {
            "tags": [],
            "needs_background": "light"
          }
        }
      ]
    },
    {
      "cell_type": "code",
      "metadata": {
        "colab": {
          "base_uri": "https://localhost:8080/"
        },
        "id": "hsoYJ7z2ZV9Q",
        "outputId": "6ca25d05-8414-4ebd-a6f0-edceadf855e3"
      },
      "source": [
        "score_list = []\n",
        "for i in range(len(cv)):\n",
        "    score = pd.read_csv(os.path.join(get_output_dir(i), 'score.csv'))\n",
        "    score_list.append(score)\n",
        "\n",
        "    print(i, ': epoch =', score['valid_rmse'].idxmin(), ', ', score['train_loss'].idxmin())"
      ],
      "execution_count": 56,
      "outputs": [
        {
          "output_type": "stream",
          "text": [
            "0 : epoch = 39 ,  34\n",
            "1 : epoch = 39 ,  39\n",
            "2 : epoch = 31 ,  26\n",
            "3 : epoch = 38 ,  38\n",
            "4 : epoch = 30 ,  39\n"
          ],
          "name": "stdout"
        }
      ]
    },
    {
      "cell_type": "code",
      "metadata": {
        "id": "kp_DFMZ-9GHP"
      },
      "source": [
        "def plot_score(score_list, score_data):\n",
        "    for score in score_list:\n",
        "        plt.plot(score[score_data])"
      ],
      "execution_count": 57,
      "outputs": []
    },
    {
      "cell_type": "code",
      "metadata": {
        "colab": {
          "base_uri": "https://localhost:8080/",
          "height": 276
        },
        "id": "7srQeOhk-Rte",
        "outputId": "702f3ef3-5893-47bb-b28c-125567270c96"
      },
      "source": [
        "plot_score(score_list, 'train_loss')"
      ],
      "execution_count": 58,
      "outputs": [
        {
          "output_type": "display_data",
          "data": {
            "image/png": "[encoded data removed]",
            "text/plain": [
              "<Figure size 432x288 with 1 Axes>"
            ]
          },
          "metadata": {
            "tags": [],
            "needs_background": "light"
          }
        }
      ]
    },
    {
      "cell_type": "code",
      "metadata": {
        "colab": {
          "base_uri": "https://localhost:8080/",
          "height": 265
        },
        "id": "ZraQgSRK9208",
        "outputId": "375531b0-56c6-4d37-f112-ef13f3fa93b9"
      },
      "source": [
        "plot_score(score_list, 'valid_rmse')"
      ],
      "execution_count": 59,
      "outputs": [
        {
          "output_type": "display_data",
          "data": {
            "image/png": "[encoded data removed]",
            "text/plain": [
              "<Figure size 432x288 with 1 Axes>"
            ]
          },
          "metadata": {
            "tags": [],
            "needs_background": "light"
          }
        }
      ]
    },
    {
      "cell_type": "markdown",
      "metadata": {
        "id": "7ZDwFDjfjFLA"
      },
      "source": [
        "### Test"
      ]
    },
    {
      "cell_type": "code",
      "metadata": {
        "id": "t50mo9zdf_Hw"
      },
      "source": [
        "test_meta_df = create_metadata(test_df)\n",
        "\n",
        "# 学習時のデータ拡張はオフにしたいので is_train=False としている\n",
        "test_dataset = AtmaDataset(meta_df=test_meta_df, is_train=False)\n",
        "test_loader = data.DataLoader(dataset=test_dataset, batch_size=128, drop_last=False, num_workers=NUM_WORKERS)"
      ],
      "execution_count": 60,
      "outputs": []
    },
    {
      "cell_type": "code",
      "metadata": {
        "colab": {
          "base_uri": "https://localhost:8080/"
        },
        "id": "TWpXGqKTjSLF",
        "outputId": "351e63f2-6301-4962-d0eb-6418293f85aa"
      },
      "source": [
        "test_predictions = []\n",
        "\n",
        "for i in range(len(cv)):\n",
        "    output_i = get_output_dir(i)\n",
        "\n",
        "    model = resnet34(pretrained=False)\n",
        "    model.fc = nn.Linear(in_features=512, out_features=1, bias=True)\n",
        "\n",
        "    # 最も良かった重みを読みだす\n",
        "    # https://pytorch.org/tutorials/beginner/saving_loading_models.html\n",
        "    model_path = os.path.join(output_i, 'model_best.pth')\n",
        "\n",
        "    model.load_state_dict(torch.load(model_path))\n",
        "\n",
        "    # GPU環境で予測するため `to` で変換\n",
        "    model.to(DEVICE)\n",
        "\n",
        "    with timer(prefix=f'pred cv={i}'):\n",
        "        y_pred_i = predict(model, loader=test_loader)\n",
        "\n",
        "    test_predictions.append(y_pred_i)"
      ],
      "execution_count": 61,
      "outputs": [
        {
          "output_type": "stream",
          "text": [
            "pred cv=0 500.240[s]\n",
            "pred cv=1 17.787[s]\n",
            "pred cv=2 17.563[s]\n",
            "pred cv=3 17.290[s]\n",
            "pred cv=4 17.823[s]\n"
          ],
          "name": "stdout"
        }
      ]
    },
    {
      "cell_type": "code",
      "metadata": {
        "id": "Px7kyghRjdCH"
      },
      "source": [
        "# すべての予測の平均値を使う\n",
        "pred_mean = np.array(test_predictions).mean(axis=0)\n",
        "\n",
        "pd.DataFrame({\n",
        "    \"target\": pred_mean\n",
        "}).to_csv(os.path.join(output_dir, \"0002__submission.csv\"), index=False)"
      ],
      "execution_count": 62,
      "outputs": []
    },
    {
      "cell_type": "code",
      "metadata": {
        "colab": {
          "base_uri": "https://localhost:8080/",
          "height": 221
        },
        "id": "11rfVra97x9Q",
        "outputId": "65f612d9-7d59-466a-cd7f-b3596044816e"
      },
      "source": [
        "result = pd.DataFrame(pred_mean)\n",
        "print(result.shape)\n",
        "result.head()"
      ],
      "execution_count": 63,
      "outputs": [
        {
          "output_type": "stream",
          "text": [
            "(5919, 1)\n"
          ],
          "name": "stdout"
        },
        {
          "output_type": "execute_result",
          "data": {
            "text/html": [
              "<div>\n",
              "<style scoped>\n",
              "    .dataframe tbody tr th:only-of-type {\n",
              "        vertical-align: middle;\n",
              "    }\n",
              "\n",
              "    .dataframe tbody tr th {\n",
              "        vertical-align: top;\n",
              "    }\n",
              "\n",
              "    .dataframe thead th {\n",
              "        text-align: right;\n",
              "    }\n",
              "</style>\n",
              "<table border=\"1\" class=\"dataframe\">\n",
              "  <thead>\n",
              "    <tr style=\"text-align: right;\">\n",
              "      <th></th>\n",
              "      <th>0</th>\n",
              "    </tr>\n",
              "  </thead>\n",
              "  <tbody>\n",
              "    <tr>\n",
              "      <th>0</th>\n",
              "      <td>1739.686157</td>\n",
              "    </tr>\n",
              "    <tr>\n",
              "      <th>1</th>\n",
              "      <td>1740.875732</td>\n",
              "    </tr>\n",
              "    <tr>\n",
              "      <th>2</th>\n",
              "      <td>1727.023193</td>\n",
              "    </tr>\n",
              "    <tr>\n",
              "      <th>3</th>\n",
              "      <td>1742.815430</td>\n",
              "    </tr>\n",
              "    <tr>\n",
              "      <th>4</th>\n",
              "      <td>1737.787720</td>\n",
              "    </tr>\n",
              "  </tbody>\n",
              "</table>\n",
              "</div>"
            ],
            "text/plain": [
              "             0\n",
              "0  1739.686157\n",
              "1  1740.875732\n",
              "2  1727.023193\n",
              "3  1742.815430\n",
              "4  1737.787720"
            ]
          },
          "metadata": {
            "tags": []
          },
          "execution_count": 63
        }
      ]
    },
    {
      "cell_type": "code",
      "metadata": {
        "colab": {
          "base_uri": "https://localhost:8080/",
          "height": 336
        },
        "id": "DsuphKB67zr5",
        "outputId": "54483acc-9391-4e9c-f3dc-d6bdd956c48b"
      },
      "source": [
        "sns.distplot(result)"
      ],
      "execution_count": 64,
      "outputs": [
        {
          "output_type": "stream",
          "text": [
            "/usr/local/lib/python3.7/dist-packages/seaborn/distributions.py:2557: FutureWarning: `distplot` is a deprecated function and will be removed in a future version. Please adapt your code to use either `displot` (a figure-level function with similar flexibility) or `histplot` (an axes-level function for histograms).\n",
            "  warnings.warn(msg, FutureWarning)\n"
          ],
          "name": "stderr"
        },
        {
          "output_type": "execute_result",
          "data": {
            "text/plain": [
              "<matplotlib.axes._subplots.AxesSubplot at 0x7ff8f037ca50>"
            ]
          },
          "metadata": {
            "tags": []
          },
          "execution_count": 64
        },
        {
          "output_type": "display_data",
          "data": {
            "image/png": "[encoded data removed]",
            "text/plain": [
              "<Figure size 432x288 with 1 Axes>"
            ]
          },
          "metadata": {
            "tags": [],
            "needs_background": "light"
          }
        }
      ]
    },
    {
      "cell_type": "markdown",
      "metadata": {
        "id": "Xko4GiiyV0sz"
      },
      "source": [
        "### RESULT\n",
        "#### submit 1\n",
        "- epoch: 30\n",
        "- rmse: 0.899111\n",
        "- LB: 0.8908"
      ]
    },
    {
      "cell_type": "code",
      "metadata": {
        "id": "GugmsOVF-g6J"
      },
      "source": [
        ""
      ],
      "execution_count": 64,
      "outputs": []
    }
  ]
}