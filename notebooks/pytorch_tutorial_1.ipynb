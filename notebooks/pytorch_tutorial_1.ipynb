{
  "nbformat": 4,
  "nbformat_minor": 0,
  "metadata": {
    "colab": {
      "name": "pytorch_tutorial_1.ipynb",
      "provenance": [],
      "authorship_tag": "ABX9TyPBiQiTm3RkVXZnWo3vR367",
      "include_colab_link": true
    },
    "kernelspec": {
      "name": "python3",
      "display_name": "Python 3"
    },
    "language_info": {
      "name": "python"
    },
    "accelerator": "GPU"
  },
  "cells": [
    {
      "cell_type": "markdown",
      "metadata": {
        "id": "view-in-github",
        "colab_type": "text"
      },
      "source": [
        "<a href=\"https://colab.research.google.com/github/yumehara/atmacup11/blob/main/notebooks/pytorch_tutorial_1.ipynb\" target=\"_parent\"><img src=\"https://colab.research.google.com/assets/colab-badge.svg\" alt=\"Open In Colab\"/></a>"
      ]
    },
    {
      "cell_type": "code",
      "metadata": {
        "id": "-DWqi2ud97n7"
      },
      "source": [
        "import os\n",
        "import pandas as pd\n",
        "import numpy as np\n",
        "from glob import  glob\n",
        "import matplotlib.pyplot as plt\n",
        "import seaborn as sns"
      ],
      "execution_count": 36,
      "outputs": []
    },
    {
      "cell_type": "code",
      "metadata": {
        "colab": {
          "base_uri": "https://localhost:8080/"
        },
        "id": "O7bZ6wze-urf",
        "outputId": "7ceb2e28-326a-44e6-c9fc-7af72564116d"
      },
      "source": [
        "!pip install python-vivid"
      ],
      "execution_count": 37,
      "outputs": [
        {
          "output_type": "stream",
          "text": [
            "Requirement already satisfied: python-vivid in /usr/local/lib/python3.7/dist-packages (0.3.3.4)\n",
            "Requirement already satisfied: tabulate in /usr/local/lib/python3.7/dist-packages (from python-vivid) (0.8.9)\n",
            "Requirement already satisfied: seaborn in /usr/local/lib/python3.7/dist-packages (from python-vivid) (0.11.1)\n",
            "Requirement already satisfied: numpy in /usr/local/lib/python3.7/dist-packages (from python-vivid) (1.19.5)\n",
            "Requirement already satisfied: feather-format in /usr/local/lib/python3.7/dist-packages (from python-vivid) (0.4.1)\n",
            "Requirement already satisfied: scipy in /usr/local/lib/python3.7/dist-packages (from python-vivid) (1.4.1)\n",
            "Requirement already satisfied: matplotlib in /usr/local/lib/python3.7/dist-packages (from python-vivid) (3.2.2)\n",
            "Requirement already satisfied: joblib in /usr/local/lib/python3.7/dist-packages (from python-vivid) (1.0.1)\n",
            "Requirement already satisfied: tqdm in /usr/local/lib/python3.7/dist-packages (from python-vivid) (4.41.1)\n",
            "Requirement already satisfied: lightgbm in /usr/local/lib/python3.7/dist-packages (from python-vivid) (2.2.3)\n",
            "Requirement already satisfied: scikit-learn in /usr/local/lib/python3.7/dist-packages (from python-vivid) (0.22.2.post1)\n",
            "Requirement already satisfied: optuna in /usr/local/lib/python3.7/dist-packages (from python-vivid) (2.8.0)\n",
            "Requirement already satisfied: networkx in /usr/local/lib/python3.7/dist-packages (from python-vivid) (2.5.1)\n",
            "Requirement already satisfied: xgboost in /usr/local/lib/python3.7/dist-packages (from python-vivid) (0.90)\n",
            "Requirement already satisfied: pandas in /usr/local/lib/python3.7/dist-packages (from python-vivid) (1.1.5)\n",
            "Requirement already satisfied: pyarrow>=0.4.0 in /usr/local/lib/python3.7/dist-packages (from feather-format->python-vivid) (3.0.0)\n",
            "Requirement already satisfied: cycler>=0.10 in /usr/local/lib/python3.7/dist-packages (from matplotlib->python-vivid) (0.10.0)\n",
            "Requirement already satisfied: kiwisolver>=1.0.1 in /usr/local/lib/python3.7/dist-packages (from matplotlib->python-vivid) (1.3.1)\n",
            "Requirement already satisfied: pyparsing!=2.0.4,!=2.1.2,!=2.1.6,>=2.0.1 in /usr/local/lib/python3.7/dist-packages (from matplotlib->python-vivid) (2.4.7)\n",
            "Requirement already satisfied: python-dateutil>=2.1 in /usr/local/lib/python3.7/dist-packages (from matplotlib->python-vivid) (2.8.1)\n",
            "Requirement already satisfied: packaging>=20.0 in /usr/local/lib/python3.7/dist-packages (from optuna->python-vivid) (20.9)\n",
            "Requirement already satisfied: cmaes>=0.8.2 in /usr/local/lib/python3.7/dist-packages (from optuna->python-vivid) (0.8.2)\n",
            "Requirement already satisfied: colorlog in /usr/local/lib/python3.7/dist-packages (from optuna->python-vivid) (5.0.1)\n",
            "Requirement already satisfied: alembic in /usr/local/lib/python3.7/dist-packages (from optuna->python-vivid) (1.6.5)\n",
            "Requirement already satisfied: sqlalchemy>=1.1.0 in /usr/local/lib/python3.7/dist-packages (from optuna->python-vivid) (1.4.20)\n",
            "Requirement already satisfied: cliff in /usr/local/lib/python3.7/dist-packages (from optuna->python-vivid) (3.8.0)\n",
            "Requirement already satisfied: decorator<5,>=4.3 in /usr/local/lib/python3.7/dist-packages (from networkx->python-vivid) (4.4.2)\n",
            "Requirement already satisfied: pytz>=2017.2 in /usr/local/lib/python3.7/dist-packages (from pandas->python-vivid) (2018.9)\n",
            "Requirement already satisfied: six in /usr/local/lib/python3.7/dist-packages (from cycler>=0.10->matplotlib->python-vivid) (1.15.0)\n",
            "Requirement already satisfied: python-editor>=0.3 in /usr/local/lib/python3.7/dist-packages (from alembic->optuna->python-vivid) (1.0.4)\n",
            "Requirement already satisfied: Mako in /usr/local/lib/python3.7/dist-packages (from alembic->optuna->python-vivid) (1.1.4)\n",
            "Requirement already satisfied: greenlet!=0.4.17; python_version >= \"3\" in /usr/local/lib/python3.7/dist-packages (from sqlalchemy>=1.1.0->optuna->python-vivid) (1.1.0)\n",
            "Requirement already satisfied: importlib-metadata; python_version < \"3.8\" in /usr/local/lib/python3.7/dist-packages (from sqlalchemy>=1.1.0->optuna->python-vivid) (4.6.0)\n",
            "Requirement already satisfied: PrettyTable>=0.7.2 in /usr/local/lib/python3.7/dist-packages (from cliff->optuna->python-vivid) (2.1.0)\n",
            "Requirement already satisfied: PyYAML>=3.12 in /usr/local/lib/python3.7/dist-packages (from cliff->optuna->python-vivid) (3.13)\n",
            "Requirement already satisfied: stevedore>=2.0.1 in /usr/local/lib/python3.7/dist-packages (from cliff->optuna->python-vivid) (3.3.0)\n",
            "Requirement already satisfied: pbr!=2.1.0,>=2.0.0 in /usr/local/lib/python3.7/dist-packages (from cliff->optuna->python-vivid) (5.6.0)\n",
            "Requirement already satisfied: cmd2>=1.0.0 in /usr/local/lib/python3.7/dist-packages (from cliff->optuna->python-vivid) (2.1.2)\n",
            "Requirement already satisfied: MarkupSafe>=0.9.2 in /usr/local/lib/python3.7/dist-packages (from Mako->alembic->optuna->python-vivid) (2.0.1)\n",
            "Requirement already satisfied: typing-extensions>=3.6.4; python_version < \"3.8\" in /usr/local/lib/python3.7/dist-packages (from importlib-metadata; python_version < \"3.8\"->sqlalchemy>=1.1.0->optuna->python-vivid) (3.7.4.3)\n",
            "Requirement already satisfied: zipp>=0.5 in /usr/local/lib/python3.7/dist-packages (from importlib-metadata; python_version < \"3.8\"->sqlalchemy>=1.1.0->optuna->python-vivid) (3.4.1)\n",
            "Requirement already satisfied: wcwidth in /usr/local/lib/python3.7/dist-packages (from PrettyTable>=0.7.2->cliff->optuna->python-vivid) (0.2.5)\n",
            "Requirement already satisfied: attrs>=16.3.0 in /usr/local/lib/python3.7/dist-packages (from cmd2>=1.0.0->cliff->optuna->python-vivid) (21.2.0)\n",
            "Requirement already satisfied: pyperclip>=1.6 in /usr/local/lib/python3.7/dist-packages (from cmd2>=1.0.0->cliff->optuna->python-vivid) (1.8.2)\n",
            "Requirement already satisfied: colorama>=0.3.7 in /usr/local/lib/python3.7/dist-packages (from cmd2>=1.0.0->cliff->optuna->python-vivid) (0.4.4)\n"
          ],
          "name": "stdout"
        }
      ]
    },
    {
      "cell_type": "code",
      "metadata": {
        "colab": {
          "base_uri": "https://localhost:8080/"
        },
        "id": "1QAGAtaO-Z8H",
        "outputId": "d48c4130-d733-493d-ff93-c6ba9ff11e31"
      },
      "source": [
        "from google.colab import drive\n",
        "drive.mount('/content/drive')"
      ],
      "execution_count": 38,
      "outputs": [
        {
          "output_type": "stream",
          "text": [
            "Drive already mounted at /content/drive; to attempt to forcibly remount, call drive.mount(\"/content/drive\", force_remount=True).\n"
          ],
          "name": "stdout"
        }
      ]
    },
    {
      "cell_type": "code",
      "metadata": {
        "id": "MjyNfMGf-ie0"
      },
      "source": [
        "def get_path(filename):\n",
        "    return os.path.join('/content/drive/MyDrive/atmacup11', filename)"
      ],
      "execution_count": 39,
      "outputs": []
    },
    {
      "cell_type": "code",
      "metadata": {
        "id": "1SYw71N4-p9A"
      },
      "source": [
        "input_dir = get_path(\"inputs\")\n",
        "photo_dir = get_path(\"inputs/photos\")"
      ],
      "execution_count": 40,
      "outputs": []
    },
    {
      "cell_type": "code",
      "metadata": {
        "id": "a7cDr8zn_EGA"
      },
      "source": [
        "output_dir = get_path(\"outputs/tutorial_1\")\n",
        "os.makedirs(output_dir, exist_ok=True)"
      ],
      "execution_count": 41,
      "outputs": []
    },
    {
      "cell_type": "code",
      "metadata": {
        "id": "YhKEpjK4_FVR"
      },
      "source": [
        "photo_pathes = glob(get_path(\"inputs/photos/*.jpg\"))"
      ],
      "execution_count": 42,
      "outputs": []
    },
    {
      "cell_type": "code",
      "metadata": {
        "id": "C3N3rD1RAPTU"
      },
      "source": [
        "train_df = pd.read_csv(os.path.join(input_dir, 'train.csv'))\n",
        "test_df = pd.read_csv(os.path.join(input_dir, 'test.csv'))\n",
        "\n",
        "material_df = pd.read_csv(os.path.join(input_dir, 'materials.csv'))\n",
        "technique_df = pd.read_csv(os.path.join(input_dir, 'techniques.csv'))"
      ],
      "execution_count": 43,
      "outputs": []
    },
    {
      "cell_type": "markdown",
      "metadata": {
        "id": "0_6pWmMhAA2B"
      },
      "source": [
        "### 画像データの読み込み"
      ]
    },
    {
      "cell_type": "code",
      "metadata": {
        "id": "oC1w6LwJ_trm"
      },
      "source": [
        "from PIL import Image\n",
        "\n",
        "def to_img_path(object_id):\n",
        "    return os.path.join(photo_dir, f'{object_id}.jpg')\n",
        "\n",
        "def read_image(object_id):\n",
        "    return Image.open(to_img_path(object_id))"
      ],
      "execution_count": 44,
      "outputs": []
    },
    {
      "cell_type": "code",
      "metadata": {
        "colab": {
          "base_uri": "https://localhost:8080/",
          "height": 126
        },
        "id": "JmCd9iAYAHLH",
        "outputId": "91b87b5d-0ea5-4546-8ea0-df0d681a9f9e"
      },
      "source": [
        "img = read_image(train_df['object_id'].iat[0])\n",
        "img"
      ],
      "execution_count": 45,
      "outputs": [
        {
          "output_type": "execute_result",
          "data": {
            "image/png": "[encoded data removed]",
            "text/plain": [
              "<PIL.JpegImagePlugin.JpegImageFile image mode=RGB size=224x109 at 0x7FD213B4B090>"
            ]
          },
          "metadata": {
            "tags": []
          },
          "execution_count": 45
        }
      ]
    },
    {
      "cell_type": "markdown",
      "metadata": {
        "id": "6Sbudxo9AZkr"
      },
      "source": [
        "### データ拡張 (data augmentation)"
      ]
    },
    {
      "cell_type": "code",
      "metadata": {
        "id": "pgK_c89uAXPc"
      },
      "source": [
        "from torchvision import transforms as T"
      ],
      "execution_count": 46,
      "outputs": []
    },
    {
      "cell_type": "code",
      "metadata": {
        "colab": {
          "base_uri": "https://localhost:8080/",
          "height": 126
        },
        "id": "sGuNdvLPAe_4",
        "outputId": "19ebd2ff-f7ae-41c3-dc82-b9d3cee7cf98"
      },
      "source": [
        "# p は変更する確率を表しています。今は変換がされた時の値を見たいので 1 を指定しました。\n",
        "# 上下反転\n",
        "T.RandomVerticalFlip(p=1)(img)"
      ],
      "execution_count": 47,
      "outputs": [
        {
          "output_type": "execute_result",
          "data": {
            "image/png": "[encoded data removed]",
            "text/plain": [
              "<PIL.Image.Image image mode=RGB size=224x109 at 0x7FD2705642D0>"
            ]
          },
          "metadata": {
            "tags": []
          },
          "execution_count": 47
        }
      ]
    },
    {
      "cell_type": "code",
      "metadata": {
        "colab": {
          "base_uri": "https://localhost:8080/",
          "height": 126
        },
        "id": "hPy-nrj6AiAC",
        "outputId": "2034866c-12b9-4b04-b355-2f30dc6d62a5"
      },
      "source": [
        "# 左右反転\n",
        "T.RandomHorizontalFlip(p=1)(img)"
      ],
      "execution_count": 48,
      "outputs": [
        {
          "output_type": "execute_result",
          "data": {
            "image/png": "[encoded data removed]",
            "text/plain": [
              "<PIL.Image.Image image mode=RGB size=224x109 at 0x7FD2054C4990>"
            ]
          },
          "metadata": {
            "tags": []
          },
          "execution_count": 48
        }
      ]
    },
    {
      "cell_type": "code",
      "metadata": {
        "colab": {
          "base_uri": "https://localhost:8080/",
          "height": 126
        },
        "id": "unil_TdRAqDw",
        "outputId": "5a12c27d-bba8-45f0-8792-b4422157cd36"
      },
      "source": [
        "# グレースケール化\n",
        "T.RandomGrayscale(1)(img)"
      ],
      "execution_count": 49,
      "outputs": [
        {
          "output_type": "execute_result",
          "data": {
            "image/png": "[encoded data removed]",
            "text/plain": [
              "<PIL.Image.Image image mode=RGB size=224x109 at 0x7FD26F7B4890>"
            ]
          },
          "metadata": {
            "tags": []
          },
          "execution_count": 49
        }
      ]
    },
    {
      "cell_type": "code",
      "metadata": {
        "colab": {
          "base_uri": "https://localhost:8080/",
          "height": 126
        },
        "id": "pmTs0PW1Avqs",
        "outputId": "78b0dec2-299b-4824-b985-5785066506ab"
      },
      "source": [
        "# 明るさ・コントラスト・彩度をランダムに変動させる\n",
        "T.ColorJitter(brightness=.3, contrast=.5, saturation=[.8, 1.3])(img)"
      ],
      "execution_count": 50,
      "outputs": [
        {
          "output_type": "execute_result",
          "data": {
            "image/png": "[encoded data removed]",
            "text/plain": [
              "<PIL.Image.Image image mode=RGB size=224x109 at 0x7FD213B44BD0>"
            ]
          },
          "metadata": {
            "tags": []
          },
          "execution_count": 50
        }
      ]
    },
    {
      "cell_type": "code",
      "metadata": {
        "colab": {
          "base_uri": "https://localhost:8080/",
          "height": 217
        },
        "id": "mEo-JctTAzcd",
        "outputId": "b9991d5f-8f5e-49c2-913f-ac40a1dc58ff"
      },
      "source": [
        "# 一部を切り出してリサイズ\n",
        "T.RandomResizedCrop(size=(200, 200), )(img)"
      ],
      "execution_count": 51,
      "outputs": [
        {
          "output_type": "execute_result",
          "data": {
            "image/png": "[encoded data removed]",
            "text/plain": [
              "<PIL.Image.Image image mode=RGB size=200x200 at 0x7FD213CF28D0>"
            ]
          },
          "metadata": {
            "tags": []
          },
          "execution_count": 51
        }
      ]
    },
    {
      "cell_type": "code",
      "metadata": {
        "colab": {
          "base_uri": "https://localhost:8080/",
          "height": 126
        },
        "id": "rCfEXmP2A-23",
        "outputId": "031c7ecb-2072-44f7-af87-4af2decbc440"
      },
      "source": [
        "# 組み合わせ\n",
        "converter = T.Compose([\n",
        "    T.RandomVerticalFlip(p=1),\n",
        "    T.ColorJitter(brightness=.5, contrast=.5)\n",
        "])\n",
        "\n",
        "converter(img)"
      ],
      "execution_count": 52,
      "outputs": [
        {
          "output_type": "execute_result",
          "data": {
            "image/png": "[encoded data removed]",
            "text/plain": [
              "<PIL.Image.Image image mode=RGB size=224x109 at 0x7FD2054A6C50>"
            ]
          },
          "metadata": {
            "tags": []
          },
          "execution_count": 52
        }
      ]
    },
    {
      "cell_type": "markdown",
      "metadata": {
        "id": "MpU1z42OBgpa"
      },
      "source": [
        "### モデルの定義"
      ]
    },
    {
      "cell_type": "code",
      "metadata": {
        "id": "1NTkGgM1BeEo"
      },
      "source": [
        "import torch\n",
        "from torchvision.models import resnet34\n",
        "from torch import nn"
      ],
      "execution_count": 53,
      "outputs": []
    },
    {
      "cell_type": "code",
      "metadata": {
        "id": "1FxekoSnBjcb"
      },
      "source": [
        "# 事前学習を読み込まない\n",
        "model = resnet34(pretrained=False)"
      ],
      "execution_count": 54,
      "outputs": []
    },
    {
      "cell_type": "code",
      "metadata": {
        "colab": {
          "base_uri": "https://localhost:8080/"
        },
        "id": "M9BCRvv6Bpox",
        "outputId": "36d8f91a-1c85-4935-8593-76165d67253c"
      },
      "source": [
        "model"
      ],
      "execution_count": 55,
      "outputs": [
        {
          "output_type": "execute_result",
          "data": {
            "text/plain": [
              "ResNet(\n",
              "  (conv1): Conv2d(3, 64, kernel_size=(7, 7), stride=(2, 2), padding=(3, 3), bias=False)\n",
              "  (bn1): BatchNorm2d(64, eps=1e-05, momentum=0.1, affine=True, track_running_stats=True)\n",
              "  (relu): ReLU(inplace=True)\n",
              "  (maxpool): MaxPool2d(kernel_size=3, stride=2, padding=1, dilation=1, ceil_mode=False)\n",
              "  (layer1): Sequential(\n",
              "    (0): BasicBlock(\n",
              "      (conv1): Conv2d(64, 64, kernel_size=(3, 3), stride=(1, 1), padding=(1, 1), bias=False)\n",
              "      (bn1): BatchNorm2d(64, eps=1e-05, momentum=0.1, affine=True, track_running_stats=True)\n",
              "      (relu): ReLU(inplace=True)\n",
              "      (conv2): Conv2d(64, 64, kernel_size=(3, 3), stride=(1, 1), padding=(1, 1), bias=False)\n",
              "      (bn2): BatchNorm2d(64, eps=1e-05, momentum=0.1, affine=True, track_running_stats=True)\n",
              "    )\n",
              "    (1): BasicBlock(\n",
              "      (conv1): Conv2d(64, 64, kernel_size=(3, 3), stride=(1, 1), padding=(1, 1), bias=False)\n",
              "      (bn1): BatchNorm2d(64, eps=1e-05, momentum=0.1, affine=True, track_running_stats=True)\n",
              "      (relu): ReLU(inplace=True)\n",
              "      (conv2): Conv2d(64, 64, kernel_size=(3, 3), stride=(1, 1), padding=(1, 1), bias=False)\n",
              "      (bn2): BatchNorm2d(64, eps=1e-05, momentum=0.1, affine=True, track_running_stats=True)\n",
              "    )\n",
              "    (2): BasicBlock(\n",
              "      (conv1): Conv2d(64, 64, kernel_size=(3, 3), stride=(1, 1), padding=(1, 1), bias=False)\n",
              "      (bn1): BatchNorm2d(64, eps=1e-05, momentum=0.1, affine=True, track_running_stats=True)\n",
              "      (relu): ReLU(inplace=True)\n",
              "      (conv2): Conv2d(64, 64, kernel_size=(3, 3), stride=(1, 1), padding=(1, 1), bias=False)\n",
              "      (bn2): BatchNorm2d(64, eps=1e-05, momentum=0.1, affine=True, track_running_stats=True)\n",
              "    )\n",
              "  )\n",
              "  (layer2): Sequential(\n",
              "    (0): BasicBlock(\n",
              "      (conv1): Conv2d(64, 128, kernel_size=(3, 3), stride=(2, 2), padding=(1, 1), bias=False)\n",
              "      (bn1): BatchNorm2d(128, eps=1e-05, momentum=0.1, affine=True, track_running_stats=True)\n",
              "      (relu): ReLU(inplace=True)\n",
              "      (conv2): Conv2d(128, 128, kernel_size=(3, 3), stride=(1, 1), padding=(1, 1), bias=False)\n",
              "      (bn2): BatchNorm2d(128, eps=1e-05, momentum=0.1, affine=True, track_running_stats=True)\n",
              "      (downsample): Sequential(\n",
              "        (0): Conv2d(64, 128, kernel_size=(1, 1), stride=(2, 2), bias=False)\n",
              "        (1): BatchNorm2d(128, eps=1e-05, momentum=0.1, affine=True, track_running_stats=True)\n",
              "      )\n",
              "    )\n",
              "    (1): BasicBlock(\n",
              "      (conv1): Conv2d(128, 128, kernel_size=(3, 3), stride=(1, 1), padding=(1, 1), bias=False)\n",
              "      (bn1): BatchNorm2d(128, eps=1e-05, momentum=0.1, affine=True, track_running_stats=True)\n",
              "      (relu): ReLU(inplace=True)\n",
              "      (conv2): Conv2d(128, 128, kernel_size=(3, 3), stride=(1, 1), padding=(1, 1), bias=False)\n",
              "      (bn2): BatchNorm2d(128, eps=1e-05, momentum=0.1, affine=True, track_running_stats=True)\n",
              "    )\n",
              "    (2): BasicBlock(\n",
              "      (conv1): Conv2d(128, 128, kernel_size=(3, 3), stride=(1, 1), padding=(1, 1), bias=False)\n",
              "      (bn1): BatchNorm2d(128, eps=1e-05, momentum=0.1, affine=True, track_running_stats=True)\n",
              "      (relu): ReLU(inplace=True)\n",
              "      (conv2): Conv2d(128, 128, kernel_size=(3, 3), stride=(1, 1), padding=(1, 1), bias=False)\n",
              "      (bn2): BatchNorm2d(128, eps=1e-05, momentum=0.1, affine=True, track_running_stats=True)\n",
              "    )\n",
              "    (3): BasicBlock(\n",
              "      (conv1): Conv2d(128, 128, kernel_size=(3, 3), stride=(1, 1), padding=(1, 1), bias=False)\n",
              "      (bn1): BatchNorm2d(128, eps=1e-05, momentum=0.1, affine=True, track_running_stats=True)\n",
              "      (relu): ReLU(inplace=True)\n",
              "      (conv2): Conv2d(128, 128, kernel_size=(3, 3), stride=(1, 1), padding=(1, 1), bias=False)\n",
              "      (bn2): BatchNorm2d(128, eps=1e-05, momentum=0.1, affine=True, track_running_stats=True)\n",
              "    )\n",
              "  )\n",
              "  (layer3): Sequential(\n",
              "    (0): BasicBlock(\n",
              "      (conv1): Conv2d(128, 256, kernel_size=(3, 3), stride=(2, 2), padding=(1, 1), bias=False)\n",
              "      (bn1): BatchNorm2d(256, eps=1e-05, momentum=0.1, affine=True, track_running_stats=True)\n",
              "      (relu): ReLU(inplace=True)\n",
              "      (conv2): Conv2d(256, 256, kernel_size=(3, 3), stride=(1, 1), padding=(1, 1), bias=False)\n",
              "      (bn2): BatchNorm2d(256, eps=1e-05, momentum=0.1, affine=True, track_running_stats=True)\n",
              "      (downsample): Sequential(\n",
              "        (0): Conv2d(128, 256, kernel_size=(1, 1), stride=(2, 2), bias=False)\n",
              "        (1): BatchNorm2d(256, eps=1e-05, momentum=0.1, affine=True, track_running_stats=True)\n",
              "      )\n",
              "    )\n",
              "    (1): BasicBlock(\n",
              "      (conv1): Conv2d(256, 256, kernel_size=(3, 3), stride=(1, 1), padding=(1, 1), bias=False)\n",
              "      (bn1): BatchNorm2d(256, eps=1e-05, momentum=0.1, affine=True, track_running_stats=True)\n",
              "      (relu): ReLU(inplace=True)\n",
              "      (conv2): Conv2d(256, 256, kernel_size=(3, 3), stride=(1, 1), padding=(1, 1), bias=False)\n",
              "      (bn2): BatchNorm2d(256, eps=1e-05, momentum=0.1, affine=True, track_running_stats=True)\n",
              "    )\n",
              "    (2): BasicBlock(\n",
              "      (conv1): Conv2d(256, 256, kernel_size=(3, 3), stride=(1, 1), padding=(1, 1), bias=False)\n",
              "      (bn1): BatchNorm2d(256, eps=1e-05, momentum=0.1, affine=True, track_running_stats=True)\n",
              "      (relu): ReLU(inplace=True)\n",
              "      (conv2): Conv2d(256, 256, kernel_size=(3, 3), stride=(1, 1), padding=(1, 1), bias=False)\n",
              "      (bn2): BatchNorm2d(256, eps=1e-05, momentum=0.1, affine=True, track_running_stats=True)\n",
              "    )\n",
              "    (3): BasicBlock(\n",
              "      (conv1): Conv2d(256, 256, kernel_size=(3, 3), stride=(1, 1), padding=(1, 1), bias=False)\n",
              "      (bn1): BatchNorm2d(256, eps=1e-05, momentum=0.1, affine=True, track_running_stats=True)\n",
              "      (relu): ReLU(inplace=True)\n",
              "      (conv2): Conv2d(256, 256, kernel_size=(3, 3), stride=(1, 1), padding=(1, 1), bias=False)\n",
              "      (bn2): BatchNorm2d(256, eps=1e-05, momentum=0.1, affine=True, track_running_stats=True)\n",
              "    )\n",
              "    (4): BasicBlock(\n",
              "      (conv1): Conv2d(256, 256, kernel_size=(3, 3), stride=(1, 1), padding=(1, 1), bias=False)\n",
              "      (bn1): BatchNorm2d(256, eps=1e-05, momentum=0.1, affine=True, track_running_stats=True)\n",
              "      (relu): ReLU(inplace=True)\n",
              "      (conv2): Conv2d(256, 256, kernel_size=(3, 3), stride=(1, 1), padding=(1, 1), bias=False)\n",
              "      (bn2): BatchNorm2d(256, eps=1e-05, momentum=0.1, affine=True, track_running_stats=True)\n",
              "    )\n",
              "    (5): BasicBlock(\n",
              "      (conv1): Conv2d(256, 256, kernel_size=(3, 3), stride=(1, 1), padding=(1, 1), bias=False)\n",
              "      (bn1): BatchNorm2d(256, eps=1e-05, momentum=0.1, affine=True, track_running_stats=True)\n",
              "      (relu): ReLU(inplace=True)\n",
              "      (conv2): Conv2d(256, 256, kernel_size=(3, 3), stride=(1, 1), padding=(1, 1), bias=False)\n",
              "      (bn2): BatchNorm2d(256, eps=1e-05, momentum=0.1, affine=True, track_running_stats=True)\n",
              "    )\n",
              "  )\n",
              "  (layer4): Sequential(\n",
              "    (0): BasicBlock(\n",
              "      (conv1): Conv2d(256, 512, kernel_size=(3, 3), stride=(2, 2), padding=(1, 1), bias=False)\n",
              "      (bn1): BatchNorm2d(512, eps=1e-05, momentum=0.1, affine=True, track_running_stats=True)\n",
              "      (relu): ReLU(inplace=True)\n",
              "      (conv2): Conv2d(512, 512, kernel_size=(3, 3), stride=(1, 1), padding=(1, 1), bias=False)\n",
              "      (bn2): BatchNorm2d(512, eps=1e-05, momentum=0.1, affine=True, track_running_stats=True)\n",
              "      (downsample): Sequential(\n",
              "        (0): Conv2d(256, 512, kernel_size=(1, 1), stride=(2, 2), bias=False)\n",
              "        (1): BatchNorm2d(512, eps=1e-05, momentum=0.1, affine=True, track_running_stats=True)\n",
              "      )\n",
              "    )\n",
              "    (1): BasicBlock(\n",
              "      (conv1): Conv2d(512, 512, kernel_size=(3, 3), stride=(1, 1), padding=(1, 1), bias=False)\n",
              "      (bn1): BatchNorm2d(512, eps=1e-05, momentum=0.1, affine=True, track_running_stats=True)\n",
              "      (relu): ReLU(inplace=True)\n",
              "      (conv2): Conv2d(512, 512, kernel_size=(3, 3), stride=(1, 1), padding=(1, 1), bias=False)\n",
              "      (bn2): BatchNorm2d(512, eps=1e-05, momentum=0.1, affine=True, track_running_stats=True)\n",
              "    )\n",
              "    (2): BasicBlock(\n",
              "      (conv1): Conv2d(512, 512, kernel_size=(3, 3), stride=(1, 1), padding=(1, 1), bias=False)\n",
              "      (bn1): BatchNorm2d(512, eps=1e-05, momentum=0.1, affine=True, track_running_stats=True)\n",
              "      (relu): ReLU(inplace=True)\n",
              "      (conv2): Conv2d(512, 512, kernel_size=(3, 3), stride=(1, 1), padding=(1, 1), bias=False)\n",
              "      (bn2): BatchNorm2d(512, eps=1e-05, momentum=0.1, affine=True, track_running_stats=True)\n",
              "    )\n",
              "  )\n",
              "  (avgpool): AdaptiveAvgPool2d(output_size=(1, 1))\n",
              "  (fc): Linear(in_features=512, out_features=1000, bias=True)\n",
              ")"
            ]
          },
          "metadata": {
            "tags": []
          },
          "execution_count": 55
        }
      ]
    },
    {
      "cell_type": "code",
      "metadata": {
        "id": "C-VnkSgfBrVZ"
      },
      "source": [
        "converter = T.Compose([\n",
        "    T.RandomVerticalFlip(p=1),\n",
        "    T.ColorJitter(brightness=.5, contrast=.5),\n",
        "    T.ToTensor()\n",
        "])"
      ],
      "execution_count": 56,
      "outputs": []
    },
    {
      "cell_type": "code",
      "metadata": {
        "colab": {
          "base_uri": "https://localhost:8080/"
        },
        "id": "gnLOhetfB_4n",
        "outputId": "60a20aa2-ca53-422e-c95f-a9deeb1cbce3"
      },
      "source": [
        "x = converter(img)\n",
        "# チャネル数 x 縦 x 横\n",
        "x.shape"
      ],
      "execution_count": 57,
      "outputs": [
        {
          "output_type": "execute_result",
          "data": {
            "text/plain": [
              "torch.Size([3, 109, 224])"
            ]
          },
          "metadata": {
            "tags": []
          },
          "execution_count": 57
        }
      ]
    },
    {
      "cell_type": "code",
      "metadata": {
        "colab": {
          "base_uri": "https://localhost:8080/"
        },
        "id": "tnVGNr_4CQQu",
        "outputId": "d10aa52c-b784-4c6e-f5b2-1df66b70021f"
      },
      "source": [
        "# バッチサイズ x チャネル数 x 縦 x 横に変換\n",
        "x.unsqueeze(0).shape"
      ],
      "execution_count": 58,
      "outputs": [
        {
          "output_type": "execute_result",
          "data": {
            "text/plain": [
              "torch.Size([1, 3, 109, 224])"
            ]
          },
          "metadata": {
            "tags": []
          },
          "execution_count": 58
        }
      ]
    },
    {
      "cell_type": "code",
      "metadata": {
        "colab": {
          "base_uri": "https://localhost:8080/"
        },
        "id": "V7sn2aX6CUzF",
        "outputId": "0595770a-c521-4240-96e6-c948dcb827a7"
      },
      "source": [
        "output = model(x.unsqueeze(0))\n",
        "output.shape"
      ],
      "execution_count": 59,
      "outputs": [
        {
          "output_type": "execute_result",
          "data": {
            "text/plain": [
              "torch.Size([1, 1000])"
            ]
          },
          "metadata": {
            "tags": []
          },
          "execution_count": 59
        }
      ]
    },
    {
      "cell_type": "code",
      "metadata": {
        "colab": {
          "base_uri": "https://localhost:8080/"
        },
        "id": "GSTMEHueClIt",
        "outputId": "42fe6431-fab6-45a0-b23e-e99654eddd83"
      },
      "source": [
        "# モデルの最終層を書き換え\n",
        "# 元の定義\n",
        "# (fc): Linear(in_features=512, out_features=1000, bias=True)\n",
        "model.fc = nn.Linear(in_features=512, out_features=1, bias=True)\n",
        "output = model(x.unsqueeze(0))\n",
        "output.shape"
      ],
      "execution_count": 60,
      "outputs": [
        {
          "output_type": "execute_result",
          "data": {
            "text/plain": [
              "torch.Size([1, 1])"
            ]
          },
          "metadata": {
            "tags": []
          },
          "execution_count": 60
        }
      ]
    },
    {
      "cell_type": "markdown",
      "metadata": {
        "id": "ZiTPgvVMDbjf"
      },
      "source": [
        "### 学習のスキームを定義\n",
        "\n",
        "\n",
        "1.   入力データ x をモデルに入れて出力 z を作成\n",
        "1.   x に対応する正解ラベル y と z を目的関数に入れてどのぐらいずれいているか(loss)を計算\n",
        "1.   lossの情報を元にして最適化手法によってモデルを更新\n",
        "リスト項目\n",
        "\n"
      ]
    },
    {
      "cell_type": "markdown",
      "metadata": {
        "id": "cG8UFndPOMEb"
      },
      "source": [
        "### 目的関数の定義"
      ]
    },
    {
      "cell_type": "code",
      "metadata": {
        "id": "5EPVRh81OIvF"
      },
      "source": [
        "criterion = nn.MSELoss()"
      ],
      "execution_count": 61,
      "outputs": []
    },
    {
      "cell_type": "markdown",
      "metadata": {
        "id": "O1H8SDDuOWNp"
      },
      "source": [
        "### 最適化手法の定義"
      ]
    },
    {
      "cell_type": "code",
      "metadata": {
        "id": "uc0yUzp_OV4D"
      },
      "source": [
        "from torch.optim import Adam\n",
        "\n",
        "# 最適化手法の定義. どのモデルのパラメータを更新したいか、を第一引数にする\n",
        "# lr は learning_rate の略. 正解はないのですが adam だと 1e-3 などが使われることが多いです\n",
        "optimizer = Adam(params=model.parameters(), lr=1e-3)"
      ],
      "execution_count": 62,
      "outputs": []
    },
    {
      "cell_type": "markdown",
      "metadata": {
        "id": "Xvd7PTLyOf23"
      },
      "source": [
        "### 学習のサンプル"
      ]
    },
    {
      "cell_type": "code",
      "metadata": {
        "colab": {
          "base_uri": "https://localhost:8080/"
        },
        "id": "2TVZgLUFCteD",
        "outputId": "715a4c40-2a6e-481a-c6e0-217bd72128de"
      },
      "source": [
        "# 1. データを torch.Tensor の形式で用意\n",
        "x = converter(img)\n",
        "x = x.unsqueeze(0)\n",
        "\n",
        "label = train_df['target'].iat[0]\n",
        "label = torch.Tensor([label])\n",
        "label = label.reshape(-1, 1)\n",
        "\n",
        "# 2. モデルに入れて loss を objective で計算\n",
        "output = model(x)\n",
        "loss = criterion(output, label)\n",
        "\n",
        "# 3. loss から optimizer が model を更新\n",
        "\n",
        "# zero_grad は今ある勾配の情報をリセットする関数. このあとに計算される勾配を元にして最適化される\n",
        "optimizer.zero_grad()\n",
        "\n",
        "# loss から勾配を計算\n",
        "loss.backward()\n",
        "\n",
        "# 最適化ステップを一つすすめる\n",
        "optimizer.step()\n",
        "\n",
        "print(loss.item())"
      ],
      "execution_count": 63,
      "outputs": [
        {
          "output_type": "stream",
          "text": [
            "0.7956179976463318\n"
          ],
          "name": "stdout"
        }
      ]
    },
    {
      "cell_type": "markdown",
      "metadata": {
        "id": "8Q0GAaZfO6wH"
      },
      "source": [
        "### データセット"
      ]
    },
    {
      "cell_type": "code",
      "metadata": {
        "id": "8laJ_yW-DByn"
      },
      "source": [
        "from torch.utils import data\n",
        "\n",
        "IMG_MEAN = [0.485, 0.456, 0.406]\n",
        "IMG_STD = [0.229, 0.224, 0.225]\n",
        "\n",
        "class AtmaDataset(data.Dataset):\n",
        "    \"\"\"atmaCup用にデータ読み込み等を行なうデータ・セット\"\"\"\n",
        "    object_path_key = \"object_path\"\n",
        "    label_key = \"target\"\n",
        "\n",
        "    @property\n",
        "    def meta_keys(self):\n",
        "        retval = [self.object_path_key]\n",
        "\n",
        "        if self.is_train:\n",
        "            retval += [self.label_key]\n",
        "\n",
        "        return retval\n",
        "\n",
        "    def __init__(self, meta_df: pd.DataFrame, is_train=True):\n",
        "        \"\"\"\n",
        "        args:\n",
        "            meta_df: \n",
        "                画像へのパスと label 情報が含まれている dataframe\n",
        "                必ず object_path に画像へのパス, target に正解ラベルが入っている必要があります\n",
        "\n",
        "            is_train:\n",
        "                True のとき学習用のデータ拡張を適用します.\n",
        "                False の時は単に size にリサイズを行います\n",
        "        \"\"\"\n",
        "\n",
        "        self.is_train = is_train\n",
        "        for k in self.meta_keys:\n",
        "            if k not in meta_df:\n",
        "                raise ValueError(\"meta df must have {}\".format(k))\n",
        "\n",
        "        self.meta_df = meta_df.reset_index(drop=True)\n",
        "        self.index_to_data = self.meta_df.to_dict(orient=\"index\")\n",
        "\n",
        "        size = (224, 224)\n",
        "\n",
        "        additional_items = (\n",
        "            [T.Resize(size)]\n",
        "            if not is_train\n",
        "            else [\n",
        "                T.RandomGrayscale(p=0.2),\n",
        "                T.RandomVerticalFlip(),\n",
        "                T.RandomHorizontalFlip(),\n",
        "                T.ColorJitter(\n",
        "                    brightness=0.3,\n",
        "                    contrast=0.5,\n",
        "                    saturation=[0.8, 1.3],\n",
        "                    hue=[-0.05, 0.05],\n",
        "                ),\n",
        "                T.RandomResizedCrop(size),\n",
        "            ]\n",
        "        )\n",
        "\n",
        "        self.transformer = T.Compose([\n",
        "                                      *additional_items, \n",
        "                                      T.ToTensor(), \n",
        "                                      T.Normalize(mean=IMG_MEAN, std=IMG_STD)\n",
        "                                      ])\n",
        "\n",
        "    def __getitem__(self, index):\n",
        "        data = self.index_to_data[index]\n",
        "\n",
        "        obj_path, label = data.get(self.object_path_key), data.get(self.label_key, -1)\n",
        "        img = Image.open(obj_path)\n",
        "        img = self.transformer(img)\n",
        "        return img, label\n",
        "\n",
        "    def __len__(self):\n",
        "        return len(self.meta_df)"
      ],
      "execution_count": 64,
      "outputs": []
    },
    {
      "cell_type": "code",
      "metadata": {
        "id": "epXILlNrQ2Af"
      },
      "source": [
        "train_meta_df = train_df[['target', 'object_id']].copy()\n",
        "train_meta_df['object_path'] = train_meta_df['object_id'].map(to_img_path)\n",
        "\n",
        "dataset = AtmaDataset(meta_df=train_meta_df)"
      ],
      "execution_count": 65,
      "outputs": []
    },
    {
      "cell_type": "markdown",
      "metadata": {
        "id": "1ZkmCt_WRJRr"
      },
      "source": [
        "### DataLoader"
      ]
    },
    {
      "cell_type": "code",
      "metadata": {
        "id": "oPeMS3HqpucU"
      },
      "source": [
        "NUM_WORKERS = 2"
      ],
      "execution_count": 66,
      "outputs": []
    },
    {
      "cell_type": "code",
      "metadata": {
        "id": "bUL_LalARLmI"
      },
      "source": [
        "# この場合同時に 54 個の画像に対応した tensor と label が作られる\n",
        "loader = data.DataLoader(dataset=dataset, batch_size=54, num_workers=NUM_WORKERS)"
      ],
      "execution_count": 67,
      "outputs": []
    },
    {
      "cell_type": "code",
      "metadata": {
        "colab": {
          "base_uri": "https://localhost:8080/"
        },
        "id": "kPA6N62cRQp3",
        "outputId": "5c741394-00b3-4ef5-a63f-765d42b9095b"
      },
      "source": [
        "# 確認\n",
        "for x_tensor, y in loader:\n",
        "    break\n",
        "\n",
        "# 最初の次元が先に設定した 54 になっている\n",
        "x_tensor.shape, y.shape"
      ],
      "execution_count": 68,
      "outputs": [
        {
          "output_type": "execute_result",
          "data": {
            "text/plain": [
              "(torch.Size([54, 3, 224, 224]), torch.Size([54]))"
            ]
          },
          "metadata": {
            "tags": []
          },
          "execution_count": 68
        }
      ]
    },
    {
      "cell_type": "markdown",
      "metadata": {
        "id": "SdQzp7S3RYuQ"
      },
      "source": [
        "### 学習関数"
      ]
    },
    {
      "cell_type": "code",
      "metadata": {
        "id": "uB1frvcXRSE9"
      },
      "source": [
        "# CUDA を使うので確認. google colab の場合 GPU accelerator をオンにしておいてください\n",
        "assert torch.cuda.is_available()\n",
        "DEVICE = torch.device(\"cuda\")"
      ],
      "execution_count": 69,
      "outputs": []
    },
    {
      "cell_type": "code",
      "metadata": {
        "id": "NQvh5dgyRjDA"
      },
      "source": [
        "from torch.optim.optimizer import Optimizer\n",
        "from collections import defaultdict\n",
        "\n",
        "def train(\n",
        "    model: nn.Module,\n",
        "    optimizer: Optimizer,\n",
        "    train_loader: data.DataLoader\n",
        ") -> pd.Series:\n",
        "\n",
        "    # train にすることで model 内の学習時にのみ有効な機構が有効になります (Dropouts Layers、BatchNorm Layers...)\n",
        "    model.train()\n",
        "\n",
        "    criterion = nn.MSELoss()\n",
        "\n",
        "    # ロスの値を保存する用に dict を用意\n",
        "    metrics = defaultdict(float)\n",
        "    n_iters = len(train_loader)\n",
        "\n",
        "    for i, (x_i, y_i) in enumerate(train_loader):\n",
        "        x_i = x_i.to(DEVICE)\n",
        "        y_i = y_i.to(DEVICE).reshape(-1, 1).float()\n",
        "\n",
        "        output = model(x_i)\n",
        "        loss = criterion(output, y_i)\n",
        "\n",
        "        optimizer.zero_grad()\n",
        "        loss.backward()\n",
        "        optimizer.step()\n",
        "\n",
        "        metric_i = {\n",
        "            # loss は tensor object なので item をつかって python object に戻す\n",
        "            \"loss\": loss.item()\n",
        "        }\n",
        "        for k, v in metric_i.items():\n",
        "            metrics[k] += v\n",
        "\n",
        "    for k, v in metrics.items():\n",
        "        metrics[k] /= n_iters\n",
        "\n",
        "    return pd.Series(metrics).add_prefix(\"train_\")"
      ],
      "execution_count": 70,
      "outputs": []
    },
    {
      "cell_type": "code",
      "metadata": {
        "colab": {
          "base_uri": "https://localhost:8080/"
        },
        "id": "CuuVTPVARzNs",
        "outputId": "1220fad1-0904-4dd2-89a9-229cfcdc3ec7"
      },
      "source": [
        "from vivid.utils import timer\n",
        "\n",
        "n_epochs = 10\n",
        "\n",
        "# GPU 環境で学習するため変換. この呼び出しは破壊的\n",
        "model.to(DEVICE)\n",
        "optimizer = Adam(params=model.parameters(), lr=1e-3)\n",
        "\n",
        "for epoch in range(1, n_epochs + 1):\n",
        "\n",
        "    with timer(prefix=\"train: epoch={}\".format(epoch)):\n",
        "        score_train = train(\n",
        "            model, optimizer, train_loader=loader\n",
        "        )\n",
        "    print(score_train)\n",
        "\n",
        "    # 今は1回で抜ける\n",
        "    break"
      ],
      "execution_count": 71,
      "outputs": [
        {
          "output_type": "stream",
          "text": [
            "train: epoch=1 29.170[s]\n",
            "train_loss    2.245746\n",
            "dtype: float64\n"
          ],
          "name": "stdout"
        }
      ]
    },
    {
      "cell_type": "markdown",
      "metadata": {
        "id": "DNfDPaWcSFms"
      },
      "source": [
        "### Cross Validation"
      ]
    },
    {
      "cell_type": "code",
      "metadata": {
        "id": "9w2alG4_SFAW"
      },
      "source": [
        "from sklearn.model_selection import KFold\n",
        "\n",
        "fold = KFold(n_splits=5, shuffle=True, random_state=510)\n",
        "cv = list(fold.split(X=train_df, y=train_df['target']))"
      ],
      "execution_count": 72,
      "outputs": []
    },
    {
      "cell_type": "code",
      "metadata": {
        "id": "ib1lfDrPSSmc"
      },
      "source": [
        "# 実験は最初の fold だけで考える\n",
        "# cv = cv[:1]"
      ],
      "execution_count": 73,
      "outputs": []
    },
    {
      "cell_type": "markdown",
      "metadata": {
        "id": "GSB_UTXGSkd1"
      },
      "source": [
        "### 検証"
      ]
    },
    {
      "cell_type": "code",
      "metadata": {
        "id": "ugDf_sVCSZlE"
      },
      "source": [
        "# from vivid.metrics import regression_metrics\n",
        "from sklearn.metrics import mean_squared_error\n",
        "\n",
        "def predict(model: nn.Module, loader: data.DataLoader) -> np.ndarray:\n",
        "    # train とは逆で model 内の学習時にのみ有効な機構がオフになります (Dropouts Layers、BatchNorm Layers...)\n",
        "    model.eval()\n",
        "\n",
        "    predicts = []\n",
        "\n",
        "    for x_i, y_i in loader:\n",
        "\n",
        "        # 明示的に勾配を計算しないように指定することができます. \n",
        "        # この関数ではモデルの更新はせずに単に出力だけを使いますので勾配は不要です.\n",
        "        with torch.no_grad():\n",
        "            output = model(x_i.to(DEVICE))\n",
        "\n",
        "        predicts.extend(output.data.cpu().numpy())\n",
        "\n",
        "    pred = np.array(predicts).reshape(-1)\n",
        "    return pred\n",
        "\n",
        "\n",
        "def calculate_metrics(y_true, y_pred) -> dict:\n",
        "    \"\"\"正解ラベルと予測ラベルから指標を計算する\"\"\"\n",
        "    # return regression_metrics(y_true, y_pred)\n",
        "\n",
        "    return {\n",
        "        'rmse': mean_squared_error(y_true, y_pred) ** .5\n",
        "    }\n",
        "\n",
        "\n",
        "def valid(\n",
        "    model: nn.Module, \n",
        "    y_valid: np.ndarray, \n",
        "    valid_loader: data.DataLoader\n",
        ") -> pd.Series:\n",
        "    \"\"\"検証フェーズ\n",
        "    与えられたモデル・データローダを使って検証フェーズを実行。スコアの dict と予測した値を返す\n",
        "    \"\"\"\n",
        "\n",
        "    pred = predict(model, valid_loader)\n",
        "    score = calculate_metrics(y_valid, pred)\n",
        "\n",
        "    valid_score = pd.Series(score)\n",
        "    return valid_score.add_prefix(\"valid_\"), pred"
      ],
      "execution_count": 74,
      "outputs": []
    },
    {
      "cell_type": "code",
      "metadata": {
        "id": "aYRpG0l7SzFL"
      },
      "source": [
        "from tabulate import tabulate\n",
        "\n",
        "\n",
        "def run_fold(\n",
        "    model: nn.Module, \n",
        "    train_df: pd.DataFrame, \n",
        "    valid_df: pd.DataFrame, \n",
        "    y_valid: np.ndarray, \n",
        "    output_dir: str, \n",
        "    n_epochs=30) -> np.ndarray:\n",
        "    \"\"\"\n",
        "    train / valid に分割されたデータで学習と同時に検証を行なう\n",
        "    \"\"\"\n",
        "\n",
        "    os.makedirs(output_i, exist_ok=True)\n",
        "\n",
        "    optimizer = Adam(model.parameters(), lr=1e-3)\n",
        "\n",
        "    # 0: 前準備. dataframe から data loader を作成\n",
        "    train_dataset = AtmaDataset(meta_df=train_df)\n",
        "    # 検証用の方は is_train=False にしてデータ拡張オフにする\n",
        "    valid_dataset = AtmaDataset(meta_df=valid_df, is_train=False)\n",
        "\n",
        "    train_loader = data.DataLoader(\n",
        "        train_dataset, batch_size=64, shuffle=True, drop_last=True, num_workers=NUM_WORKERS\n",
        "    )\n",
        "    valid_loader = data.DataLoader(valid_dataset, batch_size=256, num_workers=NUM_WORKERS)\n",
        "\n",
        "    # --- 保存のための変数定義\n",
        "    score_df = pd.DataFrame()\n",
        "    valid_score = np.inf\n",
        "    valid_score_key = \"valid_rmse\"\n",
        "    valid_best_pred = None\n",
        "\n",
        "    for epoch in range(1, n_epochs + 1):\n",
        "        print(f'start {epoch}')\n",
        "\n",
        "        # 1: 学習用データで学習を実行。学習時のロスを取得\n",
        "        with timer(prefix=\"train: epoch={}\".format(epoch)):\n",
        "            score_train = train(\n",
        "                model, optimizer, train_loader\n",
        "            )\n",
        "\n",
        "        # 2: 検証データでのスコアを計算\n",
        "        with timer(prefix=\"validate\"):\n",
        "            score_valid, y_valid_pred = valid(model=model, valid_loader=valid_loader, y_valid=y_valid)\n",
        "\n",
        "\n",
        "        # --- 学習のロスと検証スコアの値をデータフレームに追加\n",
        "        row = pd.concat([score_train, score_valid])\n",
        "        row[\"epoch\"] = epoch\n",
        "        row = pd.DataFrame([row])\n",
        "        print(tabulate(row, headers=row.columns))\n",
        "        score_df = pd.concat([score_df, row], ignore_index=True)\n",
        "        # ---\n",
        "\n",
        "        # 今の検証スコアと過去最高のスコアを比較\n",
        "        current_score = score_valid[valid_score_key]\n",
        "        if current_score < valid_score:\n",
        "            # スコア改善したときモデルを保存する\n",
        "            print(f'validation score is improved!! {valid_score:.4f} -> {current_score:.4f}')\n",
        "            torch.save(\n",
        "                model.state_dict(), os.path.join(output_dir, 'model_best.pth')\n",
        "            )\n",
        "            valid_score = current_score\n",
        "            valid_best_pred = y_valid_pred\n",
        "\n",
        "    score_df.to_csv(os.path.join(output_dir, 'score.csv'), index=False)\n",
        "    return valid_best_pred"
      ],
      "execution_count": 75,
      "outputs": []
    },
    {
      "cell_type": "code",
      "metadata": {
        "colab": {
          "base_uri": "https://localhost:8080/"
        },
        "id": "8NwIausCTRzJ",
        "outputId": "85e4ad92-3ba3-4077-f727-b7ff52e012aa"
      },
      "source": [
        "def get_output_dir(n_cv: int):\n",
        "    return os.path.join(output_dir, 'simple_resnet', f'cv={n_cv}')\n",
        "\n",
        "oof = np.zeros((len(train_df), ), dtype=np.float32)\n",
        "\n",
        "for i, (idx_tr, idx_valid) in enumerate(cv):\n",
        "    output_i = get_output_dir(i)\n",
        "    model = resnet34(pretrained=False)\n",
        "    model.fc = nn.Linear(in_features=512, out_features=1, bias=True)\n",
        "\n",
        "    model.to(DEVICE)\n",
        "\n",
        "    oof_i = run_fold(\n",
        "        model=model, \n",
        "        train_df=train_meta_df.iloc[idx_tr], \n",
        "        valid_df=train_meta_df.iloc[idx_valid], \n",
        "        y_valid=train_meta_df['target'].values[idx_valid],\n",
        "        output_dir=output_i,\n",
        "\n",
        "        # 今は 1 ですぐ終わるようにしている. 本当は validation score の値を見つつ適宜設定する\n",
        "        n_epochs=30\n",
        "    )\n",
        "\n",
        "    oof[idx_valid] = oof_i"
      ],
      "execution_count": 76,
      "outputs": [
        {
          "output_type": "stream",
          "text": [
            "start 1\n",
            "train: epoch=1 23.010[s]\n",
            "validate 2.978[s]\n",
            "      train_loss    valid_rmse    epoch\n",
            "--  ------------  ------------  -------\n",
            " 0       2.20462      0.989498        1\n",
            "validation score is improved!! inf -> 0.9895\n",
            "start 2\n",
            "train: epoch=2 23.121[s]\n",
            "validate 2.957[s]\n",
            "      train_loss    valid_rmse    epoch\n",
            "--  ------------  ------------  -------\n",
            " 0      0.963694       1.00419        2\n",
            "start 3\n",
            "train: epoch=3 22.941[s]\n",
            "validate 2.967[s]\n",
            "      train_loss    valid_rmse    epoch\n",
            "--  ------------  ------------  -------\n",
            " 0      0.978097       1.07585        3\n",
            "start 4\n",
            "train: epoch=4 22.865[s]\n",
            "validate 3.028[s]\n",
            "      train_loss    valid_rmse    epoch\n",
            "--  ------------  ------------  -------\n",
            " 0      0.937735      0.952955        4\n",
            "validation score is improved!! 0.9895 -> 0.9530\n",
            "start 5\n",
            "train: epoch=5 23.561[s]\n",
            "validate 2.977[s]\n",
            "      train_loss    valid_rmse    epoch\n",
            "--  ------------  ------------  -------\n",
            " 0      0.960797      0.970979        5\n",
            "start 6\n",
            "train: epoch=6 23.006[s]\n",
            "validate 2.997[s]\n",
            "      train_loss    valid_rmse    epoch\n",
            "--  ------------  ------------  -------\n",
            " 0      0.928276       1.00336        6\n",
            "start 7\n",
            "train: epoch=7 23.345[s]\n",
            "validate 3.008[s]\n",
            "      train_loss    valid_rmse    epoch\n",
            "--  ------------  ------------  -------\n",
            " 0      0.929462       1.04051        7\n",
            "start 8\n",
            "train: epoch=8 23.403[s]\n",
            "validate 3.036[s]\n",
            "      train_loss    valid_rmse    epoch\n",
            "--  ------------  ------------  -------\n",
            " 0      0.918773       1.04591        8\n",
            "start 9\n",
            "train: epoch=9 23.283[s]\n",
            "validate 3.005[s]\n",
            "      train_loss    valid_rmse    epoch\n",
            "--  ------------  ------------  -------\n",
            " 0      0.906723      0.979685        9\n",
            "start 10\n",
            "train: epoch=10 23.670[s]\n",
            "validate 2.999[s]\n",
            "      train_loss    valid_rmse    epoch\n",
            "--  ------------  ------------  -------\n",
            " 0       0.90893       1.16273       10\n",
            "start 11\n",
            "train: epoch=11 23.763[s]\n",
            "validate 2.983[s]\n",
            "      train_loss    valid_rmse    epoch\n",
            "--  ------------  ------------  -------\n",
            " 0      0.913976       1.08682       11\n",
            "start 12\n",
            "train: epoch=12 23.501[s]\n",
            "validate 3.028[s]\n",
            "      train_loss    valid_rmse    epoch\n",
            "--  ------------  ------------  -------\n",
            " 0      0.919261        1.0886       12\n",
            "start 13\n",
            "train: epoch=13 23.431[s]\n",
            "validate 3.043[s]\n",
            "      train_loss    valid_rmse    epoch\n",
            "--  ------------  ------------  -------\n",
            " 0      0.916063      0.948015       13\n",
            "validation score is improved!! 0.9530 -> 0.9480\n",
            "start 14\n",
            "train: epoch=14 23.584[s]\n",
            "validate 2.990[s]\n",
            "      train_loss    valid_rmse    epoch\n",
            "--  ------------  ------------  -------\n",
            " 0      0.894105       1.05548       14\n",
            "start 15\n",
            "train: epoch=15 22.932[s]\n",
            "validate 3.050[s]\n",
            "      train_loss    valid_rmse    epoch\n",
            "--  ------------  ------------  -------\n",
            " 0      0.894008      0.947031       15\n",
            "validation score is improved!! 0.9480 -> 0.9470\n",
            "start 16\n",
            "train: epoch=16 23.669[s]\n",
            "validate 3.004[s]\n",
            "      train_loss    valid_rmse    epoch\n",
            "--  ------------  ------------  -------\n",
            " 0      0.878416       1.09617       16\n",
            "start 17\n",
            "train: epoch=17 23.556[s]\n",
            "validate 2.994[s]\n",
            "      train_loss    valid_rmse    epoch\n",
            "--  ------------  ------------  -------\n",
            " 0      0.902439      0.993934       17\n",
            "start 18\n",
            "train: epoch=18 23.376[s]\n",
            "validate 3.022[s]\n",
            "      train_loss    valid_rmse    epoch\n",
            "--  ------------  ------------  -------\n",
            " 0      0.893862       1.00802       18\n",
            "start 19\n",
            "train: epoch=19 23.162[s]\n",
            "validate 3.010[s]\n",
            "      train_loss    valid_rmse    epoch\n",
            "--  ------------  ------------  -------\n",
            " 0       0.87054       0.98333       19\n",
            "start 20\n",
            "train: epoch=20 23.492[s]\n",
            "validate 3.025[s]\n",
            "      train_loss    valid_rmse    epoch\n",
            "--  ------------  ------------  -------\n",
            " 0      0.887567      0.998958       20\n",
            "start 21\n",
            "train: epoch=21 23.262[s]\n",
            "validate 3.013[s]\n",
            "      train_loss    valid_rmse    epoch\n",
            "--  ------------  ------------  -------\n",
            " 0      0.890406       1.05218       21\n",
            "start 22\n",
            "train: epoch=22 23.190[s]\n",
            "validate 3.014[s]\n",
            "      train_loss    valid_rmse    epoch\n",
            "--  ------------  ------------  -------\n",
            " 0      0.897517      0.911717       22\n",
            "validation score is improved!! 0.9470 -> 0.9117\n",
            "start 23\n",
            "train: epoch=23 23.472[s]\n",
            "validate 3.121[s]\n",
            "      train_loss    valid_rmse    epoch\n",
            "--  ------------  ------------  -------\n",
            " 0      0.893454      0.972826       23\n",
            "start 24\n",
            "train: epoch=24 23.084[s]\n",
            "validate 3.017[s]\n",
            "      train_loss    valid_rmse    epoch\n",
            "--  ------------  ------------  -------\n",
            " 0       0.87968       1.08975       24\n",
            "start 25\n",
            "train: epoch=25 23.094[s]\n",
            "validate 3.004[s]\n",
            "      train_loss    valid_rmse    epoch\n",
            "--  ------------  ------------  -------\n",
            " 0       0.87392       1.12831       25\n",
            "start 26\n",
            "train: epoch=26 23.451[s]\n",
            "validate 3.024[s]\n",
            "      train_loss    valid_rmse    epoch\n",
            "--  ------------  ------------  -------\n",
            " 0      0.871895      0.987572       26\n",
            "start 27\n",
            "train: epoch=27 22.848[s]\n",
            "validate 2.985[s]\n",
            "      train_loss    valid_rmse    epoch\n",
            "--  ------------  ------------  -------\n",
            " 0      0.865795      0.921341       27\n",
            "start 28\n",
            "train: epoch=28 22.764[s]\n",
            "validate 2.975[s]\n",
            "      train_loss    valid_rmse    epoch\n",
            "--  ------------  ------------  -------\n",
            " 0       0.87134       1.01003       28\n",
            "start 29\n",
            "train: epoch=29 22.895[s]\n",
            "validate 3.028[s]\n",
            "      train_loss    valid_rmse    epoch\n",
            "--  ------------  ------------  -------\n",
            " 0      0.884333       1.10649       29\n",
            "start 30\n",
            "train: epoch=30 23.053[s]\n",
            "validate 3.046[s]\n",
            "      train_loss    valid_rmse    epoch\n",
            "--  ------------  ------------  -------\n",
            " 0      0.865312       0.97209       30\n",
            "start 1\n",
            "train: epoch=1 23.021[s]\n",
            "validate 2.994[s]\n",
            "      train_loss    valid_rmse    epoch\n",
            "--  ------------  ------------  -------\n",
            " 0       1.95613       1.07009        1\n",
            "validation score is improved!! inf -> 1.0701\n",
            "start 2\n",
            "train: epoch=2 23.441[s]\n",
            "validate 3.010[s]\n",
            "      train_loss    valid_rmse    epoch\n",
            "--  ------------  ------------  -------\n",
            " 0      0.963615      0.960075        2\n",
            "validation score is improved!! 1.0701 -> 0.9601\n",
            "start 3\n",
            "train: epoch=3 23.293[s]\n",
            "validate 2.980[s]\n",
            "      train_loss    valid_rmse    epoch\n",
            "--  ------------  ------------  -------\n",
            " 0      0.947136       1.02551        3\n",
            "start 4\n",
            "train: epoch=4 23.004[s]\n",
            "validate 2.984[s]\n",
            "      train_loss    valid_rmse    epoch\n",
            "--  ------------  ------------  -------\n",
            " 0      0.939686      0.950889        4\n",
            "validation score is improved!! 0.9601 -> 0.9509\n",
            "start 5\n",
            "train: epoch=5 23.271[s]\n",
            "validate 3.010[s]\n",
            "      train_loss    valid_rmse    epoch\n",
            "--  ------------  ------------  -------\n",
            " 0      0.923173      0.948461        5\n",
            "validation score is improved!! 0.9509 -> 0.9485\n",
            "start 6\n",
            "train: epoch=6 23.332[s]\n",
            "validate 3.013[s]\n",
            "      train_loss    valid_rmse    epoch\n",
            "--  ------------  ------------  -------\n",
            " 0      0.930064      0.916618        6\n",
            "validation score is improved!! 0.9485 -> 0.9166\n",
            "start 7\n",
            "train: epoch=7 23.127[s]\n",
            "validate 2.981[s]\n",
            "      train_loss    valid_rmse    epoch\n",
            "--  ------------  ------------  -------\n",
            " 0      0.938918      0.964051        7\n",
            "start 8\n",
            "train: epoch=8 22.868[s]\n",
            "validate 3.027[s]\n",
            "      train_loss    valid_rmse    epoch\n",
            "--  ------------  ------------  -------\n",
            " 0      0.935659       1.01583        8\n",
            "start 9\n",
            "train: epoch=9 22.977[s]\n",
            "validate 2.991[s]\n",
            "      train_loss    valid_rmse    epoch\n",
            "--  ------------  ------------  -------\n",
            " 0      0.910297      0.926439        9\n",
            "start 10\n",
            "train: epoch=10 22.959[s]\n",
            "validate 3.015[s]\n",
            "      train_loss    valid_rmse    epoch\n",
            "--  ------------  ------------  -------\n",
            " 0      0.914384      0.995168       10\n",
            "start 11\n",
            "train: epoch=11 22.883[s]\n",
            "validate 3.000[s]\n",
            "      train_loss    valid_rmse    epoch\n",
            "--  ------------  ------------  -------\n",
            " 0      0.912447       1.22601       11\n",
            "start 12\n",
            "train: epoch=12 23.272[s]\n",
            "validate 2.981[s]\n",
            "      train_loss    valid_rmse    epoch\n",
            "--  ------------  ------------  -------\n",
            " 0      0.904279       1.07522       12\n",
            "start 13\n",
            "train: epoch=13 23.108[s]\n",
            "validate 2.997[s]\n",
            "      train_loss    valid_rmse    epoch\n",
            "--  ------------  ------------  -------\n",
            " 0      0.912065      0.932694       13\n",
            "start 14\n",
            "train: epoch=14 23.197[s]\n",
            "validate 2.977[s]\n",
            "      train_loss    valid_rmse    epoch\n",
            "--  ------------  ------------  -------\n",
            " 0      0.892393      0.944332       14\n",
            "start 15\n",
            "train: epoch=15 22.987[s]\n",
            "validate 2.989[s]\n",
            "      train_loss    valid_rmse    epoch\n",
            "--  ------------  ------------  -------\n",
            " 0      0.917001        0.9297       15\n",
            "start 16\n",
            "train: epoch=16 23.536[s]\n",
            "validate 3.088[s]\n",
            "      train_loss    valid_rmse    epoch\n",
            "--  ------------  ------------  -------\n",
            " 0      0.912305      0.892487       16\n",
            "validation score is improved!! 0.9166 -> 0.8925\n",
            "start 17\n",
            "train: epoch=17 23.405[s]\n",
            "validate 2.982[s]\n",
            "      train_loss    valid_rmse    epoch\n",
            "--  ------------  ------------  -------\n",
            " 0       0.91167      0.989739       17\n",
            "start 18\n",
            "train: epoch=18 23.101[s]\n",
            "validate 2.982[s]\n",
            "      train_loss    valid_rmse    epoch\n",
            "--  ------------  ------------  -------\n",
            " 0      0.923979      0.962242       18\n",
            "start 19\n",
            "train: epoch=19 22.924[s]\n",
            "validate 3.039[s]\n",
            "      train_loss    valid_rmse    epoch\n",
            "--  ------------  ------------  -------\n",
            " 0      0.906628      0.905498       19\n",
            "start 20\n",
            "train: epoch=20 23.057[s]\n",
            "validate 2.984[s]\n",
            "      train_loss    valid_rmse    epoch\n",
            "--  ------------  ------------  -------\n",
            " 0      0.906259      0.954921       20\n",
            "start 21\n",
            "train: epoch=21 23.161[s]\n",
            "validate 2.967[s]\n",
            "      train_loss    valid_rmse    epoch\n",
            "--  ------------  ------------  -------\n",
            " 0      0.892226         1.119       21\n",
            "start 22\n",
            "train: epoch=22 23.385[s]\n",
            "validate 2.967[s]\n",
            "      train_loss    valid_rmse    epoch\n",
            "--  ------------  ------------  -------\n",
            " 0      0.889628        1.0497       22\n",
            "start 23\n",
            "train: epoch=23 23.894[s]\n",
            "validate 3.096[s]\n",
            "      train_loss    valid_rmse    epoch\n",
            "--  ------------  ------------  -------\n",
            " 0        0.8977      0.894116       23\n",
            "start 24\n",
            "train: epoch=24 24.045[s]\n",
            "validate 3.092[s]\n",
            "      train_loss    valid_rmse    epoch\n",
            "--  ------------  ------------  -------\n",
            " 0       0.88157      0.914567       24\n",
            "start 25\n",
            "train: epoch=25 23.004[s]\n",
            "validate 2.974[s]\n",
            "      train_loss    valid_rmse    epoch\n",
            "--  ------------  ------------  -------\n",
            " 0      0.905979       1.18202       25\n",
            "start 26\n",
            "train: epoch=26 23.081[s]\n",
            "validate 3.037[s]\n",
            "      train_loss    valid_rmse    epoch\n",
            "--  ------------  ------------  -------\n",
            " 0       0.87866      0.889696       26\n",
            "validation score is improved!! 0.8925 -> 0.8897\n",
            "start 27\n",
            "train: epoch=27 23.503[s]\n",
            "validate 2.960[s]\n",
            "      train_loss    valid_rmse    epoch\n",
            "--  ------------  ------------  -------\n",
            " 0      0.885841      0.936615       27\n",
            "start 28\n",
            "train: epoch=28 23.183[s]\n",
            "validate 3.018[s]\n",
            "      train_loss    valid_rmse    epoch\n",
            "--  ------------  ------------  -------\n",
            " 0      0.881445      0.923799       28\n",
            "start 29\n",
            "train: epoch=29 22.926[s]\n",
            "validate 2.983[s]\n",
            "      train_loss    valid_rmse    epoch\n",
            "--  ------------  ------------  -------\n",
            " 0      0.888354      0.937828       29\n",
            "start 30\n",
            "train: epoch=30 23.097[s]\n",
            "validate 2.977[s]\n",
            "      train_loss    valid_rmse    epoch\n",
            "--  ------------  ------------  -------\n",
            " 0      0.891976       1.07378       30\n",
            "start 1\n",
            "train: epoch=1 22.995[s]\n",
            "validate 2.961[s]\n",
            "      train_loss    valid_rmse    epoch\n",
            "--  ------------  ------------  -------\n",
            " 0       2.60758      0.968039        1\n",
            "validation score is improved!! inf -> 0.9680\n",
            "start 2\n",
            "train: epoch=2 23.248[s]\n",
            "validate 3.095[s]\n",
            "      train_loss    valid_rmse    epoch\n",
            "--  ------------  ------------  -------\n",
            " 0      0.982487      0.996855        2\n",
            "start 3\n",
            "train: epoch=3 22.819[s]\n",
            "validate 3.002[s]\n",
            "      train_loss    valid_rmse    epoch\n",
            "--  ------------  ------------  -------\n",
            " 0      0.960101       1.03728        3\n",
            "start 4\n",
            "train: epoch=4 22.941[s]\n",
            "validate 2.966[s]\n",
            "      train_loss    valid_rmse    epoch\n",
            "--  ------------  ------------  -------\n",
            " 0      0.953155      0.948088        4\n",
            "validation score is improved!! 0.9680 -> 0.9481\n",
            "start 5\n",
            "train: epoch=5 23.190[s]\n",
            "validate 2.970[s]\n",
            "      train_loss    valid_rmse    epoch\n",
            "--  ------------  ------------  -------\n",
            " 0       0.94078       1.00211        5\n",
            "start 6\n",
            "train: epoch=6 22.914[s]\n",
            "validate 2.990[s]\n",
            "      train_loss    valid_rmse    epoch\n",
            "--  ------------  ------------  -------\n",
            " 0      0.926187      0.951628        6\n",
            "start 7\n",
            "train: epoch=7 23.217[s]\n",
            "validate 2.979[s]\n",
            "      train_loss    valid_rmse    epoch\n",
            "--  ------------  ------------  -------\n",
            " 0      0.938744      0.985046        7\n",
            "start 8\n",
            "train: epoch=8 22.696[s]\n",
            "validate 2.985[s]\n",
            "      train_loss    valid_rmse    epoch\n",
            "--  ------------  ------------  -------\n",
            " 0      0.916896       0.94823        8\n",
            "start 9\n",
            "train: epoch=9 22.803[s]\n",
            "validate 3.101[s]\n",
            "      train_loss    valid_rmse    epoch\n",
            "--  ------------  ------------  -------\n",
            " 0        0.9464      0.948681        9\n",
            "start 10\n",
            "train: epoch=10 22.747[s]\n",
            "validate 2.984[s]\n",
            "      train_loss    valid_rmse    epoch\n",
            "--  ------------  ------------  -------\n",
            " 0      0.911665       0.92651       10\n",
            "validation score is improved!! 0.9481 -> 0.9265\n",
            "start 11\n",
            "train: epoch=11 23.235[s]\n",
            "validate 2.958[s]\n",
            "      train_loss    valid_rmse    epoch\n",
            "--  ------------  ------------  -------\n",
            " 0      0.923991       1.03164       11\n",
            "start 12\n",
            "train: epoch=12 23.066[s]\n",
            "validate 2.960[s]\n",
            "      train_loss    valid_rmse    epoch\n",
            "--  ------------  ------------  -------\n",
            " 0      0.894339      0.935771       12\n",
            "start 13\n",
            "train: epoch=13 22.792[s]\n",
            "validate 2.973[s]\n",
            "      train_loss    valid_rmse    epoch\n",
            "--  ------------  ------------  -------\n",
            " 0      0.924265       1.05124       13\n",
            "start 14\n",
            "train: epoch=14 22.943[s]\n",
            "validate 2.986[s]\n",
            "      train_loss    valid_rmse    epoch\n",
            "--  ------------  ------------  -------\n",
            " 0       0.91216      0.971632       14\n",
            "start 15\n",
            "train: epoch=15 22.928[s]\n",
            "validate 3.006[s]\n",
            "      train_loss    valid_rmse    epoch\n",
            "--  ------------  ------------  -------\n",
            " 0      0.902879      0.934415       15\n",
            "start 16\n",
            "train: epoch=16 23.058[s]\n",
            "validate 2.966[s]\n",
            "      train_loss    valid_rmse    epoch\n",
            "--  ------------  ------------  -------\n",
            " 0      0.894856      0.946077       16\n",
            "start 17\n",
            "train: epoch=17 23.050[s]\n",
            "validate 2.990[s]\n",
            "      train_loss    valid_rmse    epoch\n",
            "--  ------------  ------------  -------\n",
            " 0      0.907225      0.916896       17\n",
            "validation score is improved!! 0.9265 -> 0.9169\n",
            "start 18\n",
            "train: epoch=18 23.103[s]\n",
            "validate 2.978[s]\n",
            "      train_loss    valid_rmse    epoch\n",
            "--  ------------  ------------  -------\n",
            " 0      0.897301      0.920559       18\n",
            "start 19\n",
            "train: epoch=19 22.878[s]\n",
            "validate 2.956[s]\n",
            "      train_loss    valid_rmse    epoch\n",
            "--  ------------  ------------  -------\n",
            " 0      0.875491      0.933364       19\n",
            "start 20\n",
            "train: epoch=20 22.855[s]\n",
            "validate 2.994[s]\n",
            "      train_loss    valid_rmse    epoch\n",
            "--  ------------  ------------  -------\n",
            " 0       0.86993       1.15441       20\n",
            "start 21\n",
            "train: epoch=21 22.942[s]\n",
            "validate 2.931[s]\n",
            "      train_loss    valid_rmse    epoch\n",
            "--  ------------  ------------  -------\n",
            " 0       0.87029       1.54642       21\n",
            "start 22\n",
            "train: epoch=22 23.104[s]\n",
            "validate 2.977[s]\n",
            "      train_loss    valid_rmse    epoch\n",
            "--  ------------  ------------  -------\n",
            " 0      0.917204       1.23875       22\n",
            "start 23\n",
            "train: epoch=23 22.894[s]\n",
            "validate 3.000[s]\n",
            "      train_loss    valid_rmse    epoch\n",
            "--  ------------  ------------  -------\n",
            " 0      0.885904      0.912266       23\n",
            "validation score is improved!! 0.9169 -> 0.9123\n",
            "start 24\n",
            "train: epoch=24 23.014[s]\n",
            "validate 3.022[s]\n",
            "      train_loss    valid_rmse    epoch\n",
            "--  ------------  ------------  -------\n",
            " 0      0.881634      0.903695       24\n",
            "validation score is improved!! 0.9123 -> 0.9037\n",
            "start 25\n",
            "train: epoch=25 23.062[s]\n",
            "validate 2.998[s]\n",
            "      train_loss    valid_rmse    epoch\n",
            "--  ------------  ------------  -------\n",
            " 0      0.862682      0.912601       25\n",
            "start 26\n",
            "train: epoch=26 22.896[s]\n",
            "validate 2.969[s]\n",
            "      train_loss    valid_rmse    epoch\n",
            "--  ------------  ------------  -------\n",
            " 0      0.879377       1.04587       26\n",
            "start 27\n",
            "train: epoch=27 22.762[s]\n",
            "validate 2.959[s]\n",
            "      train_loss    valid_rmse    epoch\n",
            "--  ------------  ------------  -------\n",
            " 0      0.871799        1.0296       27\n",
            "start 28\n",
            "train: epoch=28 23.103[s]\n",
            "validate 2.961[s]\n",
            "      train_loss    valid_rmse    epoch\n",
            "--  ------------  ------------  -------\n",
            " 0      0.921521      0.931374       28\n",
            "start 29\n",
            "train: epoch=29 23.087[s]\n",
            "validate 2.963[s]\n",
            "      train_loss    valid_rmse    epoch\n",
            "--  ------------  ------------  -------\n",
            " 0      0.857938      0.943826       29\n",
            "start 30\n",
            "train: epoch=30 23.285[s]\n",
            "validate 2.977[s]\n",
            "      train_loss    valid_rmse    epoch\n",
            "--  ------------  ------------  -------\n",
            " 0       0.88415       1.21233       30\n",
            "start 1\n",
            "train: epoch=1 22.807[s]\n",
            "validate 3.034[s]\n",
            "      train_loss    valid_rmse    epoch\n",
            "--  ------------  ------------  -------\n",
            " 0       1.97606      0.986699        1\n",
            "validation score is improved!! inf -> 0.9867\n",
            "start 2\n",
            "train: epoch=2 22.999[s]\n",
            "validate 3.059[s]\n",
            "      train_loss    valid_rmse    epoch\n",
            "--  ------------  ------------  -------\n",
            " 0      0.938234      0.995695        2\n",
            "start 3\n",
            "train: epoch=3 22.882[s]\n",
            "validate 2.983[s]\n",
            "      train_loss    valid_rmse    epoch\n",
            "--  ------------  ------------  -------\n",
            " 0      0.956281      0.929981        3\n",
            "validation score is improved!! 0.9867 -> 0.9300\n",
            "start 4\n",
            "train: epoch=4 23.139[s]\n",
            "validate 2.985[s]\n",
            "      train_loss    valid_rmse    epoch\n",
            "--  ------------  ------------  -------\n",
            " 0       0.94079      0.988637        4\n",
            "start 5\n",
            "train: epoch=5 22.881[s]\n",
            "validate 2.973[s]\n",
            "      train_loss    valid_rmse    epoch\n",
            "--  ------------  ------------  -------\n",
            " 0      0.958641      0.948199        5\n",
            "start 6\n",
            "train: epoch=6 22.806[s]\n",
            "validate 2.991[s]\n",
            "      train_loss    valid_rmse    epoch\n",
            "--  ------------  ------------  -------\n",
            " 0      0.945965      0.922386        6\n",
            "validation score is improved!! 0.9300 -> 0.9224\n",
            "start 7\n",
            "train: epoch=7 23.116[s]\n",
            "validate 3.014[s]\n",
            "      train_loss    valid_rmse    epoch\n",
            "--  ------------  ------------  -------\n",
            " 0      0.936014      0.962874        7\n",
            "start 8\n",
            "train: epoch=8 22.765[s]\n",
            "validate 2.980[s]\n",
            "      train_loss    valid_rmse    epoch\n",
            "--  ------------  ------------  -------\n",
            " 0      0.930884      0.907917        8\n",
            "validation score is improved!! 0.9224 -> 0.9079\n",
            "start 9\n",
            "train: epoch=9 22.914[s]\n",
            "validate 3.016[s]\n",
            "      train_loss    valid_rmse    epoch\n",
            "--  ------------  ------------  -------\n",
            " 0      0.950888      0.904711        9\n",
            "validation score is improved!! 0.9079 -> 0.9047\n",
            "start 10\n",
            "train: epoch=10 23.328[s]\n",
            "validate 2.991[s]\n",
            "      train_loss    valid_rmse    epoch\n",
            "--  ------------  ------------  -------\n",
            " 0      0.921287      0.911942       10\n",
            "start 11\n",
            "train: epoch=11 22.778[s]\n",
            "validate 2.942[s]\n",
            "      train_loss    valid_rmse    epoch\n",
            "--  ------------  ------------  -------\n",
            " 0       0.91311       1.03086       11\n",
            "start 12\n",
            "train: epoch=12 22.870[s]\n",
            "validate 2.966[s]\n",
            "      train_loss    valid_rmse    epoch\n",
            "--  ------------  ------------  -------\n",
            " 0      0.914436       1.08679       12\n",
            "start 13\n",
            "train: epoch=13 23.101[s]\n",
            "validate 2.998[s]\n",
            "      train_loss    valid_rmse    epoch\n",
            "--  ------------  ------------  -------\n",
            " 0      0.927181       1.03645       13\n",
            "start 14\n",
            "train: epoch=14 23.039[s]\n",
            "validate 2.988[s]\n",
            "      train_loss    valid_rmse    epoch\n",
            "--  ------------  ------------  -------\n",
            " 0      0.921101       1.09609       14\n",
            "start 15\n",
            "train: epoch=15 22.777[s]\n",
            "validate 2.952[s]\n",
            "      train_loss    valid_rmse    epoch\n",
            "--  ------------  ------------  -------\n",
            " 0      0.953649       0.93264       15\n",
            "start 16\n",
            "train: epoch=16 22.872[s]\n",
            "validate 3.036[s]\n",
            "      train_loss    valid_rmse    epoch\n",
            "--  ------------  ------------  -------\n",
            " 0      0.930372       1.14271       16\n",
            "start 17\n",
            "train: epoch=17 22.766[s]\n",
            "validate 2.933[s]\n",
            "      train_loss    valid_rmse    epoch\n",
            "--  ------------  ------------  -------\n",
            " 0       0.93003      0.917491       17\n",
            "start 18\n",
            "train: epoch=18 23.100[s]\n",
            "validate 2.978[s]\n",
            "      train_loss    valid_rmse    epoch\n",
            "--  ------------  ------------  -------\n",
            " 0       0.90419       1.01113       18\n",
            "start 19\n",
            "train: epoch=19 23.236[s]\n",
            "validate 2.970[s]\n",
            "      train_loss    valid_rmse    epoch\n",
            "--  ------------  ------------  -------\n",
            " 0      0.909849       1.03141       19\n",
            "start 20\n",
            "train: epoch=20 22.787[s]\n",
            "validate 2.997[s]\n",
            "      train_loss    valid_rmse    epoch\n",
            "--  ------------  ------------  -------\n",
            " 0      0.927363       1.00501       20\n",
            "start 21\n",
            "train: epoch=21 22.932[s]\n",
            "validate 2.996[s]\n",
            "      train_loss    valid_rmse    epoch\n",
            "--  ------------  ------------  -------\n",
            " 0      0.902187       1.06288       21\n",
            "start 22\n",
            "train: epoch=22 23.667[s]\n",
            "validate 2.999[s]\n",
            "      train_loss    valid_rmse    epoch\n",
            "--  ------------  ------------  -------\n",
            " 0      0.899018      0.911869       22\n",
            "start 23\n",
            "train: epoch=23 23.449[s]\n",
            "validate 2.954[s]\n",
            "      train_loss    valid_rmse    epoch\n",
            "--  ------------  ------------  -------\n",
            " 0      0.914108      0.902917       23\n",
            "validation score is improved!! 0.9047 -> 0.9029\n",
            "start 24\n",
            "train: epoch=24 23.351[s]\n",
            "validate 3.007[s]\n",
            "      train_loss    valid_rmse    epoch\n",
            "--  ------------  ------------  -------\n",
            " 0      0.920151       1.13285       24\n",
            "start 25\n",
            "train: epoch=25 22.688[s]\n",
            "validate 3.126[s]\n",
            "      train_loss    valid_rmse    epoch\n",
            "--  ------------  ------------  -------\n",
            " 0       0.90794      0.923941       25\n",
            "start 26\n",
            "train: epoch=26 23.055[s]\n",
            "validate 2.984[s]\n",
            "      train_loss    valid_rmse    epoch\n",
            "--  ------------  ------------  -------\n",
            " 0      0.913314       1.01757       26\n",
            "start 27\n",
            "train: epoch=27 23.069[s]\n",
            "validate 2.939[s]\n",
            "      train_loss    valid_rmse    epoch\n",
            "--  ------------  ------------  -------\n",
            " 0      0.909211      0.925915       27\n",
            "start 28\n",
            "train: epoch=28 22.984[s]\n",
            "validate 2.969[s]\n",
            "      train_loss    valid_rmse    epoch\n",
            "--  ------------  ------------  -------\n",
            " 0      0.896751      0.885965       28\n",
            "validation score is improved!! 0.9029 -> 0.8860\n",
            "start 29\n",
            "train: epoch=29 23.403[s]\n",
            "validate 2.998[s]\n",
            "      train_loss    valid_rmse    epoch\n",
            "--  ------------  ------------  -------\n",
            " 0      0.874593      0.954455       29\n",
            "start 30\n",
            "train: epoch=30 23.125[s]\n",
            "validate 2.970[s]\n",
            "      train_loss    valid_rmse    epoch\n",
            "--  ------------  ------------  -------\n",
            " 0      0.899417      0.892229       30\n",
            "start 1\n",
            "train: epoch=1 22.706[s]\n",
            "validate 3.010[s]\n",
            "      train_loss    valid_rmse    epoch\n",
            "--  ------------  ------------  -------\n",
            " 0       2.68219      0.963457        1\n",
            "validation score is improved!! inf -> 0.9635\n",
            "start 2\n",
            "train: epoch=2 23.295[s]\n",
            "validate 2.971[s]\n",
            "      train_loss    valid_rmse    epoch\n",
            "--  ------------  ------------  -------\n",
            " 0      0.958325      0.987661        2\n",
            "start 3\n",
            "train: epoch=3 22.948[s]\n",
            "validate 2.951[s]\n",
            "      train_loss    valid_rmse    epoch\n",
            "--  ------------  ------------  -------\n",
            " 0      0.960772      0.983077        3\n",
            "start 4\n",
            "train: epoch=4 22.889[s]\n",
            "validate 2.972[s]\n",
            "      train_loss    valid_rmse    epoch\n",
            "--  ------------  ------------  -------\n",
            " 0      0.943508      0.921624        4\n",
            "validation score is improved!! 0.9635 -> 0.9216\n",
            "start 5\n",
            "train: epoch=5 23.191[s]\n",
            "validate 2.989[s]\n",
            "      train_loss    valid_rmse    epoch\n",
            "--  ------------  ------------  -------\n",
            " 0      0.927527      0.964518        5\n",
            "start 6\n",
            "train: epoch=6 22.853[s]\n",
            "validate 2.984[s]\n",
            "      train_loss    valid_rmse    epoch\n",
            "--  ------------  ------------  -------\n",
            " 0      0.927435      0.940878        6\n",
            "start 7\n",
            "train: epoch=7 23.083[s]\n",
            "validate 2.985[s]\n",
            "      train_loss    valid_rmse    epoch\n",
            "--  ------------  ------------  -------\n",
            " 0      0.932181      0.925193        7\n",
            "start 8\n",
            "train: epoch=8 23.097[s]\n",
            "validate 2.973[s]\n",
            "      train_loss    valid_rmse    epoch\n",
            "--  ------------  ------------  -------\n",
            " 0      0.929851        0.9997        8\n",
            "start 9\n",
            "train: epoch=9 22.689[s]\n",
            "validate 3.099[s]\n",
            "      train_loss    valid_rmse    epoch\n",
            "--  ------------  ------------  -------\n",
            " 0      0.931302      0.931344        9\n",
            "start 10\n",
            "train: epoch=10 23.131[s]\n",
            "validate 3.128[s]\n",
            "      train_loss    valid_rmse    epoch\n",
            "--  ------------  ------------  -------\n",
            " 0      0.916094      0.916085       10\n",
            "validation score is improved!! 0.9216 -> 0.9161\n",
            "start 11\n",
            "train: epoch=11 22.948[s]\n",
            "validate 2.992[s]\n",
            "      train_loss    valid_rmse    epoch\n",
            "--  ------------  ------------  -------\n",
            " 0      0.905837       0.96417       11\n",
            "start 12\n",
            "train: epoch=12 22.759[s]\n",
            "validate 2.942[s]\n",
            "      train_loss    valid_rmse    epoch\n",
            "--  ------------  ------------  -------\n",
            " 0      0.923486       1.28651       12\n",
            "start 13\n",
            "train: epoch=13 22.933[s]\n",
            "validate 2.960[s]\n",
            "      train_loss    valid_rmse    epoch\n",
            "--  ------------  ------------  -------\n",
            " 0      0.908869      0.978444       13\n",
            "start 14\n",
            "train: epoch=14 23.241[s]\n",
            "validate 2.999[s]\n",
            "      train_loss    valid_rmse    epoch\n",
            "--  ------------  ------------  -------\n",
            " 0      0.906996      0.961088       14\n",
            "start 15\n",
            "train: epoch=15 22.889[s]\n",
            "validate 2.955[s]\n",
            "      train_loss    valid_rmse    epoch\n",
            "--  ------------  ------------  -------\n",
            " 0      0.923673       1.00344       15\n",
            "start 16\n",
            "train: epoch=16 22.907[s]\n",
            "validate 3.018[s]\n",
            "      train_loss    valid_rmse    epoch\n",
            "--  ------------  ------------  -------\n",
            " 0      0.897512      0.997908       16\n",
            "start 17\n",
            "train: epoch=17 23.074[s]\n",
            "validate 2.975[s]\n",
            "      train_loss    valid_rmse    epoch\n",
            "--  ------------  ------------  -------\n",
            " 0      0.897415      0.920651       17\n",
            "start 18\n",
            "train: epoch=18 23.120[s]\n",
            "validate 3.094[s]\n",
            "      train_loss    valid_rmse    epoch\n",
            "--  ------------  ------------  -------\n",
            " 0      0.895338      0.942098       18\n",
            "start 19\n",
            "train: epoch=19 22.731[s]\n",
            "validate 2.953[s]\n",
            "      train_loss    valid_rmse    epoch\n",
            "--  ------------  ------------  -------\n",
            " 0      0.909726      0.904219       19\n",
            "validation score is improved!! 0.9161 -> 0.9042\n",
            "start 20\n",
            "train: epoch=20 23.102[s]\n",
            "validate 2.959[s]\n",
            "      train_loss    valid_rmse    epoch\n",
            "--  ------------  ------------  -------\n",
            " 0      0.884694      0.939356       20\n",
            "start 21\n",
            "train: epoch=21 22.516[s]\n",
            "validate 2.958[s]\n",
            "      train_loss    valid_rmse    epoch\n",
            "--  ------------  ------------  -------\n",
            " 0      0.896092      0.926018       21\n",
            "start 22\n",
            "train: epoch=22 22.744[s]\n",
            "validate 2.967[s]\n",
            "      train_loss    valid_rmse    epoch\n",
            "--  ------------  ------------  -------\n",
            " 0      0.918309       1.08102       22\n",
            "start 23\n",
            "train: epoch=23 23.145[s]\n",
            "validate 3.024[s]\n",
            "      train_loss    valid_rmse    epoch\n",
            "--  ------------  ------------  -------\n",
            " 0      0.903711      0.941785       23\n",
            "start 24\n",
            "train: epoch=24 24.014[s]\n",
            "validate 3.075[s]\n",
            "      train_loss    valid_rmse    epoch\n",
            "--  ------------  ------------  -------\n",
            " 0      0.908152       1.03078       24\n",
            "start 25\n",
            "train: epoch=25 23.439[s]\n",
            "validate 2.974[s]\n",
            "      train_loss    valid_rmse    epoch\n",
            "--  ------------  ------------  -------\n",
            " 0      0.901549      0.912166       25\n",
            "start 26\n",
            "train: epoch=26 22.978[s]\n",
            "validate 2.989[s]\n",
            "      train_loss    valid_rmse    epoch\n",
            "--  ------------  ------------  -------\n",
            " 0      0.896751      0.934722       26\n",
            "start 27\n",
            "train: epoch=27 22.918[s]\n",
            "validate 2.992[s]\n",
            "      train_loss    valid_rmse    epoch\n",
            "--  ------------  ------------  -------\n",
            " 0      0.889734      0.912238       27\n",
            "start 28\n",
            "train: epoch=28 23.104[s]\n",
            "validate 2.976[s]\n",
            "      train_loss    valid_rmse    epoch\n",
            "--  ------------  ------------  -------\n",
            " 0      0.884964      0.997663       28\n",
            "start 29\n",
            "train: epoch=29 22.514[s]\n",
            "validate 2.975[s]\n",
            "      train_loss    valid_rmse    epoch\n",
            "--  ------------  ------------  -------\n",
            " 0      0.876731       1.00684       29\n",
            "start 30\n",
            "train: epoch=30 23.090[s]\n",
            "validate 3.018[s]\n",
            "      train_loss    valid_rmse    epoch\n",
            "--  ------------  ------------  -------\n",
            " 0      0.886879      0.919358       30\n"
          ],
          "name": "stdout"
        }
      ]
    },
    {
      "cell_type": "code",
      "metadata": {
        "colab": {
          "base_uri": "https://localhost:8080/"
        },
        "id": "zeYNom31Tera",
        "outputId": "46a7760f-8ab6-41cf-a968-007ccfaa7081"
      },
      "source": [
        "calculate_metrics(train_df['target'], oof)"
      ],
      "execution_count": 77,
      "outputs": [
        {
          "output_type": "execute_result",
          "data": {
            "text/plain": [
              "{'rmse': 0.89911137820463}"
            ]
          },
          "metadata": {
            "tags": []
          },
          "execution_count": 77
        }
      ]
    },
    {
      "cell_type": "code",
      "metadata": {
        "colab": {
          "base_uri": "https://localhost:8080/",
          "height": 337
        },
        "id": "ocmSVRnwTjyl",
        "outputId": "ba793221-fb66-4169-8000-1a6d276af82b"
      },
      "source": [
        "sns.distplot(oof)"
      ],
      "execution_count": 78,
      "outputs": [
        {
          "output_type": "stream",
          "text": [
            "/usr/local/lib/python3.7/dist-packages/seaborn/distributions.py:2557: FutureWarning: `distplot` is a deprecated function and will be removed in a future version. Please adapt your code to use either `displot` (a figure-level function with similar flexibility) or `histplot` (an axes-level function for histograms).\n",
            "  warnings.warn(msg, FutureWarning)\n"
          ],
          "name": "stderr"
        },
        {
          "output_type": "execute_result",
          "data": {
            "text/plain": [
              "<matplotlib.axes._subplots.AxesSubplot at 0x7fd207fdd310>"
            ]
          },
          "metadata": {
            "tags": []
          },
          "execution_count": 78
        },
        {
          "output_type": "display_data",
          "data": {
            "image/png": "[encoded data removed]",
            "text/plain": [
              "<Figure size 432x288 with 1 Axes>"
            ]
          },
          "metadata": {
            "tags": [],
            "needs_background": "light"
          }
        }
      ]
    },
    {
      "cell_type": "code",
      "metadata": {
        "id": "hsoYJ7z2ZV9Q"
      },
      "source": [
        "score_list = []\n",
        "for i in range(len(cv)):\n",
        "    score = pd.read_csv(os.path.join(get_output_dir(i), 'score.csv'))\n",
        "    score_list.append(score)"
      ],
      "execution_count": 91,
      "outputs": []
    },
    {
      "cell_type": "code",
      "metadata": {
        "id": "kp_DFMZ-9GHP"
      },
      "source": [
        "def plot_score(score_list, score_data):\n",
        "    for score in score_list:\n",
        "        plt.plot(score[score_data])"
      ],
      "execution_count": 94,
      "outputs": []
    },
    {
      "cell_type": "code",
      "metadata": {
        "colab": {
          "base_uri": "https://localhost:8080/",
          "height": 267
        },
        "id": "7srQeOhk-Rte",
        "outputId": "886681e9-8623-4d69-d86f-5ebe97d38b45"
      },
      "source": [
        "plot_score(score_list, 'train_loss')"
      ],
      "execution_count": 95,
      "outputs": [
        {
          "output_type": "display_data",
          "data": {
            "image/png": "[encoded data removed]",
            "text/plain": [
              "<Figure size 432x288 with 1 Axes>"
            ]
          },
          "metadata": {
            "tags": [],
            "needs_background": "light"
          }
        }
      ]
    },
    {
      "cell_type": "code",
      "metadata": {
        "colab": {
          "base_uri": "https://localhost:8080/",
          "height": 265
        },
        "id": "ZraQgSRK9208",
        "outputId": "c75f8d0a-0d09-46e7-ecbe-4d4bc1b9deb3"
      },
      "source": [
        "plot_score(score_list, 'valid_rmse')"
      ],
      "execution_count": 93,
      "outputs": [
        {
          "output_type": "display_data",
          "data": {
            "image/png": "[encoded data removed]",
            "text/plain": [
              "<Figure size 432x288 with 1 Axes>"
            ]
          },
          "metadata": {
            "tags": [],
            "needs_background": "light"
          }
        }
      ]
    },
    {
      "cell_type": "markdown",
      "metadata": {
        "id": "7ZDwFDjfjFLA"
      },
      "source": [
        "### Test"
      ]
    },
    {
      "cell_type": "code",
      "metadata": {
        "id": "t50mo9zdf_Hw"
      },
      "source": [
        "def create_metadata(input_df):\n",
        "    out_df = input_df[['object_id']].copy()\n",
        "    out_df['object_path'] = input_df['object_id'].map(to_img_path)\n",
        "\n",
        "    if \"target\" in input_df:\n",
        "        out_df[\"target\"] = input_df[\"target\"]\n",
        "\n",
        "    return out_df\n",
        "\n",
        "# train と似たようなことをするので、次回から楽したいとおもって `create_metadata` という関数を作りました\n",
        "test_meta_df = create_metadata(test_df)\n",
        "\n",
        "# 学習時のデータ拡張はオフにしたいので is_train=False としている\n",
        "test_dataset = AtmaDataset(meta_df=test_meta_df, is_train=False)\n",
        "test_loader = data.DataLoader(dataset=test_dataset, batch_size=128, drop_last=False, num_workers=NUM_WORKERS)"
      ],
      "execution_count": 80,
      "outputs": []
    },
    {
      "cell_type": "code",
      "metadata": {
        "colab": {
          "base_uri": "https://localhost:8080/"
        },
        "id": "TWpXGqKTjSLF",
        "outputId": "ee5a74d3-c677-4ba0-ef17-88c369436eaa"
      },
      "source": [
        "test_predictions = []\n",
        "\n",
        "for i in range(len(cv)):\n",
        "    output_i = get_output_dir(i)\n",
        "\n",
        "    model = resnet34(pretrained=False)\n",
        "    model.fc = nn.Linear(in_features=512, out_features=1, bias=True)\n",
        "\n",
        "    # 最も良かった重みを読みだす\n",
        "    # https://pytorch.org/tutorials/beginner/saving_loading_models.html\n",
        "    model_path = os.path.join(output_i, 'model_best.pth')\n",
        "\n",
        "    model.load_state_dict(torch.load(model_path))\n",
        "\n",
        "    # GPU環境で予測するため `to` で変換\n",
        "    model.to(DEVICE)\n",
        "\n",
        "    with timer(prefix=f'pred cv={i}'):\n",
        "        y_pred_i = predict(model, loader=test_loader)\n",
        "\n",
        "    test_predictions.append(y_pred_i)"
      ],
      "execution_count": 81,
      "outputs": [
        {
          "output_type": "stream",
          "text": [
            "pred cv=0 682.511[s]\n",
            "pred cv=1 16.885[s]\n",
            "pred cv=2 16.934[s]\n",
            "pred cv=3 16.940[s]\n",
            "pred cv=4 16.991[s]\n"
          ],
          "name": "stdout"
        }
      ]
    },
    {
      "cell_type": "code",
      "metadata": {
        "id": "Px7kyghRjdCH"
      },
      "source": [
        "# すべての予測の平均値を使う\n",
        "pred_mean = np.array(test_predictions).mean(axis=0)\n",
        "\n",
        "pd.DataFrame({\n",
        "    \"target\": pred_mean\n",
        "}).to_csv(os.path.join(output_dir, \"0001__submission.csv\"), index=False)"
      ],
      "execution_count": 82,
      "outputs": []
    },
    {
      "cell_type": "code",
      "metadata": {
        "colab": {
          "base_uri": "https://localhost:8080/",
          "height": 221
        },
        "id": "11rfVra97x9Q",
        "outputId": "0ca9d789-c572-4823-8c5c-753d86fb2edf"
      },
      "source": [
        "result = pd.DataFrame(pred_mean)\n",
        "print(result.shape)\n",
        "result.head()"
      ],
      "execution_count": 96,
      "outputs": [
        {
          "output_type": "stream",
          "text": [
            "(5919, 1)\n"
          ],
          "name": "stdout"
        },
        {
          "output_type": "execute_result",
          "data": {
            "text/html": [
              "<div>\n",
              "<style scoped>\n",
              "    .dataframe tbody tr th:only-of-type {\n",
              "        vertical-align: middle;\n",
              "    }\n",
              "\n",
              "    .dataframe tbody tr th {\n",
              "        vertical-align: top;\n",
              "    }\n",
              "\n",
              "    .dataframe thead th {\n",
              "        text-align: right;\n",
              "    }\n",
              "</style>\n",
              "<table border=\"1\" class=\"dataframe\">\n",
              "  <thead>\n",
              "    <tr style=\"text-align: right;\">\n",
              "      <th></th>\n",
              "      <th>0</th>\n",
              "    </tr>\n",
              "  </thead>\n",
              "  <tbody>\n",
              "    <tr>\n",
              "      <th>0</th>\n",
              "      <td>1.843189</td>\n",
              "    </tr>\n",
              "    <tr>\n",
              "      <th>1</th>\n",
              "      <td>1.890108</td>\n",
              "    </tr>\n",
              "    <tr>\n",
              "      <th>2</th>\n",
              "      <td>1.474255</td>\n",
              "    </tr>\n",
              "    <tr>\n",
              "      <th>3</th>\n",
              "      <td>1.791061</td>\n",
              "    </tr>\n",
              "    <tr>\n",
              "      <th>4</th>\n",
              "      <td>1.319280</td>\n",
              "    </tr>\n",
              "  </tbody>\n",
              "</table>\n",
              "</div>"
            ],
            "text/plain": [
              "          0\n",
              "0  1.843189\n",
              "1  1.890108\n",
              "2  1.474255\n",
              "3  1.791061\n",
              "4  1.319280"
            ]
          },
          "metadata": {
            "tags": []
          },
          "execution_count": 96
        }
      ]
    },
    {
      "cell_type": "code",
      "metadata": {
        "colab": {
          "base_uri": "https://localhost:8080/",
          "height": 336
        },
        "id": "DsuphKB67zr5",
        "outputId": "6e1eba06-71df-4cef-e63c-0440f87c30c2"
      },
      "source": [
        "sns.distplot(result)"
      ],
      "execution_count": 97,
      "outputs": [
        {
          "output_type": "stream",
          "text": [
            "/usr/local/lib/python3.7/dist-packages/seaborn/distributions.py:2557: FutureWarning: `distplot` is a deprecated function and will be removed in a future version. Please adapt your code to use either `displot` (a figure-level function with similar flexibility) or `histplot` (an axes-level function for histograms).\n",
            "  warnings.warn(msg, FutureWarning)\n"
          ],
          "name": "stderr"
        },
        {
          "output_type": "execute_result",
          "data": {
            "text/plain": [
              "<matplotlib.axes._subplots.AxesSubplot at 0x7fd0f03ff410>"
            ]
          },
          "metadata": {
            "tags": []
          },
          "execution_count": 97
        },
        {
          "output_type": "display_data",
          "data": {
            "image/png": "[encoded data removed]",
            "text/plain": [
              "<Figure size 432x288 with 1 Axes>"
            ]
          },
          "metadata": {
            "tags": [],
            "needs_background": "light"
          }
        }
      ]
    },
    {
      "cell_type": "code",
      "metadata": {
        "id": "GugmsOVF-g6J"
      },
      "source": [
        ""
      ],
      "execution_count": null,
      "outputs": []
    }
  ]
}